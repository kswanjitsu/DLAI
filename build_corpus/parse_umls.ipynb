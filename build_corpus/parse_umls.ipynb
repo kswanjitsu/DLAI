{
 "cells": [
  {
   "cell_type": "markdown",
   "id": "7a4e9777",
   "metadata": {
    "execution": {
     "iopub.execute_input": "2021-07-14T03:29:06.520414Z",
     "iopub.status.busy": "2021-07-14T03:29:06.519955Z",
     "iopub.status.idle": "2021-07-14T03:29:10.133438Z",
     "shell.execute_reply": "2021-07-14T03:29:10.132807Z",
     "shell.execute_reply.started": "2021-07-14T03:29:06.520165Z"
    },
    "pycharm": {
     "name": "#%% md\n"
    }
   },
   "source": [
    "# This is the parser for the Doctor Lingo Corpus base\n",
    "- We use UMLS as a base, which is quite complex to understand so I made this jupyter notebook as a learning tool on how we develop our corpus.\n",
    "- There is an additional pure python file to just run it and not learn.\n",
    "- DISCLAIMER: Working with the data with no understanding of underlying architecture is not the best idea.\n",
    "- I highly advise working through this if you are new to the corpus.\n",
    "\n",
    "## If you get lost on this parsing journey reference the below which is what I used.\n",
    "https://www.ncbi.nlm.nih.gov/books/NBK9676/\n",
    "\n",
    "## Conceptually for each atom aka word / word phrase we need all of the information from this chart\n",
    "https://www.nlm.nih.gov/research/umls/implementation_resources/query_diagrams/er1.html\n",
    "Keep in mind this chart diagrams the approach with SQL query language for obtaining the data for any one given atom.\n",
    "We are obtaining the same data for all atoms and storing them in distinct formats:\n",
    "- A file for all concepts, atoms, and pointers to their respective properties from MRCONSO\n",
    "- A file for all definitions in UMLS (around 400,000 definitions) from MRDEFF\n",
    "- A folder directory of files for each term's hierarchical relationships according to their sources (i.e. SNOMED \"is a\") from MRHIER\n",
    "- A folder directory of files for each term's relationships according to relationship type from MRREL\n",
    "- There are two files we skip over:\n",
    "- The MRSAT file as most of these attributes are source related and irrelevant for most NLP tasks\n",
    "- The MRSTY file, which is very important\n",
    "- However both files don't really need trimming and we can keep them in the corpus and interact with them programmatically\n",
    "- We will include the MRSAT file in the UMLS base in the event works needs to be done from on of the attributes in the link below\n",
    "- https://www.nlm.nih.gov/research/umls/knowledge_sources/metathesaurus/release/attribute_names.html\n",
    "- Semantic types are quite important to understand: https://www.nlm.nih.gov/research/umls/new_users/online_learning/OVR_003.html\n",
    "\n",
    "\n",
    "### Let's start by importing the tools we will use to parse this corpus base."
   ]
  },
  {
   "cell_type": "code",
   "execution_count": 1,
   "outputs": [
    {
     "name": "stderr",
     "output_type": "stream",
     "text": [
      "distributed.preloading - INFO - Import preload module: dask_cuda.initialize\n"
     ]
    },
    {
     "data": {
      "text/plain": "<Client: 'tcp://127.0.0.1:44449' processes=1 threads=1, memory=188.59 GiB>",
      "text/html": "\n            <div>\n                <div style=\"\n                    width: 24px;\n                    height: 24px;\n                    background-color: #e1e1e1;\n                    border: 3px solid #9D9D9D;\n                    border-radius: 5px;\n                    position: absolute;\"> </div>\n                <div style=\"margin-left: 48px;\">\n                    <h3 style=\"margin-bottom: 0px;\">Client</h3>\n                    <p style=\"color: #9D9D9D; margin-bottom: 0px;\">Client-0fa73f58-2966-11ec-93a5-18c04d84edc9</p>\n                    <table style=\"width: 100%; text-align: left;\">\n                    \n                <tr>\n                    <td style=\"text-align: left;\"><strong>Connection method:</strong> Cluster object</td>\n                    <td style=\"text-align: left;\"><strong>Cluster type:</strong> LocalCUDACluster</td>\n                </tr>\n                \n                <tr>\n                    <td style=\"text-align: left;\">\n                        <strong>Dashboard: </strong>\n                        <a href=\"http://127.0.0.1:8787/status\">http://127.0.0.1:8787/status</a>\n                    </td>\n                    <td style=\"text-align: left;\"></td>\n                </tr>\n                \n                    </table>\n                    \n                <details>\n                <summary style=\"margin-bottom: 20px;\"><h3 style=\"display: inline;\">Cluster Info</h3></summary>\n                \n            <div class=\"jp-RenderedHTMLCommon jp-RenderedHTML jp-mod-trusted jp-OutputArea-output\">\n                <div style=\"\n                    width: 24px;\n                    height: 24px;\n                    background-color: #e1e1e1;\n                    border: 3px solid #9D9D9D;\n                    border-radius: 5px;\n                    position: absolute;\"> </div>\n                <div style=\"margin-left: 48px;\">\n                    <h3 style=\"margin-bottom: 0px; margin-top: 0px;\">LocalCUDACluster</h3>\n                    <p style=\"color: #9D9D9D; margin-bottom: 0px;\">220309eb</p>\n                    <table style=\"width: 100%; text-align: left;\">\n                    \n            <tr>\n                <td style=\"text-align: left;\"><strong>Status:</strong> running</td>\n                <td style=\"text-align: left;\"><strong>Using processes:</strong> True</td>\n            </tr>\n        \n            <tr>\n                <td style=\"text-align: left;\">\n                    <strong>Dashboard:</strong> <a href=\"http://127.0.0.1:8787/status\">http://127.0.0.1:8787/status</a>\n                </td>\n                <td style=\"text-align: left;\"><strong>Workers:</strong> 1</td>\n            </tr>\n            <tr>\n                <td style=\"text-align: left;\">\n                    <strong>Total threads:</strong>\n                    1\n                </td>\n                <td style=\"text-align: left;\">\n                    <strong>Total memory:</strong>\n                    188.59 GiB\n                </td>\n            </tr>\n        \n                    </table>\n                    <details>\n                    <summary style=\"margin-bottom: 20px;\"><h3 style=\"display: inline;\">Scheduler Info</h3></summary>\n                    \n        <div style=\"\">\n            \n            <div>\n                <div style=\"\n                    width: 24px;\n                    height: 24px;\n                    background-color: #FFF7E5;\n                    border: 3px solid #FF6132;\n                    border-radius: 5px;\n                    position: absolute;\"> </div>\n                <div style=\"margin-left: 48px;\">\n                    <h3 style=\"margin-bottom: 0px;\">Scheduler</h3>\n                    <p style=\"color: #9D9D9D; margin-bottom: 0px;\">Scheduler-ed828a18-647c-45b2-bdf8-4f2122cfaee3</p>\n                    <table style=\"width: 100%; text-align: left;\">\n                        <tr>\n                            <td style=\"text-align: left;\"><strong>Comm:</strong> tcp://127.0.0.1:44449</td>\n                            <td style=\"text-align: left;\"><strong>Workers:</strong> 1</td>\n                        </tr>\n                        <tr>\n                            <td style=\"text-align: left;\">\n                                <strong>Dashboard:</strong> <a href=\"http://127.0.0.1:8787/status\">http://127.0.0.1:8787/status</a>\n                            </td>\n                            <td style=\"text-align: left;\">\n                                <strong>Total threads:</strong>\n                                1\n                            </td>\n                        </tr>\n                        <tr>\n                            <td style=\"text-align: left;\">\n                                <strong>Started:</strong>\n                                Just now\n                            </td>\n                            <td style=\"text-align: left;\">\n                                <strong>Total memory:</strong>\n                                188.59 GiB\n                            </td>\n                        </tr>\n                    </table>\n                </div>\n            </div>\n        \n            <details style=\"margin-left: 48px;\">\n            <summary style=\"margin-bottom: 20px;\"><h3 style=\"display: inline;\">Workers</h3></summary>\n            \n            <div style=\"margin-bottom: 20px;\">\n                <div style=\"width: 24px;\n                            height: 24px;\n                            background-color: #DBF5FF;\n                            border: 3px solid #4CC9FF;\n                            border-radius: 5px;\n                            position: absolute;\"> </div>\n                <div style=\"margin-left: 48px;\">\n                <details>\n                    <summary>\n                        <h4 style=\"margin-bottom: 0px; display: inline;\">Worker: 0</h4>\n                    </summary>\n                    <table style=\"width: 100%; text-align: left;\">\n                        <tr>\n                            <td style=\"text-align: left;\"><strong>Comm: </strong> tcp://127.0.0.1:32797</td>\n                            <td style=\"text-align: left;\"><strong>Total threads: </strong> 1</td>\n                        </tr>\n                        <tr>\n                            <td style=\"text-align: left;\">\n                                <strong>Dashboard: </strong>\n                                <a href=\"http://127.0.0.1:37503/status\">http://127.0.0.1:37503/status</a>\n                            </td>\n                            <td style=\"text-align: left;\">\n                                <strong>Memory: </strong>\n                                188.59 GiB\n                            </td>\n                        </tr>\n                        <tr>\n                            <td style=\"text-align: left;\"><strong>Nanny: </strong> tcp://127.0.0.1:46257</td>\n                            <td style=\"text-align: left;\"></td>\n                        </tr>\n                        <tr>\n                            <td colspan=\"2\" style=\"text-align: left;\">\n                                <strong>Local directory: </strong>\n                                /home/karl/PycharmProjects/DLAI/build_corpus/dask-worker-space/worker-5dgje5yd\n                            </td>\n                        </tr>\n                        \n                <tr>\n                    <td style=\"text-align: left;\">\n                        <strong>GPU: </strong>NVIDIA GeForce RTX 3090\n                    </td>\n                    <td style=\"text-align: left;\">\n                        <strong>GPU memory: </strong>\n                        23.69 GiB\n                    </td>\n                </tr>\n                \n                        \n                    </table>\n                </details>\n                </div>\n            </div>\n            \n            </details>\n        </div>\n        \n                    </details>\n                </div>\n            </div>\n        \n                </details>\n                \n                </div>\n            </div>\n        "
     },
     "execution_count": 1,
     "metadata": {},
     "output_type": "execute_result"
    }
   ],
   "source": [
    "from dask.distributed import Client\n",
    "from dask_cuda import LocalCUDACluster\n",
    "import dask_cudf as dcf\n",
    "import cudf as cdf\n",
    "import dask.dataframe as ddf\n",
    "cluster = LocalCUDACluster(CUDA_VISIBLE_DEVICES=\"0\")\n",
    "client = Client(cluster)\n",
    "client.run(cdf.set_allocator, \"managed\")\n",
    "client\n"
   ],
   "metadata": {
    "collapsed": false,
    "pycharm": {
     "name": "#%%\n"
    }
   }
  },
  {
   "cell_type": "markdown",
   "source": [
    "# 1. Find all atoms of a UMLS concepts and create a lookup dataframe/table\n",
    "- In UMLS atoms represent synonyms that map to a concept and definition.\n",
    "- The only time an atom will map to the same concept but different definition is if it is a language difference.\n",
    "- For example a single concept may have 3 definitions for 3 different languages, English, French, Spanish.\n",
    "- The corresponding atoms will map to that concept, because a concept should be conserved across languages, but...\n",
    "- Because definitions must be translated across languages, we may have only certain atoms of the same language map to its respective definition.\n",
    "\n",
    "## We want to create a lookup dataframe for any concept in UMLS with pointers for all properties stored in other files\n",
    "- We do this by using the MRCONSO file.\n",
    "- MRCONSO is named for CONcepts and SOurces.\n",
    "- It has a unique row for each atom's identifier, AUI, and string STR that maps to the respective concept, CUI (1st index)\n",
    "\n",
    "# Briefly let's review the structure of MRCONSO\n",
    "\n",
    "|Col. |\tDescription |\n",
    "| --- | ----------- |\n",
    "| CUI |\tUnique identifier for concept |\n",
    "| LAT |\tLanguage of term |\n",
    "| TS |\tTerm status |\n",
    "| LUI |\tUnique identifier for term. |\n",
    "| STT |\tString type. PF: preferred form of term, VCW: case and word-order variant of preferred term, VC: case variant of preferred term, VO: Variant of the preferred form, VW: word order variant of preferred term |\n",
    "| SUI |\tUnique identifier for string |\n",
    "| ISPREF | Atom status - preferred (Y) or not (N) for this string within this concept |\n",
    "| AUI |\tUnique identifier for atom - variable length field, 8 or 9 characters|\n",
    "| SAUI | Source asserted atom identifier [optional] |\n",
    "| SCUI | Source asserted concept identifier [optional] |\n",
    "| SDUI | Source asserted descriptor identifier [optional] |\n",
    "| SAB |\tAbbreviated source name (SAB). Maximum field length is 20 alphanumeric characters. Two source abbreviations are assigned: Root Source Abbreviation (RSAB) — short form, no version information, for example, AI/RHEUM, 1993, has an RSAB of \"AIR\" Versioned Source Abbreviation (VSAB) — includes version information, for example, AI/RHEUM, 1993, has an VSAB of \"AIR93\" Official source names, RSABs, and VSABs are included on the UMLS Source Vocabulary Documentation page.|\n",
    "| TTY |\tAbbreviation for term type in source vocabulary, for example PN (Metathesaurus Preferred Name) or CD (Clinical Drug). Possible values are listed on the Abbreviations Used in Data Elements page. |\n",
    "| CODE | Most useful source asserted identifier (if the source vocabulary has more than one identifier), or a Metathesaurus-generated source entry identifier (if the source vocabulary has none) |\n",
    "| STR |\tString |\n",
    "| SRL |\tSource restriction level |\n",
    "| SUPPRESS | Suppressible flag. Values = O, E, Y, or N. O: All obsolete content, whether they are obsolesced by the source or by NLM. These will include all atoms having obsolete TTYs, and other atoms becoming obsolete that have not acquired an obsolete TTY (e.g. RxNorm SCDs no longer associated with current drugs, LNC atoms derived from obsolete LNC concepts). E: Non-obsolete content marked suppressible by an editor. These do not have a suppressible SAB/TTY combination. Non-obsolete content deemed suppressible during inversion. These can be determined by a specific SAB/TTY combination explicitly listed in MRRANK. N: None of the above. Default suppressibility as determined by NLM (i.e., no changes at the Suppressibility tab in MetamorphoSys) should be used by most users, but may not be suitable in some specialized applications. See the MetamorphoSys Help page for information on how to change the SAB/TTY suppressibility to suit your requirements. NLM strongly recommends that users not alter editor-assigned suppressibility, and MetamorphoSys cannot be used for this purpose. |\n",
    "| CVF |\tContent View Flag. Bit field used to flag rows included in Content View. This field is a varchar field to maximize the number of bits available for use. |\n",
    "\n",
    "\n",
    "### We are interested in keeping columns CUI, LAT, LUI, STT, AUI, SAB, TTY, CODE - so we are able to drop 10 out of 18 rows\n",
    "- We will not return the dataframe with columns in order as above.\n",
    "- We will instead use the order:\n",
    "- **CUI, AUI, STR, LAT, LUI, STT, TTY, CODE**\n",
    "\n",
    "### Why do we keep these columns?\n",
    "- We keep CUI and AUI because it is important to be able to map the identifiers of words / phrases to various properties.\n",
    "- We keep STR for obvious reasons, it is the actual English word for a given AUI / atom that maps to a concept.\n",
    "- We keep LAT to be able to get terms from any language we choose.\n",
    "- We keep LUI as these are used as lexical elements for a word in a given word phrase i.e. cardiac structures, has two words: cardiac and structures\n",
    "- We keep STT to know what is the preferred term or not for this concept, or if it is some variation of the same, i.e. synonyms to preferred term\n",
    "- We keep TTY for broad categories of terms i.e. CD is a clinical drug\n",
    "- We keep CODE as it was the sources original identifier"
   ],
   "metadata": {
    "collapsed": false,
    "pycharm": {
     "name": "#%% md\n"
    }
   }
  },
  {
   "cell_type": "code",
   "execution_count": 10,
   "outputs": [],
   "source": [
    "\n",
    "# Read the UMLS MRCONSO file into GPU memory with dask_cudf\n",
    "mrconso_columns = ['CUI','LAT','TS','LUI','STT','SUI','ISPREF','AUI','SAUI','SCUI','SDUI','SAB','TTY','CODE','STR','SRL','SUPPRESS','CVF']\n",
    "mrconso = dcf.read_csv(\n",
    "    \"/home/karl/PycharmProjects/DLAI/datasets/UMLS/MRCONSO.RRF\",\n",
    "    sep=\"|\",\n",
    "    names=mrconso_columns,\n",
    "    #chunksize=\"1 GB\"\n",
    ")\n",
    "\n",
    "# we switch the dataframe from dask_cudf to cudf for manipulation of strings (only supported in cudf)\n",
    "mrconso = mrconso.compute()\n",
    "\n",
    "# we select the functional columns that we need for our corpus and make a new cudf dataframe\n",
    "mrconso = cdf.DataFrame({\n",
    "    'concept_identifier': mrconso['CUI'],\n",
    "    'atom_identifier': mrconso['AUI'],\n",
    "    'atom_word_phrase': mrconso['STR'],\n",
    "    'language': mrconso['LAT'],\n",
    "    'word unit identifier': mrconso['LUI'],\n",
    "    'preferred_or_variant': mrconso['STT'],\n",
    "    'general_category': mrconso['TTY'],\n",
    "    'source_identifier': mrconso['CODE'],\n",
    "\n",
    "})\n",
    "\n",
    "mrconso.to_csv('/home/karl/PycharmProjects/DLAI/corpus/UMLS_base/UMLS_all_concepts_and_synonyms_with_property_pointers.csv', sep='|', single_file=True)\n"
   ],
   "metadata": {
    "collapsed": false,
    "pycharm": {
     "name": "#%%\n"
    }
   }
  },
  {
   "cell_type": "markdown",
   "source": [
    "# 2. Find all source definitions associated with a UMLS concept.\n",
    "- This part is a bit easier. MRDEF appropriately named containts definitions for all concepts.\n",
    "- Conceptually it should make sense that a concept can have its own unique definition shared by synonyms aka atoms.\n",
    "- This script just builds the corpus aka the lookup files for all properties of each concept, i.e. synonyms, relationships, attributes, etc.\n",
    "- There are scripts that help access the data from each look up file separate from this.\n",
    "- That is, to interact with this corpus you should see ... files and usage in the README\n",
    "\n",
    "## On to creating useable output for each definition for each concept in UMLS"
   ],
   "metadata": {
    "collapsed": false,
    "pycharm": {
     "name": "#%% md\n"
    }
   }
  },
  {
   "cell_type": "code",
   "execution_count": 12,
   "outputs": [],
   "source": [
    "# Read in the MRDEF file to a dask-cuDF dataframe\n",
    "mrdef_columns = ['CUI','AUI','ATUI','SATUI','SAB','DEF','SUPPRESS','CVF']\n",
    "mrdef = dcf.read_csv(\n",
    "    \"/home/karl/PycharmProjects/DLAI/datasets/UMLS/MRDEF.RRF\",\n",
    "    sep=\"|\",\n",
    "    names=mrdef_columns,\n",
    "    dtype=str\n",
    ")\n",
    "\n",
    "mrdef = mrdef.compute()\n",
    "\n",
    "# We don't need a lot of the info stored in MRDEF as we already have it in our\n",
    "mrdef = cdf.DataFrame({\n",
    "    'concept_identifier': mrdef['CUI'],\n",
    "    'atom_identifier': mrdef['AUI'],\n",
    "    'DEF': mrdef['DEF']\n",
    "})\n",
    "\n",
    "mrdef.to_csv('/home/karl/PycharmProjects/DLAI/corpus/UMLS_base/UMLS_all_definitions.csv', sep='|', singlefile=True)"
   ],
   "metadata": {
    "collapsed": false,
    "pycharm": {
     "name": "#%%\n"
    }
   }
  },
  {
   "cell_type": "markdown",
   "source": [
    "# 3. Find all concept hierarchies for atoms per source\n",
    "## This is where we start to get a little fancy, but appropriate for an NLP corpus\n",
    "## We will now begin parsing out all of the relationships, attributes, etc. aka all properties for each concept\n",
    "## We will keep all possible syntactic and semantic properties from the UMLS\n",
    "\n",
    "- This is a bit challenging as these properties are stored across various files.\n",
    "- The first file we work with is MRHIER, short for hierarchy.\n",
    "- This stores the hierarchichal properties for each atom (also has CUI for mapping).\n",
    "- We want to pull this data out and store each hierarchy as a file for the source.\n",
    "- For example, SNOMEDCT_US is a source, so is MeSH (MSH), we will create separate look up files for each source.\n",
    "- We do this for ease of use when wanting to navigate hierarchical structures, which are properties for terms.\n",
    "- One such property being \"isa\" from SNOMEDCT_US, this property is very similar to hypernymy, an important linguistic property."
   ],
   "metadata": {
    "collapsed": false,
    "pycharm": {
     "name": "#%% md\n"
    }
   }
  },
  {
   "cell_type": "code",
   "execution_count": 4,
   "outputs": [
    {
     "name": "stdout",
     "output_type": "stream",
     "text": [
      "['MSH', 'SNMI', 'MSHSWE', 'MSHCZE', 'MSHPOR', 'MSHFIN', 'MSHJPN', 'LNC', 'MSHPOL', 'MSHFRE', 'MSHGER', 'MSHITA', 'MSHRUS', 'MSHSPA', 'SNM', 'SNOMEDCT_US', 'SCTSPA', 'RCD', 'CSP', 'PSY', 'MSHSCR', 'MSHNOR', 'AOD', 'CPM', 'NCI', 'MEDCIN', 'ATC', 'USPMG', 'CST', 'UWDA', 'OMIM', 'FMA', 'MSHLAV', 'HL7V2.5', 'ICD10', 'ICD10AM', 'MDR', 'MDRITA', 'MDRJPN', 'MDRCZE', 'KCD5', 'ICD10CM', 'MDRHUN', 'MDRGER', 'MDRRUS', 'MDRKOR', 'MDRBPO', 'MDRPOR', 'MDRSPA', 'MDRDUT', 'MDRFRE', 'NOC', 'HPO', 'ICPC', 'ICPC2EENG', 'WHO', 'CCS', 'MEDLINEPLUS', 'ICNP', 'ICD9CM', 'NEU', 'NCBI', 'PCDS', 'MED-RT', 'HL7V3.0', 'AIR', 'GO', 'CCC', 'PDQ', 'UMD', 'NIC', 'ALT', 'ICF', 'ICF-CY', 'CCSR_ICD10PCS', 'OMS', 'CPT', 'CDT', 'HCPCS', 'NANDA-I', 'PNDS', 'ICD10PCS', 'AOT', 'SOP', 'PPAC', 'TKMT']\n",
      "86\n"
     ]
    }
   ],
   "source": [
    "# We should know all sources in our current UMLS subset.\n",
    "# This current DL subset includes all available data for all terms per the open license\n",
    "# MRHIER for us has ~86 sources as of 2021AA UMLS\n",
    "\n",
    "source_list = []\n",
    "for line in open('/home/karl/PycharmProjects/DLAI/datasets/UMLS/MRHIER.RRF', 'r'):\n",
    "    linesplit = line.split('|')\n",
    "    source = linesplit[4]\n",
    "    if source not in source_list:\n",
    "        source_list.append(source)\n",
    "print(source_list)\n",
    "print(len(source_list))\n",
    "\n",
    "# Now we can iterate over these sources and create unique files for them by selecting row in the dataframe from said source\n"
   ],
   "metadata": {
    "collapsed": false,
    "pycharm": {
     "name": "#%%\n"
    }
   }
  },
  {
   "cell_type": "markdown",
   "source": [
    "# Keep in mind pretty much all data in MRHIER file is required to retain\n",
    "It's rows are labeled as follows:\n",
    "\n",
    "| Column\t| Description |\n",
    " ---------- | ----------- |\n",
    "| CUI\t| Unique identifier of concept |\n",
    "| AUI\t| Unique identifier of atom (synonyms) - variable length field, 8 or 9 characters |\n",
    "| CXN\t| Context number (e.g., 1, 2, 3) aka the number of level in the hierarchy for a given atom in a hierarchy |\n",
    "| PAUI | Unique identifier of atom's immediate parent within this context |\n",
    "| SAB\t| Abbreviated source name (SAB) of the source of atom (and therefore of hierarchical context). Maximum field length is 20 alphanumeric characters. Two source abbreviations are assigned: Root Source Abbreviation (RSAB) — short form, no version information, for example, AI/RHEUM, 1993, has an RSAB of \"AIR\" Versioned Source Abbreviation (VSAB) — includes version information, for example, AI/RHEUM, 1993, has an VSAB of \"AIR93\" Official source names, RSABs, and VSABs are included on the UMLS Source Vocabulary Documentation page. |\n",
    "| RELA | Relationship of atom to its immediate parent (i.e. \"is a\") |\n",
    "| PTR\t| Path to the top or root of the hierarchical context from this atom, represented as a list of AUIs, separated by periods (.) The first one in the list is top of the hierarchy; the last one in the list is the immediate parent of the atom, which also appears as the value of PAUI. |\n",
    "| HCD\t| Source asserted hierarchical number or code for this atom in this context; this field is only populated when it is different from the code (unique identifier or code for the string in that source). |\n",
    "| CVF\t| Content View Flag. Bit field used to flag rows included in Content View. This field is a varchar field to maximize the number of bits available for use. |\n",
    "\n",
    "### We are most interested in the atoms and the \"PTR\" or path to root as this is how you can build out the hierarchy property for any given atom.\n",
    "Therefore we parse it out as described above, with a file for every source and keeping all columns to work with in the future as needed.\n",
    "This way if you are ever interested in a particular hierarchical relationship, you can referece the link below and pull the data needed.\n",
    "https://www.nlm.nih.gov/research/umls/sourcereleasedocs/index.html\n"
   ],
   "metadata": {
    "collapsed": false,
    "pycharm": {
     "name": "#%% md\n"
    }
   }
  },
  {
   "cell_type": "code",
   "execution_count": 6,
   "outputs": [],
   "source": [
    "# Since we do some transformation to the dataframe and write it immediately without creating a dataframe,\n",
    "# We do not get the chance to rename the columns as we did in previous steps.\n",
    "# mrhier_columns = ['CUI','REL_AUI','CXN','PAUI','SAB','HIER_RELA','PTR','HCD','CVF']\n",
    "# So instead of using the above columns as named in UMLS we do the renaming at the start.\n",
    "mrhier_columns = ['concept_identifier','REL_AUI','CXN','PAUI','SAB','HIER_RELA','PTR','HCD','CVF']\n",
    "\n",
    "mrhier = dcf.read_csv(\n",
    "    '/home/karl/PycharmProjects/DLAI/datasets/UMLS/MRHIER.RRF',\n",
    "    sep = '|',\n",
    "    names=mrhier_columns,\n",
    "    dtype='str',\n",
    ")\n",
    "\n",
    "for source in source_list:\n",
    "    match_df = mrhier[mrhier['SAB'].str.match(str(source))]\n",
    "    match_df = match_df.reset_index()\n",
    "    file_name = '/home/karl/PycharmProjects/DLAI/corpus/UMLS_base/all_hierarchies/{src}_hierarchy.csv'.format(src = source)\n",
    "    match_df.to_csv(file_name, sep='|', single_file=True)\n"
   ],
   "metadata": {
    "collapsed": false,
    "pycharm": {
     "name": "#%%\n"
    }
   }
  },
  {
   "cell_type": "markdown",
   "source": [
    "# 4. Find all \"natural\" direction relationships for a given concept\n",
    "- Again, like MRHIER, almost all columns are important to retain all relationship properties from UMLS.\n",
    "- From the below columns we can get rid of SUPPRESS, CVF at least.\n",
    "- mrrel_columns = ['CUI1','AUI1','STYPE1','REL','CUI','AUI','STYPE2','RELA','RUI','SRUI','SAB','SL','RG','DIR','SUPPRESS','CVF']\n"
   ],
   "metadata": {
    "collapsed": false
   }
  },
  {
   "cell_type": "code",
   "execution_count": 2,
   "outputs": [
    {
     "name": "stdout",
     "output_type": "stream",
     "text": [
      "['', 'translation_of', 'sort_version_of', 'entry_version_of', 'permuted_term_of', 'mapped_to', 'associated_with', 'has_permuted_term', 'has_translation', 'has_sort_version', 'has_entry_version', 'has_transliterated_form', 'has_component', 'inverse_isa', 'has_measured_component', 'same_as', 'measures', 'parent_of', 'form_of', 'transliterated_form_of', 'disposition_of', 'exhibited_by', 'see_from', 'see', 'entry_combination_of', 'mapped_from', 'has_causative_agent', 'used_for', 'use', 'isa', 'replaces', 'replaced_by', 'has_direct_substance', 'subset_includes_concept', 'has_ingredient', 'has_tradename', 'mapping_qualifier_of', 'contains', 'active_ingredient_of', 'has_active_ingredient', 'has_active_moiety', 'has_member', 'has_basis_of_strength_substance', 'has_precise_active_ingredient', 'tradename_of', 'may_be_prevented_by', 'may_be_treated_by', 'has_contraindicated_drug', 'has_part', 'physiologic_effect_of', 'mechanism_of_action_of', 'therapeutic_class_of', 'lab_number_of', 'chemotherapy_regimen_has_component', 'mth_has_xml_form', 'mth_has_plain_text_form', 'mth_xml_form_of', 'mth_plain_text_form_of', 'structural_class_of', 'has_inactive_ingredient', 'contraindicated_class_of', 'has_free_acid_or_base_form', 'has_contraindicated_class', 'has_fragments_for_synonyms', 'is_biochemical_function_of_gene_product', 'gene_product_has_chemical_classification', 'has_process_output', 'has_form', 'has_precise_ingredient', 'has_salt_form', 'has_modification', 'metabolic_site_of', 'has_active_metabolites', 'role_played_by', 'is_physiologic_effect_of_chemical_or_drug', 'is_mechanism_of_action_of_chemical_or_drug', 'is_modification_of', 'possibly_equivalent_to', 'has_expanded_form', 'expanded_form_of', 'part_of', 'adjectival_form_of', 'has_location', 'noun_form_of', 'related_part', 'has_regional_part', 'regional_part_of', 'constitutional_part_of', 'has_system', 'analyzes', 'has_answer', 'has_imaged_location', 'has_finding_site', 'has_direct_procedure_site', 'has_procedure_site', 'has_indirect_procedure_site', 'entire_anatomy_structure_of', 'has_specimen_source_topography', 'contraindicated_with_disease', 'location_of', 'primary_mapped_to', 'classified_as', 'classifies', 'default_inpatient_classification_of', 'default_outpatient_classification_of', 'moved_from', 'temporal_context_of', 'finding_context_of', 'subject_relationship_context_of', 'associated_finding_of', 'finding_site_of', 'definitional_manifestation_of', 'has_focus', 'alternative_of', 'has_defining_characteristic', 'is_interpreted_by', 'has_manifestation', 'ssc', 'clinically_associated_with', 'has_associated_finding', 'associated_morphology_of', 'finding_method_of', 'co-occurs_with', 'disease_may_have_finding', 'pathological_process_of', 'may_treat', 'has_multi_level_category', 'has_single_level_category', 'related_to', 'evaluation_of', 'has_alternative', 'was_a', 'has_definitional_manifestation', 'primary_mapped_from', 'member_of', 'has_constitutional_part', 'referred_to_by', 'has_physical_part_of_anatomic_structure', 'is_location_of_anatomic_structure', 'has_nerve_supply', 'anatomic_structure_is_physical_part_of', 'disease_has_associated_anatomic_site', 'gene_found_in_organism', 'manifestation_of', 'inheritance_type_of', 'alias_of', 'has_alias', 'has_phenotype', 'has_occurrence', 'due_to', 'mth_has_british_form', 'mth_british_form_of', 'has_associated_morphology', 'has_direct_morphology', 'has_risk_factor', 'inverse_was_a', 'has_pathology', 'has_indirect_morphology', 'has_procedure_morphology', 'disease_excludes_finding', 'disease_has_finding', 'has_mapping_qualifier', 'may_prevent', 'has_entry_combination', 'interpretation_of', 'induces', 'occurs_after', 'cause_of', 'clinical_course_of', 'course_of', 'occurs_before', 'ddx', 'causative_agent_of', 'procedure_site_of', 'intent_of', 'method_of', 'other_mapped_to', 'other_mapped_from', 'is_associated_anatomic_site_of', 'is_finding_of_disease', 'is_primary_anatomic_site_of_disease', 'is_object_guidance_for', 'has_possibly_included_pathology', 'has_specimen_source_morphology', 'refers_to', 'gene_associated_with_disease', 'branch_of', 'interprets', 'is_location_of_biological_process', 'has_imaging_focus', 'laterality_of', 'has_device_intended_site', 'has_possibly_included_procedure_site', 'has_structural_class', 'pharmacokinetics_of', 'enzyme_metabolizes_chemical_or_drug', 'has_contraindicated_physiologic_effect', 'has_contraindicated_mechanism_of_action', 'uses', 'uses_substance', 'dose_form_of', 'has_divisor', 'gene_product_plays_role_in_biological_process', 'gene_plays_role_in_process', 'process_includes_biological_process', 'may_be_diagnosed_by', 'may_diagnose', 'is_normal_tissue_origin_of_disease', 'precise_ingredient_of', 'gene_encodes_gene_product', 'biological_process_involves_gene_product', 'process_initiates_biological_process', 'clinically_similar', 'direct_procedure_site_of', 'has_branch', 'disease_has_primary_anatomic_site', 'is_normal_cell_origin_of_disease', 'disease_may_have_associated_disease', 'disease_has_associated_disease', 'gene_mapped_to_disease', 'has_associated_etiologic_finding', 'associated_etiologic_finding_of', 'part_anatomy_structure_of', 'is_associated_anatomy_of_gene_product', 'gene_product_has_biochemical_function', 'negatively_regulates', 'positively_regulates', 'regulates', 'modifies', 'device_used_by', 'direct_device_of', 'used_by', 'onset_of', 'default_mapped_from', 'default_mapped_to', 'uniquely_mapped_from', 'uniquely_mapped_to', 'consider', 'is_structural_domain_or_motif_of_gene_product', 'has_gene_product_element', 'gene_product_malfunction_associated_with_disease', 'is_not_finding_of_disease', 'is_abnormal_cell_of_disease', 'eo_disease_maps_to_human_disease', 'is_not_abnormal_cell_of_disease', 'is_not_primary_anatomic_site_of_disease', 'excised_anatomy_has_procedure', 'target_anatomy_has_procedure', 'has_associated_procedure', 'has_method', 'procedure_has_excised_anatomy', 'procedure_has_partially_excised_anatomy', 'may_be_finding_of_disease', 'is_not_normal_cell_origin_of_disease', 'may_be_molecular_abnormality_of_disease', 'gene_involved_in_pathogenesis_of_disease', 'may_be_cytogenetic_abnormality_of_disease', 'is_not_normal_tissue_origin_of_disease', 'has_challenge', 'has_given_pharmaceutical_substance', 'is_chemical_classification_of_gene_product', 'has_parent', 'chemical_or_drug_affects_gene_product', 'associated_with_malfunction_of_gene_product', 'biological_process_has_result_chemical_or_drug', 'has_direct_device', 'uses_device', 'has_possibly_included_procedure_device', 'gene_product_expressed_in_tissue', 'disease_has_normal_tissue_origin', 'diagnostic_criteria_of', 'has_diagnostic_criteria', 'route_of_administration_of', 'direct_substance_of', 'indirect_procedure_site_of', 'has_route_of_administration', 'has_at_risk_population', 'occurs_in', 'subject_of_information_of', 'disease_excludes_normal_tissue_origin', 'disease_has_metastatic_anatomic_site', 'disease_excludes_primary_anatomic_site', 'procedure_may_have_excised_anatomy', 'has_ctdc_value', 'gene_product_has_associated_anatomy', 'is_associated_disease_of', 'has_specimen_procedure', 'associated_procedure_of', 'is_organism_source_of_gene_product', 'has_patient_type', 'has_recipient_category', 'place_traveled_to', 'has_conceptual_part', 'conceptual_part_of', 'has_associated_observation', 'component_of', 'has_measurement_method', 'biological_process_results_from_biological_process', 'is_not_cytogenetic_abnormality_of_disease', 'is_not_molecular_abnormality_of_disease', 'uses_possibly_included_substance', 'has_specimen_substance', 'has_possibly_included_associated_finding', 'has_related_factor', 'process_output_of', 'property_of', 'characterized_by', 'has_associated_condition', 'has_sign_or_symptom', 'has_dose_form', 'realization_of', 'temporally_followed_by', 'tissue_is_expression_site_of_gene_product', 'gene_product_affected_by_chemical_or_drug', 'has_clinician_form', 'icd_dagger', 'life_circumstance_of', 'disease_has_normal_cell_origin', 'clinician_form_of', 'consumer_friendly_form_of', 'specimen_of', 'specialty_of', 'do_not_code_with', 'measured_component_of', 'has_consumer_friendly_form', 'active_metabolites_of', 'severity_of', 'substance_used_by', 'temporally_follows', 'derives', 'access_instrument_of', 'access_of', 'approach_of', 'instrumentation_of', 'partially_excised_anatomy_has_procedure', 'completely_excised_anatomy_has_procedure', 'has_pcdc_aml_permissable_value', 'has_pcdc_aml_permissible_value', 'receives_input_from', 'sends_output_to', 'projects_from', 'arterial_supply_of', 'is_exam_for', 'focus_of', 'chemical_or_drug_initiates_biological_process', 'biological_process_is_part_of_process', 'consider_from', 'loinc_number_of', 'parent_group_of', 'has_property', 'has_default_inpatient_classification', 'has_default_outpatient_classification', 'multiply_mapped_to', 'has_british_form', 'british_form_of', 'may_be_abnormal_cell_of_disease', 'associated_procedure_of_excluded', 'associated_procedure_of_possibly_included', 'during', 'disease_has_cytogenetic_abnormality', 'disease_may_have_molecular_abnormality', 'disease_may_have_cytogenetic_abnormality', 'direct_morphology_of', 'has_excluded_associated_finding', 'has_excluded_pathology', 'lymphatic_drainage_of', 'inheres_in', 'has_therapeutic_class', 'biological_process_has_initiator_chemical_or_drug', 'has_suffix', 'mth_expanded_form_of', 'mth_has_expanded_form', 'chemical_or_drug_has_physiologic_effect', 'allele_plays_role_in_metabolism_of_chemical_or_drug', 'biological_process_has_associated_location', 'is_pcdc_aml_permissible_value_for_variable', 'pcdc_aml_permissible_value_of', 'pcdc_data_type_of', 'procedure_has_completely_excised_anatomy', 'defining_characteristic_of', 'population_at_risk_for', 'related_factor_of', 'actual_outcome_of', 'expected_outcome_of', 'anterior_to', 'continuous_proximally_with', 'continuous_with', 'distal_to', 'proximal_to', 'lateral_to', 'anterolateral_to', 'direct_right_of', 'superior_to', 'surrounds', 'direct_left_of', 'inferior_to', 'medial_to', 'posterior_to', 'anatomic_structure_has_location', 'receives_attachment_from', 'complex_has_physical_part', 'nerve_supply_of', 'venous_drainage_of', 'receives_drainage_from', 'develops_into', 'bounds', 'related_object', 'has_excluded_procedure_site', 'adheres_to', 'gene_product_is_physical_part_of', 'has_specimen_source_identity', 'homonym_for', 'procedure_has_target_anatomy', 'has_finding_method', 'access_device_used_by', 'anteroinferior_to', 'attaches_to', 'induced_by', 'has_pharmaceutical_route', 'measured_by', 'finding_informer_of', 'special_category_includes_neoplasm', 'associated_genetic_condition', 'may_be_associated_disease_of_disease', 'is_molecular_abnormality_of_disease', 'articulates_with', 'has_view_type', 'has_direct_site', 'tributary_of', 'has_tributary', 'drains_into', 'connection_type_of', 'is_target', 'chemical_or_drug_affects_cell_type_or_tissue', 'biological_process_has_result_anatomy', 'gene_product_has_organism_source', 'is_action_guidance_for', 'manufactures', 'genetic_biomarker_related_to', 'has_target', 'chromosome_mapped_to_disease', 'ingredient_of', 'biomarker_type_includes_gene_product', 'is_marked_by_gene_product', 'multiply_mapped_from', 'gene_product_variant_of_gene_product', 'has_device_characteristic', 'gene_product_is_biomarker_type', 'has_compositional_material', 'diagnosed_by', 'has_possibly_included_method', 'has_excluded_method', 'inverse_during', 'has_inherent_attribute', 'technique_of', 'scale_type_of', 'process_duration_of', 'time_aspect_of', 'continuous_distally_with', 'associated_disease', 'homonym_of', 'sign_or_symptom_of', 'has_class', 'has_associated_function', 'property_type_of', 'has_panel_element', 'has_procedure_device', 'has_indirect_device', 'concept_in_subset', 'has_multipart', 'has_property_type', 'has_possibly_included_component', 'has_entire_anatomy_structure', 'add_on_code_for', 'is_grade_of_disease', 'is_stage_of_disease', 'relative_to_part_of', 'energy_used_by', 'gene_product_is_biomarker_of', 'has_arterial_supply', 'procedure_device_of', 'procedure_context_of', 'specimen_source_topography_of', 'specimen_substance_of', 'specimen_procedure_of', 'has_specimen', 'uses_excluded_substance', 'has_supersystem', 'pharmaceutical_state_of_matter_of', 'pharmaceutical_basic_dose_form_of', 'state_of_matter_of', 'has_basic_dose_form', 'relative_to', 'regimen_has_accepted_use_for_disease', 'associated_condition_of', 'priority_of', 'gene_is_biomarker_of', 'has_print_name', 'print_name_of', 'exhibits', 'gene_product_is_element_in_pathway', 'gene_is_element_in_pathway', 'biological_process_has_initiator_process', 'biological_process_has_result_biological_process', 'surrounded_by', 'has_subject_relationship_context', 'has_finding_informer', 'prev_name_of', 'prev_symbol_of', 'has_prev_name', 'has_prev_symbol', 'method_of_possibly_included', 'role_has_domain', 'gene_has_abnormality', 'is_ctdc_value_of', 'role_has_range', 'disease_mapped_to_chromosome', 'cytogenetic_abnormality_involves_chromosome', 'gene_in_chromosomal_location', 'has_lab_number', 'wound_has_communication_with', 'has_interpretation', 'pathology_of', 'has_pathological_process', 'has_subject_of_information', 'recipient_category_of', 'extent_of', 'has_result', 'anatomy_originated_from_biological_process', 'has_context_binding', 'supported_concept_property_in', 'supported_concept_relationship_in', 'context_binding_of', 'icd_asterisk', 'disease_may_have_normal_cell_origin', 'has_projection', 'receives_projection', 'has_venous_drainage', 'has_common_name', 'common_name_of', 'class_of', 'fragments_for_synonyms_of', 'analyzed_by', 'uses_access_device', 'effect_may_be_inhibited_by', 'indirect_morphology_of', 'has_modality_subtype', 'secondary_segmental_supply_of', 'segmental_supply_of', 'primary_segmental_supply_of', 'anteromedial_to', 'has_adherent', 'derives_from', 'uses_energy', 'has_excluded_procedure_device', 'has_germ_origin', 'has_access_instrument', 'chemical_or_drug_is_product_of_biological_process', 'measurement_method_of', 'disease_excludes_normal_cell_origin', 'adjacent_to', 'procedure_has_imaged_anatomy', 'matures_into', 'surgical_extent_of', 'method_of_excluded', 'has_evaluation', 'disease_excludes_metastatic_anatomic_site', 'pharmaceutical_intended_site_of', 'pharmaceutical_transformation_of', 'pharmaceutical_administration_method_of', 'pharmaceutical_release_characteristics_of', 'basic_dose_form_of', 'dose_form_intended_site_of', 'dose_form_administration_method_of', 'dose_form_release_characteristic_of', 'dose_form_transformation_of', 'device_intended_site_of', 'transforms_into', 'has_subject', 'is_related_to_endogenous_product', 'biological_process_involves_chemical_or_drug', 'may_inhibit_effect_of', 'disease_has_abnormal_cell', 'disease_may_have_abnormal_cell', 'connected_to', 'procedure_may_have_completely_excised_anatomy', 'has_pharmaceutical_state_of_matter', 'has_state_of_matter', 'procedure_morphology_of', 'regulated_by', 'chemical_or_drug_has_mechanism_of_action', 'organism_has_gene', 'process_involves_gene', 'gene_product_encoded_by_gene', 'related_to_genetic_biomarker', 'molecular_abnormality_involves_gene', 'is_chromosomal_location_of_gene', 'disease_mapped_to_gene', 'pathogenesis_of_disease_involves_gene', 'disease_excludes_abnormal_cell', 'endogenous_product_related_to', 'owning_affiliate_of', 'procedure_site_of_possibly_included', 'posterosuperior_to', 'associated_observation_of', 'is_abnormality_of_gene_product', 'has_locale', 'surgical_approach_of', 'gene_product_has_structural_domain_or_motif', 'has_mechanism_of_action', 'has_excluded_patient_type', 'has_pharmaceutical_intended_site', 'is_metastatic_anatomic_site_of_disease', 'has_instrumentation', 'is_cytogenetic_abnormality_of_disease', 'has_modality_type', 'projects_to', 'excised_anatomy_may_have_procedure', 'class_code_classified_by', 'owning_subsection_of', 'happens_during', 'reformulation_of', 'developmental_stage_of', 'has_related_developmental_entity', 'development_type_of', 'related_developmental_entity_of', 'transforms_from', 'is_abnormality_of_gene', 'chromosomal_location_of_allele', 'disease_has_associated_gene', 'has_procedure_context', 'inherent_3d_shape_of', 'has_specialty', 'contained_in', 'has_grade', 'has_possibly_included_patient_type', 'cell_type_or_tissue_affected_by_chemical_or_drug', 'has_aggregation_view', 'disease_excludes_cytogenetic_abnormality', 'chromosome_involved_in_cytogenetic_abnormality', 'gene_involved_in_molecular_abnormality', 'has_access', 'has_technique', 'doseformgroup_of', 'anterosuperior_to', 'has_add_on_code', 'continuation_branch_of', 'direct_site_of', 'moved_to', 'has_owning_subsection', 'owning_section_of', 'revision_status_of', 'characterizes', 'posteroinferior_to', 'procedure_may_have_partially_excised_anatomy', 'result_of', 'has_filling', 'classifies_class_code', 'has_ingredients', 'origin_of', 'insertion_of', 'efferent_to', 'afferent_to', 'temporally_related_to', 'product_monograph_title_of', 'gene_is_biomarker_type', 'has_owning_affiliate', 'has_physiologic_state', 'chemical_or_drug_plays_role_in_biological_process', 'posteromedial_to', 'full_grown_phenotype_of', 'is_component_of_chemotherapy_regimen', 'disease_has_accepted_treatment_with_regimen', 'count_of_base_of_active_ingredient_of', 'allelic_variant_of', 'allele_has_abnormality', 'eo_anatomy_is_associated_with_eo_disease', 'chemical_or_drug_affects_abnormal_cell', 'completely_excised_anatomy_may_have_procedure', 'partially_excised_anatomy_may_have_procedure', 'has_excluded_locale', 'has_doseformgroup', 'compositional_material_of', 'inactive_ingredient_of', 'active_moiety_of', 'constitutes', 'ingredients_of', 'risk_factor_of', 'indirect_device_of', 'may_be_normal_cell_origin_of_disease', 'episodicity_of', 'has_revision_status', 'has_approach', 'has_surgical_approach', 'has_possibly_included_approach', 'has_priority', 'contraindicated_mechanism_of_action_of', 'has_excluded_specimen', 'device_characteristic_of', 'has_actual_outcome', 'has_expected_outcome', 'modified_by', 'has_time_aspect', 'has_pharmaceutical_administration_method', 'procedure_device_of_possibly_included', 'substance_used_by_possibly_included', 'procedure_device_of_excluded', 'pathology_of_excluded', 'pathology_of_possibly_included', 'has_excluded_associated_procedure', 'procedure_site_of_excluded', 'substance_used_by_excluded', 'surgical_extent_of_possibly_included', 'surgical_extent_of_excluded', 'patient_type_of', 'approach_of_possibly_included', 'has_possibly_included_associated_procedure', 'has_intent', 'locale_of', 'associated_finding_of_possibly_included', 'panel_element_of', 'specimen_of_excluded', 'has_possibly_included_panel_element', 'has_severity', 'disease_is_grade', 'eo_disease_has_property_or_attribute', 'has_lateral_anatomic_location', 'has_laterality', 'has_extent', 'has_surgical_extent', 'is_approach_guidance_for', 'has_inherent_3d_shape', 'has_course', 'has_temporal_context', 'has_clinical_course', 'has_lateral_location_presence', 'has_finding_context', 'has_possibly_included_surgical_extent', 'has_surface_characteristic', 'has_onset', 'has_count_of_base_of_active_ingredient', 'has_concentration_strength_denominator_value', 'has_presentation_strength_denominator_value', 'has_presentation_strength_numerator_value', 'has_concentration_strength_numerator_value', 'has_count_of_active_ingredient', 'has_count', 'count_of_active_ingredient_of', 'has_excluded_approach', 'has_scale_type', 'has_stage', 'disease_has_molecular_abnormality', 'disease_excludes_molecular_abnormality', 'is_not_metastatic_anatomic_site_of_disease', 'version_of', 'has_origin', 'has_insertion', 'right_lateral_to', 'right_medial_to', 'left_lateral_to', 'left_medial_to', 'bounded_by', 'has_part_anatomy_structure', 'external_to', 'has_continuation_branch', 'has_inherent_location', 'has_lymphatic_drainage', 'develops_from', 'merges_with', 'fuses_with', 'has_product_characteristic', 'has_precondition', 'has_pcdc_data_type', 'has_inheritance_type', 'may_be_qualified_by', 'neoplasm_has_special_category', 'has_excluded_component', 'basis_of_strength_substance_of', 'precise_active_ingredient_of', 'concentration_strength_denominator_value_of', 'concentration_strength_numerator_unit_of', 'concentration_strength_denominator_unit_of', 'concentration_strength_numerator_value_of', 'has_quantified_form', 'has_product_monograph_title', 'consists_of', 'presentation_strength_denominator_value_of', 'presentation_strength_numerator_unit_of', 'presentation_strength_numerator_value_of', 'presentation_strength_denominator_unit_of', 'unit_of_presentation_of', 'physiologic_state_of', 'manufactured_by', 'has_process_duration', 'has_episodicity', 'has_realization', 'has_timing_of', 'system_of', 'scale_of', 'includes', 'included_in', 'quantified_form_of', 'has_archetype', 'has_loinc_number', 'suffix_of', 'multipart_of', 'divisor_of', 'answer_to', 'supersystem_of', 'challenge_of', 'adjustment_of', 'count_of', 'approach_of_excluded', 'patient_type_of_excluded', 'associated_finding_of_excluded', 'route_of_administration_of_possibly_included', 'component_of_possibly_included', 'panel_element_of_possibly_included', 'component_of_excluded', 'precondition_of', 'associated_function_of', 'specimen_source_morphology_of', 'includes_sub_specimen', 'has_scale', 'has_presentation_strength_numerator_unit', 'has_concentration_strength_numerator_unit', 'has_concentration_strength_denominator_unit', 'has_units', 'has_presentation_strength_denominator_unit', 'has_time_modifier', 'has_excluded_surgical_extent', 'disease_is_stage', 'specimen_source_identity_of', 'has_ingredient_characteristic', 'has_supported_concept_property', 'has_adjustment', 'stage_of', 'time_modifier_of', 'inferolateral_to', 'posterolateral_to', 'inferomedial_to', 'superomedial_to', 'superolateral_to', 'chemical_or_drug_is_metabolized_by_enzyme', 'has_physiologic_effect', 'contraindicated_physiologic_effect_of', 'is_subject_of', 'is_imaged_location_for', 'has_exam', 'is_modality_type_for', 'has_communication_with_wound', 'has_connection_type', 'abnormal_cell_affected_by_chemical_or_drug', 'has_data_element', 'allele_plays_altered_role_in_process', 'treated_by', 'forms', 'has_full_grown_phenotype', 'filling_of', 'has_disposition', 'allele_in_chromosomal_location', 'biomarker_type_includes_gene', 'anatomical_entity_observed_in', 'segmental_composition_of', 'internal_to', 'is_imaging_focus_of', 'is_timing_for', 'is_pharmaceutical_route_for', 'is_given_pharmaceutical_substance_for', 'is_modality_subtype_for', 'is_presence_of_lateral_location', 'is_lateral_anatomic_location_of', 'is_aggregation_view_of', 'has_object_guidance', 'has_action_guidance', 'has_presence_guidance', 'is_view_type_for', 'has_approach_guidance', 'pathway_has_gene_element', 'disease_is_marked_by_gene', 'diagnoses', 'treats', 'degree_of', 'has_degree', 'has_version', 'positively_regulated_by', 'negatively_regulated_by', 'inverse_ends_during', 'ends_during', 'has_segmental_supply', 'has_secondary_segmental_supply', 'has_primary_segmental_supply', 'has_segmental_composition', 'germ_origin_of', 'has_direct_cell_shape', 'direct_cell_shape_of', 'formed_by', 'fusion_of', 'may_qualify', 'has_dose_form_intended_site', 'imaged_anatomy_has_procedure', 'inverse_happens_during', 'part_referred_to_by', 'is_physical_location_of_gene', 'site_of_metabolism', 'has_pharmacokinetics', 'has_ctcae_5_parent', 'ctcae_5_parent_of', 'phenotype_of', 'has_allelic_variant', 'archetype_of', 'human_disease_maps_to_eo_disease', 'route_of_administration_of_excluded', 'is_property_or_attribute_of_eo_disease', 'gene_product_sequence_variation_encoded_by_gene_mutant', 'eo_disease_has_associated_eo_anatomy', 'gene_product_has_abnormality', 'cell_type_is_associated_with_eo_disease', 'gene_has_physical_location', 'allele_absent_from_wild-type_chromosomal_location', 'eo_disease_has_associated_cell_type', 'has_possibly_included_route_of_administration', 'has_excluded_route_of_administration', 'has_dose_form_administration_method', 'smaller_than', 'larger_than', 'reformulated_to', 'value_set_is_paired_with', 'abnormality_associated_with_allele', 'process_altered_by_allele', 'activity_of_allele', 'allele_has_activity', 'kind_is_domain_of', 'kind_is_range_of', 'role_is_parent_of', 'chemical_or_drug_metabolism_is_associated_with_allele', 'chromosomal_location_of_wild-type_gene', 'role_has_parent', 'qualifier_applies_to', 'is_qualified_by', 'is_paired_with_value_set', 'has_pharmaceutical_transformation', 'is_presence_guidance_for', 'grade_of', 'place_traveled_from', 'inherent_location_of', 'locale_of_excluded', 'patient_type_of_possibly_included', 'plays_role', 'has_supported_concept_relationship', 'has_owning_section', 'gene_product_has_gene_product_variant', 'gene_mutant_encodes_gene_product_sequence_variation', 'data_element_of', 'dependent_of', 'has_dependent', 'has_life_circumstance', 'sub_specimen_included_by', 'has_developmental_stage', 'corresponds_to', 'matures_from', 'has_fusion', 'has_observed_anatomical_entity', 'has_development_type', 'has_unit_of_presentation', 'has_pharmaceutical_basic_dose_form', 'has_dose_form_transformation', 'has_dose_form_release_characteristic', 'surface_characteristic_of', 'inc_parent_of', 'has_inc_parent', 'has_pharmaceutical_release_characteristics', 'units_of', 'has_parent_group', 'product_characteristic_of', 'inverse_relative_to', 'ingredient_characteristic_of']\n",
      "977\n"
     ]
    }
   ],
   "source": [
    "# First let's do some cleaning and file generation to work with in the future as described above\n",
    "\n",
    "# We should know all sources in our current UMLS subset (DL subset includes all available per the open license ~86 as of 2021AA UMLS)\n",
    "rel_list = []\n",
    "for line in open('/home/karl/PycharmProjects/DLAI/datasets/UMLS/MRREL.RRF', 'r'):\n",
    "    linesplit = line.split('|')\n",
    "    rel = linesplit[7]\n",
    "    if rel not in rel_list:\n",
    "        rel_list.append(rel)\n",
    "print(rel_list)\n",
    "print(len(rel_list))"
   ],
   "metadata": {
    "collapsed": false,
    "pycharm": {
     "name": "#%%\n"
    }
   }
  },
  {
   "cell_type": "markdown",
   "source": [
    "### Note: In MRREL, the REL/RELA always expresses the nature of the relationship from CUI2 to the \"current concept\", CUI1.\n",
    "**For this reason we label the CUI2 column to CUI, this is because of the above as noted in UMLS docs.**\n",
    "A way to conceptualize this is an example relationship as below.\n",
    "\n",
    "- C0000039|A0016515|AUI1|SY|C0000039|A13096036|AUI|translation_of|R73331672||MSHPOR|MSHPOR|||N||\n",
    "- mrrel_columns = ['CUI1','AUI1','STYPE1','REL','CUI2','AUI2','STYPE2','RELA','RUI','SRUI','SAB','SL','RG','DIR','SUPPRESS','CVF']\n",
    "\n",
    "\n",
    "- The 0th column is the CUI1, the 4th column is the CUI2.\n",
    "- CUI2 is a translation of CUI1. We consider CUI1 the parent node in this relationship.\n",
    "- Thus we must rename CUI2 as CUI, as all pointers from the other files refer to this column in this file.\n",
    "- mrrel_columns = ['CUI1','AUI1','STYPE1','REL','CUI','AUI','STYPE2','RELA','RUI','SRUI','SAB','SL','RG','DIR','SUPPRESS','CVF']\n",
    "\n",
    "\n",
    "- We store the file in our corpus in this fashion as this represents the syntactic natural direction of the relationship in English.\n",
    "- We additionally store the AUIs in this manner.\n",
    "- The parse of this file will take about 26 minutes"
   ],
   "metadata": {
    "collapsed": false,
    "pycharm": {
     "name": "#%% md\n"
    }
   }
  },
  {
   "cell_type": "code",
   "source": [
    "mrrel_columns = ['CUI1','AUI1','STYPE1','REL','CUI','AUI','STYPE2','RELA','RUI','SRUI','SAB','SL','RG','DIR','SUPPRESS','CVF']\n",
    "mrrel= dcf.read_csv(\n",
    "    '/home/karl/PycharmProjects/DLAI/datasets/UMLS/MRREL.RRF',\n",
    "    sep = '|',\n",
    "    names=mrrel_columns,\n",
    "    dtype='str',\n",
    ")\n",
    "\n",
    "for rel in rel_list:\n",
    "    if rel == '':\n",
    "        match_df = mrrel[mrrel['RELA'].str.match(str(rel))]\n",
    "        match_df = match_df.reset_index()\n",
    "        rel = 'rel_with_no_name'\n",
    "        file_name = '/home/karl/PycharmProjects/DLAI/corpus/UMLS_base/all_relationships/{relationship}_hierarchy.csv'.format(relationship = rel)\n",
    "        match_df.to_csv(file_name, sep='|', single_file=True)\n",
    "    else:\n",
    "        match_df = mrrel[mrrel['RELA'].str.match(str(rel))]\n",
    "        match_df = match_df.reset_index()\n",
    "        file_name = '/home/karl/PycharmProjects/DLAI/corpus/UMLS_base/all_relationships/{relationship}_hierarchy.csv'.format(relationship = rel)\n",
    "        match_df.to_csv(file_name, sep='|', single_file=True)"
   ],
   "metadata": {
    "collapsed": false,
    "pycharm": {
     "name": "#%%\n"
    }
   },
   "execution_count": 5,
   "outputs": []
  },
  {
   "cell_type": "markdown",
   "source": [
    "# That's it, you've built the UMLS corpus base\n",
    "Now we need to build a data retrieval programmatic interface for the corpus base.\n",
    "The first data we are interested in building retrieval for is the \"is a\" relationships stored in the relationship directory of the corpus.\n",
    "We will want to store these as a hypernymy stand in in the DL portion of the corpus for our hypernymy look up table.\n",
    "\n"
   ],
   "metadata": {
    "collapsed": false,
    "pycharm": {
     "name": "#%% md\n"
    }
   }
  }
 ],
 "metadata": {
  "kernelspec": {
   "display_name": "saturn (Python 3)",
   "language": "python",
   "name": "python3"
  },
  "language_info": {
   "codemirror_mode": {
    "name": "ipython",
    "version": 3
   },
   "file_extension": ".py",
   "mimetype": "text/x-python",
   "name": "python",
   "nbconvert_exporter": "python",
   "pygments_lexer": "ipython3",
   "version": "3.7.10"
  }
 },
 "nbformat": 4,
 "nbformat_minor": 5
}