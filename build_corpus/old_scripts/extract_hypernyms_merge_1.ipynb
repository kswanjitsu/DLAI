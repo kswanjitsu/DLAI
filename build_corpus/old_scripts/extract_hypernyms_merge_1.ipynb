{
 "cells": [
  {
   "cell_type": "code",
   "execution_count": 1,
   "id": "7a4e9777",
   "metadata": {
    "execution": {
     "iopub.execute_input": "2021-07-14T03:29:06.520414Z",
     "iopub.status.busy": "2021-07-14T03:29:06.519955Z",
     "iopub.status.idle": "2021-07-14T03:29:10.133438Z",
     "shell.execute_reply": "2021-07-14T03:29:10.132807Z",
     "shell.execute_reply.started": "2021-07-14T03:29:06.520165Z"
    }
   },
   "outputs": [
    {
     "name": "stderr",
     "output_type": "stream",
     "text": [
      "distributed.preloading - INFO - Import preload module: dask_cuda.initialize\n"
     ]
    },
    {
     "data": {
      "text/plain": "<Client: 'tcp://127.0.0.1:45069' processes=1 threads=1, memory=188.59 GiB>",
      "text/html": "\n            <div>\n                <div style=\"\n                    width: 24px;\n                    height: 24px;\n                    background-color: #e1e1e1;\n                    border: 3px solid #9D9D9D;\n                    border-radius: 5px;\n                    position: absolute;\"> </div>\n                <div style=\"margin-left: 48px;\">\n                    <h3 style=\"margin-bottom: 0px;\">Client</h3>\n                    <p style=\"color: #9D9D9D; margin-bottom: 0px;\">Client-6291fde4-23c5-11ec-8b2b-18c04d84edc9</p>\n                    <table style=\"width: 100%; text-align: left;\">\n                    \n                <tr>\n                    <td style=\"text-align: left;\"><strong>Connection method:</strong> Cluster object</td>\n                    <td style=\"text-align: left;\"><strong>Cluster type:</strong> LocalCUDACluster</td>\n                </tr>\n                \n                <tr>\n                    <td style=\"text-align: left;\">\n                        <strong>Dashboard: </strong>\n                        <a href=\"http://127.0.0.1:8787/status\">http://127.0.0.1:8787/status</a>\n                    </td>\n                    <td style=\"text-align: left;\"></td>\n                </tr>\n                \n                    </table>\n                    \n                <details>\n                <summary style=\"margin-bottom: 20px;\"><h3 style=\"display: inline;\">Cluster Info</h3></summary>\n                \n            <div class=\"jp-RenderedHTMLCommon jp-RenderedHTML jp-mod-trusted jp-OutputArea-output\">\n                <div style=\"\n                    width: 24px;\n                    height: 24px;\n                    background-color: #e1e1e1;\n                    border: 3px solid #9D9D9D;\n                    border-radius: 5px;\n                    position: absolute;\"> </div>\n                <div style=\"margin-left: 48px;\">\n                    <h3 style=\"margin-bottom: 0px; margin-top: 0px;\">LocalCUDACluster</h3>\n                    <p style=\"color: #9D9D9D; margin-bottom: 0px;\">6036d611</p>\n                    <table style=\"width: 100%; text-align: left;\">\n                    \n            <tr>\n                <td style=\"text-align: left;\"><strong>Status:</strong> running</td>\n                <td style=\"text-align: left;\"><strong>Using processes:</strong> True</td>\n            </tr>\n        \n            <tr>\n                <td style=\"text-align: left;\">\n                    <strong>Dashboard:</strong> <a href=\"http://127.0.0.1:8787/status\">http://127.0.0.1:8787/status</a>\n                </td>\n                <td style=\"text-align: left;\"><strong>Workers:</strong> 1</td>\n            </tr>\n            <tr>\n                <td style=\"text-align: left;\">\n                    <strong>Total threads:</strong>\n                    1\n                </td>\n                <td style=\"text-align: left;\">\n                    <strong>Total memory:</strong>\n                    188.59 GiB\n                </td>\n            </tr>\n        \n                    </table>\n                    <details>\n                    <summary style=\"margin-bottom: 20px;\"><h3 style=\"display: inline;\">Scheduler Info</h3></summary>\n                    \n        <div style=\"\">\n            \n            <div>\n                <div style=\"\n                    width: 24px;\n                    height: 24px;\n                    background-color: #FFF7E5;\n                    border: 3px solid #FF6132;\n                    border-radius: 5px;\n                    position: absolute;\"> </div>\n                <div style=\"margin-left: 48px;\">\n                    <h3 style=\"margin-bottom: 0px;\">Scheduler</h3>\n                    <p style=\"color: #9D9D9D; margin-bottom: 0px;\">Scheduler-6b9d4d62-5301-4782-a8e5-222f7c78a352</p>\n                    <table style=\"width: 100%; text-align: left;\">\n                        <tr>\n                            <td style=\"text-align: left;\"><strong>Comm:</strong> tcp://127.0.0.1:45069</td>\n                            <td style=\"text-align: left;\"><strong>Workers:</strong> 1</td>\n                        </tr>\n                        <tr>\n                            <td style=\"text-align: left;\">\n                                <strong>Dashboard:</strong> <a href=\"http://127.0.0.1:8787/status\">http://127.0.0.1:8787/status</a>\n                            </td>\n                            <td style=\"text-align: left;\">\n                                <strong>Total threads:</strong>\n                                1\n                            </td>\n                        </tr>\n                        <tr>\n                            <td style=\"text-align: left;\">\n                                <strong>Started:</strong>\n                                Just now\n                            </td>\n                            <td style=\"text-align: left;\">\n                                <strong>Total memory:</strong>\n                                188.59 GiB\n                            </td>\n                        </tr>\n                    </table>\n                </div>\n            </div>\n        \n            <details style=\"margin-left: 48px;\">\n            <summary style=\"margin-bottom: 20px;\"><h3 style=\"display: inline;\">Workers</h3></summary>\n            \n            <div style=\"margin-bottom: 20px;\">\n                <div style=\"width: 24px;\n                            height: 24px;\n                            background-color: #DBF5FF;\n                            border: 3px solid #4CC9FF;\n                            border-radius: 5px;\n                            position: absolute;\"> </div>\n                <div style=\"margin-left: 48px;\">\n                <details>\n                    <summary>\n                        <h4 style=\"margin-bottom: 0px; display: inline;\">Worker: 0</h4>\n                    </summary>\n                    <table style=\"width: 100%; text-align: left;\">\n                        <tr>\n                            <td style=\"text-align: left;\"><strong>Comm: </strong> tcp://127.0.0.1:38483</td>\n                            <td style=\"text-align: left;\"><strong>Total threads: </strong> 1</td>\n                        </tr>\n                        <tr>\n                            <td style=\"text-align: left;\">\n                                <strong>Dashboard: </strong>\n                                <a href=\"http://127.0.0.1:40423/status\">http://127.0.0.1:40423/status</a>\n                            </td>\n                            <td style=\"text-align: left;\">\n                                <strong>Memory: </strong>\n                                188.59 GiB\n                            </td>\n                        </tr>\n                        <tr>\n                            <td style=\"text-align: left;\"><strong>Nanny: </strong> tcp://127.0.0.1:41477</td>\n                            <td style=\"text-align: left;\"></td>\n                        </tr>\n                        <tr>\n                            <td colspan=\"2\" style=\"text-align: left;\">\n                                <strong>Local directory: </strong>\n                                /home/karl/PycharmProjects/doctorlingo/build_corpus_manual/dask-worker-space/worker-7wdxtreq\n                            </td>\n                        </tr>\n                        \n                <tr>\n                    <td style=\"text-align: left;\">\n                        <strong>GPU: </strong>NVIDIA GeForce RTX 3090\n                    </td>\n                    <td style=\"text-align: left;\">\n                        <strong>GPU memory: </strong>\n                        23.69 GiB\n                    </td>\n                </tr>\n                \n                        \n                    </table>\n                </details>\n                </div>\n            </div>\n            \n            </details>\n        </div>\n        \n                    </details>\n                </div>\n            </div>\n        \n                </details>\n                \n                </div>\n            </div>\n        "
     },
     "execution_count": 1,
     "metadata": {},
     "output_type": "execute_result"
    }
   ],
   "source": [
    "from dask.distributed import Client\n",
    "from dask_cuda import LocalCUDACluster\n",
    "import dask_cudf as pd\n",
    "import cudf\n",
    "cluster = LocalCUDACluster(CUDA_VISIBLE_DEVICES=\"0\")\n",
    "client = Client(cluster)\n",
    "client.run(cudf.set_allocator, \"managed\")\n",
    "client"
   ]
  },
  {
   "cell_type": "code",
   "execution_count": 2,
   "outputs": [],
   "source": [
    "mrdef_columns = ['CUI','AUI','ATUI','SATUI','SAB','DEF','SUPPRESS','CVF']\n",
    "mrhier_columns = ['CUI','REL_AUI','CXN','PAUI','SAB','HIER_RELA','PTR','HCD','CVF']\n",
    "mrsty_columns = ['CUI','TUI','STN','STY','ATUI','CVF']\n",
    "mrrel_columns = ['CUI1','AUI1','STYPE1','REL','CUI2','AUI2','STYPE2','RELA','RUI','SRUI','SAB','SL','RG','DIR','SUPPRESS','CVF']\n",
    "mrsat_columns = ['CUI','LUI','SUI','METAUI','STYPE','CODE','ATUI','SATUI','ATN','SAB','ATV','SUPPRESS','CVF']\n",
    "mrconso_columns = ['CUI','LAT','TS','LUI','STT','SUI','ISPREF','AUI','SAUI','SCUI','SDUI','SAB','TTY','CODE','STR','SRL','SUPPRESS','CVF']\n",
    "mrconso_columns2 = ['CUI','LAT','TS','LUI','STT','SUI','ISPREF','AUI2','SAUI','SCUI','SDUI','SAB','TTY','CODE','STR','SRL','SUPPRESS','CVF']\n"
   ],
   "metadata": {
    "collapsed": false,
    "pycharm": {
     "name": "#%%\n"
    }
   }
  },
  {
   "cell_type": "code",
   "execution_count": 3,
   "outputs": [
    {
     "data": {
      "text/plain": "<dask_cudf.DataFrame | 8 tasks | 8 npartitions>",
      "text/html": "<div><strong>Dask DataFrame Structure:</strong></div>\n<div>\n<style scoped>\n    .dataframe tbody tr th:only-of-type {\n        vertical-align: middle;\n    }\n\n    .dataframe tbody tr th {\n        vertical-align: top;\n    }\n\n    .dataframe thead th {\n        text-align: right;\n    }\n</style>\n<table border=\"1\" class=\"dataframe\">\n  <thead>\n    <tr style=\"text-align: right;\">\n      <th></th>\n      <th>CUI</th>\n      <th>LAT</th>\n      <th>TS</th>\n      <th>LUI</th>\n      <th>STT</th>\n      <th>SUI</th>\n      <th>ISPREF</th>\n      <th>AUI</th>\n      <th>SAUI</th>\n      <th>SCUI</th>\n      <th>SDUI</th>\n      <th>SAB</th>\n      <th>TTY</th>\n      <th>CODE</th>\n      <th>STR</th>\n      <th>SRL</th>\n      <th>SUPPRESS</th>\n      <th>CVF</th>\n    </tr>\n    <tr>\n      <th>npartitions=8</th>\n      <th></th>\n      <th></th>\n      <th></th>\n      <th></th>\n      <th></th>\n      <th></th>\n      <th></th>\n      <th></th>\n      <th></th>\n      <th></th>\n      <th></th>\n      <th></th>\n      <th></th>\n      <th></th>\n      <th></th>\n      <th></th>\n      <th></th>\n      <th></th>\n    </tr>\n  </thead>\n  <tbody>\n    <tr>\n      <th></th>\n      <td>object</td>\n      <td>object</td>\n      <td>object</td>\n      <td>object</td>\n      <td>object</td>\n      <td>object</td>\n      <td>object</td>\n      <td>object</td>\n      <td>float64</td>\n      <td>object</td>\n      <td>object</td>\n      <td>object</td>\n      <td>object</td>\n      <td>object</td>\n      <td>object</td>\n      <td>int64</td>\n      <td>object</td>\n      <td>float64</td>\n    </tr>\n    <tr>\n      <th></th>\n      <td>...</td>\n      <td>...</td>\n      <td>...</td>\n      <td>...</td>\n      <td>...</td>\n      <td>...</td>\n      <td>...</td>\n      <td>...</td>\n      <td>...</td>\n      <td>...</td>\n      <td>...</td>\n      <td>...</td>\n      <td>...</td>\n      <td>...</td>\n      <td>...</td>\n      <td>...</td>\n      <td>...</td>\n      <td>...</td>\n    </tr>\n    <tr>\n      <th>...</th>\n      <td>...</td>\n      <td>...</td>\n      <td>...</td>\n      <td>...</td>\n      <td>...</td>\n      <td>...</td>\n      <td>...</td>\n      <td>...</td>\n      <td>...</td>\n      <td>...</td>\n      <td>...</td>\n      <td>...</td>\n      <td>...</td>\n      <td>...</td>\n      <td>...</td>\n      <td>...</td>\n      <td>...</td>\n      <td>...</td>\n    </tr>\n    <tr>\n      <th></th>\n      <td>...</td>\n      <td>...</td>\n      <td>...</td>\n      <td>...</td>\n      <td>...</td>\n      <td>...</td>\n      <td>...</td>\n      <td>...</td>\n      <td>...</td>\n      <td>...</td>\n      <td>...</td>\n      <td>...</td>\n      <td>...</td>\n      <td>...</td>\n      <td>...</td>\n      <td>...</td>\n      <td>...</td>\n      <td>...</td>\n    </tr>\n    <tr>\n      <th></th>\n      <td>...</td>\n      <td>...</td>\n      <td>...</td>\n      <td>...</td>\n      <td>...</td>\n      <td>...</td>\n      <td>...</td>\n      <td>...</td>\n      <td>...</td>\n      <td>...</td>\n      <td>...</td>\n      <td>...</td>\n      <td>...</td>\n      <td>...</td>\n      <td>...</td>\n      <td>...</td>\n      <td>...</td>\n      <td>...</td>\n    </tr>\n  </tbody>\n</table>\n</div>\n<div>Dask Name: read-csv, 8 tasks</div>"
     },
     "execution_count": 3,
     "metadata": {},
     "output_type": "execute_result"
    }
   ],
   "source": [
    "#1. Find all atoms of a UMLS concepts\n",
    "mrconso_iter2 = pd.read_csv(\n",
    "    \"/home/karl/PycharmProjects/doctorlingo/test_scripts/cwi-master/CWI_Sequence_Labeller/datasets/UMLS/MRCONSO.RRF\",\n",
    "    sep=\"|\",\n",
    "    names=mrconso_columns,\n",
    "    #chunksize=\"1 GB\"\n",
    ")\n",
    "mrconso_iter2"
   ],
   "metadata": {
    "collapsed": false,
    "pycharm": {
     "name": "#%%\n"
    }
   }
  },
  {
   "cell_type": "code",
   "execution_count": 4,
   "outputs": [
    {
     "data": {
      "text/plain": "              CUI                                                STR  \\\n0        C0000005                     (131)I-Macroaggregated Albumin   \n1        C0000005                                         (131)I-MAA   \n2        C0000005      Macroagrégats d'albumine marquée à l'iode 131   \n3        C0000005                                          MAA-I 131   \n4        C0000005  Macroagrégats d'albumine humaine marquée à l'i...   \n...           ...                                                ...   \n1351041  C5441501                                   Unacceptable PDX   \n1351042  C5441502                                   Unacceptable DX1   \n1351043  C5441503            Musculoskeletal pain, not low back pain   \n1351044  C5441504       Medication Reference Terminology, 2021_03_01   \n1351045  C5441504                                  MED-RT_2021_03_01   \n\n               AUI  \n0        A26634265  \n1        A26634266  \n2        A13433185  \n3        A27488794  \n4        A27614225  \n...            ...  \n1351041  A32650879  \n1351042  A32650952  \n1351043  A32650646  \n1351044  A32651413  \n1351045  A32651409  \n\n[13730054 rows x 3 columns]",
      "text/html": "<div>\n<style scoped>\n    .dataframe tbody tr th:only-of-type {\n        vertical-align: middle;\n    }\n\n    .dataframe tbody tr th {\n        vertical-align: top;\n    }\n\n    .dataframe thead th {\n        text-align: right;\n    }\n</style>\n<table border=\"1\" class=\"dataframe\">\n  <thead>\n    <tr style=\"text-align: right;\">\n      <th></th>\n      <th>CUI</th>\n      <th>STR</th>\n      <th>AUI</th>\n    </tr>\n  </thead>\n  <tbody>\n    <tr>\n      <th>0</th>\n      <td>C0000005</td>\n      <td>(131)I-Macroaggregated Albumin</td>\n      <td>A26634265</td>\n    </tr>\n    <tr>\n      <th>1</th>\n      <td>C0000005</td>\n      <td>(131)I-MAA</td>\n      <td>A26634266</td>\n    </tr>\n    <tr>\n      <th>2</th>\n      <td>C0000005</td>\n      <td>Macroagrégats d'albumine marquée à l'iode 131</td>\n      <td>A13433185</td>\n    </tr>\n    <tr>\n      <th>3</th>\n      <td>C0000005</td>\n      <td>MAA-I 131</td>\n      <td>A27488794</td>\n    </tr>\n    <tr>\n      <th>4</th>\n      <td>C0000005</td>\n      <td>Macroagrégats d'albumine humaine marquée à l'i...</td>\n      <td>A27614225</td>\n    </tr>\n    <tr>\n      <th>...</th>\n      <td>...</td>\n      <td>...</td>\n      <td>...</td>\n    </tr>\n    <tr>\n      <th>1351041</th>\n      <td>C5441501</td>\n      <td>Unacceptable PDX</td>\n      <td>A32650879</td>\n    </tr>\n    <tr>\n      <th>1351042</th>\n      <td>C5441502</td>\n      <td>Unacceptable DX1</td>\n      <td>A32650952</td>\n    </tr>\n    <tr>\n      <th>1351043</th>\n      <td>C5441503</td>\n      <td>Musculoskeletal pain, not low back pain</td>\n      <td>A32650646</td>\n    </tr>\n    <tr>\n      <th>1351044</th>\n      <td>C5441504</td>\n      <td>Medication Reference Terminology, 2021_03_01</td>\n      <td>A32651413</td>\n    </tr>\n    <tr>\n      <th>1351045</th>\n      <td>C5441504</td>\n      <td>MED-RT_2021_03_01</td>\n      <td>A32651409</td>\n    </tr>\n  </tbody>\n</table>\n<p>13730054 rows × 3 columns</p>\n</div>"
     },
     "execution_count": 4,
     "metadata": {},
     "output_type": "execute_result"
    }
   ],
   "source": [
    "mrconso2 = mrconso_iter2[mrconso_iter2[\"LAT\"] == \"ENG\"] # select all english terms\n",
    "mrconso2 = mrconso_iter2[mrconso_iter2[\"ISPREF\"] == \"Y\"] # select only preferred term strings for AUIs\n",
    "# mrconso = mrconso.map_partitions(lambda df: df.to_pandas())\n",
    "mrconso2 = mrconso2[['CUI','STR','AUI']].compute()\n",
    "mrconso2"
   ],
   "metadata": {
    "collapsed": false,
    "pycharm": {
     "name": "#%%\n"
    }
   }
  },
  {
   "cell_type": "code",
   "execution_count": 5,
   "outputs": [
    {
     "data": {
      "text/plain": "              CUI                                                STR  \\\n0        C0000005                     (131)I-Macroaggregated Albumin   \n1        C0000005                                         (131)I-MAA   \n2        C0000005      Macroagrégats d'albumine marquée à l'iode 131   \n3        C0000005                                          MAA-I 131   \n4        C0000005  Macroagrégats d'albumine humaine marquée à l'i...   \n...           ...                                                ...   \n1351041  C5441501                                   Unacceptable PDX   \n1351042  C5441502                                   Unacceptable DX1   \n1351043  C5441503            Musculoskeletal pain, not low back pain   \n1351044  C5441504       Medication Reference Terminology, 2021_03_01   \n1351045  C5441504                                  MED-RT_2021_03_01   \n\n               AUI                                            AUI+STR  \n0        A26634265          (131)I-Macroaggregated Albumin**A26634265  \n1        A26634266                              (131)I-MAA**A26634266  \n2        A13433185  Macroagrégats d'albumine marquée à l'iode 131*...  \n3        A27488794                               MAA-I 131**A27488794  \n4        A27614225  Macroagrégats d'albumine humaine marquée à l'i...  \n...            ...                                                ...  \n1351041  A32650879                        Unacceptable PDX**A32650879  \n1351042  A32650952                        Unacceptable DX1**A32650952  \n1351043  A32650646  Musculoskeletal pain, not low back pain**A3265...  \n1351044  A32651413  Medication Reference Terminology, 2021_03_01**...  \n1351045  A32651409                       MED-RT_2021_03_01**A32651409  \n\n[13730054 rows x 4 columns]",
      "text/html": "<div>\n<style scoped>\n    .dataframe tbody tr th:only-of-type {\n        vertical-align: middle;\n    }\n\n    .dataframe tbody tr th {\n        vertical-align: top;\n    }\n\n    .dataframe thead th {\n        text-align: right;\n    }\n</style>\n<table border=\"1\" class=\"dataframe\">\n  <thead>\n    <tr style=\"text-align: right;\">\n      <th></th>\n      <th>CUI</th>\n      <th>STR</th>\n      <th>AUI</th>\n      <th>AUI+STR</th>\n    </tr>\n  </thead>\n  <tbody>\n    <tr>\n      <th>0</th>\n      <td>C0000005</td>\n      <td>(131)I-Macroaggregated Albumin</td>\n      <td>A26634265</td>\n      <td>(131)I-Macroaggregated Albumin**A26634265</td>\n    </tr>\n    <tr>\n      <th>1</th>\n      <td>C0000005</td>\n      <td>(131)I-MAA</td>\n      <td>A26634266</td>\n      <td>(131)I-MAA**A26634266</td>\n    </tr>\n    <tr>\n      <th>2</th>\n      <td>C0000005</td>\n      <td>Macroagrégats d'albumine marquée à l'iode 131</td>\n      <td>A13433185</td>\n      <td>Macroagrégats d'albumine marquée à l'iode 131*...</td>\n    </tr>\n    <tr>\n      <th>3</th>\n      <td>C0000005</td>\n      <td>MAA-I 131</td>\n      <td>A27488794</td>\n      <td>MAA-I 131**A27488794</td>\n    </tr>\n    <tr>\n      <th>4</th>\n      <td>C0000005</td>\n      <td>Macroagrégats d'albumine humaine marquée à l'i...</td>\n      <td>A27614225</td>\n      <td>Macroagrégats d'albumine humaine marquée à l'i...</td>\n    </tr>\n    <tr>\n      <th>...</th>\n      <td>...</td>\n      <td>...</td>\n      <td>...</td>\n      <td>...</td>\n    </tr>\n    <tr>\n      <th>1351041</th>\n      <td>C5441501</td>\n      <td>Unacceptable PDX</td>\n      <td>A32650879</td>\n      <td>Unacceptable PDX**A32650879</td>\n    </tr>\n    <tr>\n      <th>1351042</th>\n      <td>C5441502</td>\n      <td>Unacceptable DX1</td>\n      <td>A32650952</td>\n      <td>Unacceptable DX1**A32650952</td>\n    </tr>\n    <tr>\n      <th>1351043</th>\n      <td>C5441503</td>\n      <td>Musculoskeletal pain, not low back pain</td>\n      <td>A32650646</td>\n      <td>Musculoskeletal pain, not low back pain**A3265...</td>\n    </tr>\n    <tr>\n      <th>1351044</th>\n      <td>C5441504</td>\n      <td>Medication Reference Terminology, 2021_03_01</td>\n      <td>A32651413</td>\n      <td>Medication Reference Terminology, 2021_03_01**...</td>\n    </tr>\n    <tr>\n      <th>1351045</th>\n      <td>C5441504</td>\n      <td>MED-RT_2021_03_01</td>\n      <td>A32651409</td>\n      <td>MED-RT_2021_03_01**A32651409</td>\n    </tr>\n  </tbody>\n</table>\n<p>13730054 rows × 4 columns</p>\n</div>"
     },
     "execution_count": 5,
     "metadata": {},
     "output_type": "execute_result"
    }
   ],
   "source": [
    "mrconso2['AUI+STR'] = mrconso2['STR'] +'**'+mrconso2['AUI']\n",
    "mrconso2"
   ],
   "metadata": {
    "collapsed": false,
    "pycharm": {
     "name": "#%%\n"
    }
   }
  },
  {
   "cell_type": "code",
   "execution_count": 6,
   "outputs": [
    {
     "data": {
      "text/plain": "              CUI                                            AUI+STR\n0        C0000005          (131)I-Macroaggregated Albumin**A26634265\n1        C0000005                              (131)I-MAA**A26634266\n2        C0000005  Macroagrégats d'albumine marquée à l'iode 131*...\n3        C0000005                               MAA-I 131**A27488794\n4        C0000005  Macroagrégats d'albumine humaine marquée à l'i...\n...           ...                                                ...\n1351041  C5441501                        Unacceptable PDX**A32650879\n1351042  C5441502                        Unacceptable DX1**A32650952\n1351043  C5441503  Musculoskeletal pain, not low back pain**A3265...\n1351044  C5441504  Medication Reference Terminology, 2021_03_01**...\n1351045  C5441504                       MED-RT_2021_03_01**A32651409\n\n[13730054 rows x 2 columns]",
      "text/html": "<div>\n<style scoped>\n    .dataframe tbody tr th:only-of-type {\n        vertical-align: middle;\n    }\n\n    .dataframe tbody tr th {\n        vertical-align: top;\n    }\n\n    .dataframe thead th {\n        text-align: right;\n    }\n</style>\n<table border=\"1\" class=\"dataframe\">\n  <thead>\n    <tr style=\"text-align: right;\">\n      <th></th>\n      <th>CUI</th>\n      <th>AUI+STR</th>\n    </tr>\n  </thead>\n  <tbody>\n    <tr>\n      <th>0</th>\n      <td>C0000005</td>\n      <td>(131)I-Macroaggregated Albumin**A26634265</td>\n    </tr>\n    <tr>\n      <th>1</th>\n      <td>C0000005</td>\n      <td>(131)I-MAA**A26634266</td>\n    </tr>\n    <tr>\n      <th>2</th>\n      <td>C0000005</td>\n      <td>Macroagrégats d'albumine marquée à l'iode 131*...</td>\n    </tr>\n    <tr>\n      <th>3</th>\n      <td>C0000005</td>\n      <td>MAA-I 131**A27488794</td>\n    </tr>\n    <tr>\n      <th>4</th>\n      <td>C0000005</td>\n      <td>Macroagrégats d'albumine humaine marquée à l'i...</td>\n    </tr>\n    <tr>\n      <th>...</th>\n      <td>...</td>\n      <td>...</td>\n    </tr>\n    <tr>\n      <th>1351041</th>\n      <td>C5441501</td>\n      <td>Unacceptable PDX**A32650879</td>\n    </tr>\n    <tr>\n      <th>1351042</th>\n      <td>C5441502</td>\n      <td>Unacceptable DX1**A32650952</td>\n    </tr>\n    <tr>\n      <th>1351043</th>\n      <td>C5441503</td>\n      <td>Musculoskeletal pain, not low back pain**A3265...</td>\n    </tr>\n    <tr>\n      <th>1351044</th>\n      <td>C5441504</td>\n      <td>Medication Reference Terminology, 2021_03_01**...</td>\n    </tr>\n    <tr>\n      <th>1351045</th>\n      <td>C5441504</td>\n      <td>MED-RT_2021_03_01**A32651409</td>\n    </tr>\n  </tbody>\n</table>\n<p>13730054 rows × 2 columns</p>\n</div>"
     },
     "execution_count": 6,
     "metadata": {},
     "output_type": "execute_result"
    }
   ],
   "source": [
    "mrconso2 = mrconso2.drop(['STR', 'AUI'], axis=1)\n",
    "mrconso2"
   ],
   "metadata": {
    "collapsed": false,
    "pycharm": {
     "name": "#%%\n"
    }
   }
  },
  {
   "cell_type": "code",
   "execution_count": 7,
   "outputs": [
    {
     "data": {
      "text/plain": "Dask DataFrame Structure:\n                  CUI AUI+STR\nnpartitions=1                \n0              object  object\n4431983           ...     ...\nDask Name: from_cudf, 1 tasks",
      "text/html": "<div><strong>Dask DataFrame Structure:</strong></div>\n<div>\n<style scoped>\n    .dataframe tbody tr th:only-of-type {\n        vertical-align: middle;\n    }\n\n    .dataframe tbody tr th {\n        vertical-align: top;\n    }\n\n    .dataframe thead th {\n        text-align: right;\n    }\n</style>\n<table border=\"1\" class=\"dataframe\">\n  <thead>\n    <tr style=\"text-align: right;\">\n      <th></th>\n      <th>CUI</th>\n      <th>AUI+STR</th>\n    </tr>\n    <tr>\n      <th>npartitions=1</th>\n      <th></th>\n      <th></th>\n    </tr>\n  </thead>\n  <tbody>\n    <tr>\n      <th>0</th>\n      <td>object</td>\n      <td>object</td>\n    </tr>\n    <tr>\n      <th>4431983</th>\n      <td>...</td>\n      <td>...</td>\n    </tr>\n  </tbody>\n</table>\n</div>\n<div>Dask Name: from_cudf, 1 tasks</div>"
     },
     "execution_count": 7,
     "metadata": {},
     "output_type": "execute_result"
    }
   ],
   "source": [
    "mrconso2 = mrconso2.groupby(['CUI']).agg('unique').reset_index()\n",
    "mrconso = pd.from_cudf(mrconso2,npartitions=1)\n",
    "mrconso = mrconso.compute().to_pandas()\n",
    "mrconso['AUI+STR'] = mrconso['AUI+STR'].astype('object')\n",
    "mrconso = pd.from_cudf(mrconso,npartitions=1)\n",
    "mrconso\n"
   ],
   "metadata": {
    "collapsed": false,
    "pycharm": {
     "name": "#%%\n"
    }
   }
  },
  {
   "cell_type": "code",
   "execution_count": 35,
   "outputs": [
    {
     "data": {
      "text/plain": "<dask_cudf.DataFrame | 80 tasks | 20 npartitions>",
      "text/html": "<div><strong>Dask DataFrame Structure:</strong></div>\n<div>\n<style scoped>\n    .dataframe tbody tr th:only-of-type {\n        vertical-align: middle;\n    }\n\n    .dataframe tbody tr th {\n        vertical-align: top;\n    }\n\n    .dataframe thead th {\n        text-align: right;\n    }\n</style>\n<table border=\"1\" class=\"dataframe\">\n  <thead>\n    <tr style=\"text-align: right;\">\n      <th></th>\n      <th>CUI</th>\n      <th>REL_AUI</th>\n      <th>CXN</th>\n      <th>PAUI</th>\n      <th>SAB</th>\n      <th>HIER_RELA</th>\n      <th>PTR</th>\n      <th>HCD</th>\n      <th>CVF</th>\n    </tr>\n    <tr>\n      <th>npartitions=20</th>\n      <th></th>\n      <th></th>\n      <th></th>\n      <th></th>\n      <th></th>\n      <th></th>\n      <th></th>\n      <th></th>\n      <th></th>\n    </tr>\n  </thead>\n  <tbody>\n    <tr>\n      <th></th>\n      <td>object</td>\n      <td>object</td>\n      <td>int64</td>\n      <td>object</td>\n      <td>object</td>\n      <td>int8</td>\n      <td>object</td>\n      <td>object</td>\n      <td>int8</td>\n    </tr>\n    <tr>\n      <th></th>\n      <td>...</td>\n      <td>...</td>\n      <td>...</td>\n      <td>...</td>\n      <td>...</td>\n      <td>...</td>\n      <td>...</td>\n      <td>...</td>\n      <td>...</td>\n    </tr>\n    <tr>\n      <th>...</th>\n      <td>...</td>\n      <td>...</td>\n      <td>...</td>\n      <td>...</td>\n      <td>...</td>\n      <td>...</td>\n      <td>...</td>\n      <td>...</td>\n      <td>...</td>\n    </tr>\n    <tr>\n      <th></th>\n      <td>...</td>\n      <td>...</td>\n      <td>...</td>\n      <td>...</td>\n      <td>...</td>\n      <td>...</td>\n      <td>...</td>\n      <td>...</td>\n      <td>...</td>\n    </tr>\n    <tr>\n      <th></th>\n      <td>...</td>\n      <td>...</td>\n      <td>...</td>\n      <td>...</td>\n      <td>...</td>\n      <td>...</td>\n      <td>...</td>\n      <td>...</td>\n      <td>...</td>\n    </tr>\n  </tbody>\n</table>\n</div>\n<div>Dask Name: getitem, 80 tasks</div>"
     },
     "execution_count": 35,
     "metadata": {},
     "output_type": "execute_result"
    }
   ],
   "source": [
    "# 2. Find all source contexts associated with a UMLS concept.\n",
    "# AKA find all relationships for a concept that are intra-source\n",
    "# The sources are where UMLS got the data from and we extract relationship hierarchies like \"is a\"\n",
    "mrhier = pd.read_csv(\n",
    "    \"/home/karl/PycharmProjects/doctorlingo/test_scripts/cwi-master/CWI_Sequence_Labeller/datasets/UMLS/MRHIER.RRF\",\n",
    "    sep=\"|\",\n",
    "    names=mrhier_columns,\n",
    ")\n",
    "mrhier = mrhier[mrhier[\"SAB\"] == \"SNOMEDCT_US\"]\n",
    "mrhier"
   ],
   "metadata": {
    "collapsed": false,
    "pycharm": {
     "name": "#%%\n"
    }
   }
  },
  {
   "cell_type": "code",
   "execution_count": 36,
   "outputs": [
    {
     "data": {
      "text/plain": "             CUI HIER_RELA    REL_AUI       PAUI  \\\n28      C0000052       isa  A27769867   A3493340   \n29      C0000052       isa  A27769867   A3493340   \n30      C0000052       isa  A27769867   A3493340   \n31      C0000052       isa  A27769867   A3106815   \n32      C0000052       isa  A27769867   A3493340   \n...          ...       ...        ...        ...   \n341103  C5441268       isa  A32649650   A3004947   \n341104  C5441268       isa  A32649650   A3004947   \n341105  C5441268       isa  A32649650   A3004947   \n341106  C5441268       isa  A32649650  A28932762   \n341107  C5441268       isa  A32649650   A3004947   \n\n                                                      PTR  \n28      A3684559.A3206010.A29521581.A2873362.A2887534....  \n29      A3684559.A3206010.A29542572.A16967690.A2953222...  \n30      A3684559.A3206010.A29542572.A16967690.A2953222...  \n31      A3684559.A3206010.A3738093.A3248739.A3101579.A...  \n32      A3684559.A3206010.A3811138.A2873295.A2873285.A...  \n...                                                   ...  \n341103  A3684559.A3886745.A2880798.A6938220.A3399957.A...  \n341104  A3684559.A3886745.A2880798.A6938220.A3399957.A...  \n341105  A3684559.A3886745.A2880798.A6938220.A6938316.A...  \n341106  A3684559.A3886745.A2880798.A6938220.A6938316.A...  \n341107  A3684559.A3886745.A2880798.A6938220.A6938316.A...  \n\n[13652600 rows x 5 columns]",
      "text/html": "<div>\n<style scoped>\n    .dataframe tbody tr th:only-of-type {\n        vertical-align: middle;\n    }\n\n    .dataframe tbody tr th {\n        vertical-align: top;\n    }\n\n    .dataframe thead th {\n        text-align: right;\n    }\n</style>\n<table border=\"1\" class=\"dataframe\">\n  <thead>\n    <tr style=\"text-align: right;\">\n      <th></th>\n      <th>CUI</th>\n      <th>HIER_RELA</th>\n      <th>REL_AUI</th>\n      <th>PAUI</th>\n      <th>PTR</th>\n    </tr>\n  </thead>\n  <tbody>\n    <tr>\n      <th>28</th>\n      <td>C0000052</td>\n      <td>isa</td>\n      <td>A27769867</td>\n      <td>A3493340</td>\n      <td>A3684559.A3206010.A29521581.A2873362.A2887534....</td>\n    </tr>\n    <tr>\n      <th>29</th>\n      <td>C0000052</td>\n      <td>isa</td>\n      <td>A27769867</td>\n      <td>A3493340</td>\n      <td>A3684559.A3206010.A29542572.A16967690.A2953222...</td>\n    </tr>\n    <tr>\n      <th>30</th>\n      <td>C0000052</td>\n      <td>isa</td>\n      <td>A27769867</td>\n      <td>A3493340</td>\n      <td>A3684559.A3206010.A29542572.A16967690.A2953222...</td>\n    </tr>\n    <tr>\n      <th>31</th>\n      <td>C0000052</td>\n      <td>isa</td>\n      <td>A27769867</td>\n      <td>A3106815</td>\n      <td>A3684559.A3206010.A3738093.A3248739.A3101579.A...</td>\n    </tr>\n    <tr>\n      <th>32</th>\n      <td>C0000052</td>\n      <td>isa</td>\n      <td>A27769867</td>\n      <td>A3493340</td>\n      <td>A3684559.A3206010.A3811138.A2873295.A2873285.A...</td>\n    </tr>\n    <tr>\n      <th>...</th>\n      <td>...</td>\n      <td>...</td>\n      <td>...</td>\n      <td>...</td>\n      <td>...</td>\n    </tr>\n    <tr>\n      <th>341103</th>\n      <td>C5441268</td>\n      <td>isa</td>\n      <td>A32649650</td>\n      <td>A3004947</td>\n      <td>A3684559.A3886745.A2880798.A6938220.A3399957.A...</td>\n    </tr>\n    <tr>\n      <th>341104</th>\n      <td>C5441268</td>\n      <td>isa</td>\n      <td>A32649650</td>\n      <td>A3004947</td>\n      <td>A3684559.A3886745.A2880798.A6938220.A3399957.A...</td>\n    </tr>\n    <tr>\n      <th>341105</th>\n      <td>C5441268</td>\n      <td>isa</td>\n      <td>A32649650</td>\n      <td>A3004947</td>\n      <td>A3684559.A3886745.A2880798.A6938220.A6938316.A...</td>\n    </tr>\n    <tr>\n      <th>341106</th>\n      <td>C5441268</td>\n      <td>isa</td>\n      <td>A32649650</td>\n      <td>A28932762</td>\n      <td>A3684559.A3886745.A2880798.A6938220.A6938316.A...</td>\n    </tr>\n    <tr>\n      <th>341107</th>\n      <td>C5441268</td>\n      <td>isa</td>\n      <td>A32649650</td>\n      <td>A3004947</td>\n      <td>A3684559.A3886745.A2880798.A6938220.A6938316.A...</td>\n    </tr>\n  </tbody>\n</table>\n<p>13652600 rows × 5 columns</p>\n</div>"
     },
     "execution_count": 36,
     "metadata": {},
     "output_type": "execute_result"
    }
   ],
   "source": [
    "mrhier = mrhier[['CUI','HIER_RELA','REL_AUI','PAUI','PTR']]\n",
    "mrhier.compute()"
   ],
   "metadata": {
    "collapsed": false,
    "pycharm": {
     "name": "#%%\n"
    }
   }
  },
  {
   "cell_type": "code",
   "execution_count": 37,
   "outputs": [
    {
     "data": {
      "text/plain": "<dask_cudf.DataFrame | 340 tasks | 20 npartitions>",
      "text/html": "<div><strong>Dask DataFrame Structure:</strong></div>\n<div>\n<style scoped>\n    .dataframe tbody tr th:only-of-type {\n        vertical-align: middle;\n    }\n\n    .dataframe tbody tr th {\n        vertical-align: top;\n    }\n\n    .dataframe thead th {\n        text-align: right;\n    }\n</style>\n<table border=\"1\" class=\"dataframe\">\n  <thead>\n    <tr style=\"text-align: right;\">\n      <th></th>\n      <th>CUI</th>\n      <th>HIER_RELA</th>\n      <th>REL_AUI</th>\n      <th>PAUI</th>\n      <th>PTR</th>\n      <th>REL_AUI_PARENTAUI_PTR</th>\n    </tr>\n    <tr>\n      <th>npartitions=20</th>\n      <th></th>\n      <th></th>\n      <th></th>\n      <th></th>\n      <th></th>\n      <th></th>\n    </tr>\n  </thead>\n  <tbody>\n    <tr>\n      <th></th>\n      <td>object</td>\n      <td>int8</td>\n      <td>object</td>\n      <td>object</td>\n      <td>object</td>\n      <td>object</td>\n    </tr>\n    <tr>\n      <th></th>\n      <td>...</td>\n      <td>...</td>\n      <td>...</td>\n      <td>...</td>\n      <td>...</td>\n      <td>...</td>\n    </tr>\n    <tr>\n      <th>...</th>\n      <td>...</td>\n      <td>...</td>\n      <td>...</td>\n      <td>...</td>\n      <td>...</td>\n      <td>...</td>\n    </tr>\n    <tr>\n      <th></th>\n      <td>...</td>\n      <td>...</td>\n      <td>...</td>\n      <td>...</td>\n      <td>...</td>\n      <td>...</td>\n    </tr>\n    <tr>\n      <th></th>\n      <td>...</td>\n      <td>...</td>\n      <td>...</td>\n      <td>...</td>\n      <td>...</td>\n      <td>...</td>\n    </tr>\n  </tbody>\n</table>\n</div>\n<div>Dask Name: assign, 340 tasks</div>"
     },
     "execution_count": 37,
     "metadata": {},
     "output_type": "execute_result"
    }
   ],
   "source": [
    "mrhier['REL_AUI_PARENTAUI_PTR'] = mrhier['HIER_RELA'].astype('object')+'**'+mrhier['REL_AUI']+'**'+mrhier['PAUI']+'**'+mrhier['PTR']\n",
    "mrhier"
   ],
   "metadata": {
    "collapsed": false,
    "pycharm": {
     "name": "#%%\n"
    }
   }
  },
  {
   "cell_type": "code",
   "execution_count": 38,
   "outputs": [
    {
     "data": {
      "text/plain": "<dask_cudf.DataFrame | 360 tasks | 20 npartitions>",
      "text/html": "<div><strong>Dask DataFrame Structure:</strong></div>\n<div>\n<style scoped>\n    .dataframe tbody tr th:only-of-type {\n        vertical-align: middle;\n    }\n\n    .dataframe tbody tr th {\n        vertical-align: top;\n    }\n\n    .dataframe thead th {\n        text-align: right;\n    }\n</style>\n<table border=\"1\" class=\"dataframe\">\n  <thead>\n    <tr style=\"text-align: right;\">\n      <th></th>\n      <th>CUI</th>\n      <th>REL_AUI_PARENTAUI_PTR</th>\n    </tr>\n    <tr>\n      <th>npartitions=20</th>\n      <th></th>\n      <th></th>\n    </tr>\n  </thead>\n  <tbody>\n    <tr>\n      <th></th>\n      <td>object</td>\n      <td>object</td>\n    </tr>\n    <tr>\n      <th></th>\n      <td>...</td>\n      <td>...</td>\n    </tr>\n    <tr>\n      <th>...</th>\n      <td>...</td>\n      <td>...</td>\n    </tr>\n    <tr>\n      <th></th>\n      <td>...</td>\n      <td>...</td>\n    </tr>\n    <tr>\n      <th></th>\n      <td>...</td>\n      <td>...</td>\n    </tr>\n  </tbody>\n</table>\n</div>\n<div>Dask Name: drop_by_shallow_copy, 360 tasks</div>"
     },
     "execution_count": 38,
     "metadata": {},
     "output_type": "execute_result"
    }
   ],
   "source": [
    "mrhier = mrhier.drop(['HIER_RELA','REL_AUI','PAUI','PTR'], axis=1)\n",
    "mrhier"
   ],
   "metadata": {
    "collapsed": false,
    "pycharm": {
     "name": "#%%\n"
    }
   }
  },
  {
   "cell_type": "code",
   "execution_count": 39,
   "outputs": [
    {
     "data": {
      "text/plain": "['/home/karl/PycharmProjects/doctorlingo/build_corpus_manual/mrhiertemp.csv']"
     },
     "execution_count": 39,
     "metadata": {},
     "output_type": "execute_result"
    }
   ],
   "source": [
    "mrhier = mrhier.reset_index()\n",
    "mrhier = mrhier.drop(['index'], axis=1)\n",
    "mrhier.to_csv('/home/karl/PycharmProjects/doctorlingo/build_corpus_manual/mrhiertemp.csv', single_file=True)"
   ],
   "metadata": {
    "collapsed": false,
    "pycharm": {
     "name": "#%%\n"
    }
   }
  },
  {
   "cell_type": "code",
   "execution_count": 40,
   "outputs": [
    {
     "data": {
      "text/plain": "['/home/karl/PycharmProjects/doctorlingo/build_corpus_manual/mrconso.csv']"
     },
     "execution_count": 40,
     "metadata": {},
     "output_type": "execute_result"
    }
   ],
   "source": [
    "mrconso.to_csv('/home/karl/PycharmProjects/doctorlingo/build_corpus_manual/mrconso.csv', single_file=True)"
   ],
   "metadata": {
    "collapsed": false,
    "pycharm": {
     "name": "#%%\n"
    }
   }
  },
  {
   "cell_type": "code",
   "execution_count": 52,
   "outputs": [],
   "source": [
    "mrhier = pd.read_csv(\n",
    "    \"/home/karl/PycharmProjects/doctorlingo/build_corpus_manual/mrhiertemp.csv\",\n",
    "    sep=\",\",\n",
    "    dtype='object'\n",
    ")\n",
    "\n",
    "mrconso = pd.read_csv(\n",
    "    \"/home/karl/PycharmProjects/doctorlingo/build_corpus_manual/mrconso.csv\",\n",
    "    sep=\",\",\n",
    "    dtype='object'\n",
    ")"
   ],
   "metadata": {
    "collapsed": false,
    "pycharm": {
     "name": "#%%\n"
    }
   }
  },
  {
   "cell_type": "code",
   "execution_count": null,
   "outputs": [],
   "source": [],
   "metadata": {
    "collapsed": false,
    "pycharm": {
     "name": "#%%\n"
    }
   }
  },
  {
   "cell_type": "code",
   "execution_count": 51,
   "outputs": [
    {
     "data": {
      "text/plain": "<dask_cudf.DataFrame | 144 tasks | 8 npartitions>",
      "text/html": "<div><strong>Dask DataFrame Structure:</strong></div>\n<div>\n<style scoped>\n    .dataframe tbody tr th:only-of-type {\n        vertical-align: middle;\n    }\n\n    .dataframe tbody tr th {\n        vertical-align: top;\n    }\n\n    .dataframe thead th {\n        text-align: right;\n    }\n</style>\n<table border=\"1\" class=\"dataframe\">\n  <thead>\n    <tr style=\"text-align: right;\">\n      <th></th>\n      <th>Unnamed: 0_x</th>\n      <th>CUI</th>\n      <th>AUI+STR</th>\n      <th>Unnamed: 0_y</th>\n      <th>REL_AUI_PARENTAUI_PTR</th>\n    </tr>\n    <tr>\n      <th>npartitions=8</th>\n      <th></th>\n      <th></th>\n      <th></th>\n      <th></th>\n      <th></th>\n    </tr>\n  </thead>\n  <tbody>\n    <tr>\n      <th></th>\n      <td>object</td>\n      <td>object</td>\n      <td>object</td>\n      <td>object</td>\n      <td>object</td>\n    </tr>\n    <tr>\n      <th></th>\n      <td>...</td>\n      <td>...</td>\n      <td>...</td>\n      <td>...</td>\n      <td>...</td>\n    </tr>\n    <tr>\n      <th>...</th>\n      <td>...</td>\n      <td>...</td>\n      <td>...</td>\n      <td>...</td>\n      <td>...</td>\n    </tr>\n    <tr>\n      <th></th>\n      <td>...</td>\n      <td>...</td>\n      <td>...</td>\n      <td>...</td>\n      <td>...</td>\n    </tr>\n    <tr>\n      <th></th>\n      <td>...</td>\n      <td>...</td>\n      <td>...</td>\n      <td>...</td>\n      <td>...</td>\n    </tr>\n  </tbody>\n</table>\n</div>\n<div>Dask Name: hash-join, 144 tasks</div>"
     },
     "execution_count": 51,
     "metadata": {},
     "output_type": "execute_result"
    }
   ],
   "source": [
    "#o_partitions = max(mrconso.npartitions, mrhier.npartitions) * 2\n",
    "#merged_df = mrconso.merge(mrhier,npartitions=o_partitions, how=\"left\", on=\"CUI\")\n",
    "merged_df = mrconso.merge(mrhier, how=\"left\", on=\"CUI\")\n",
    "#merged_df = merged_df.drop_duplicates()\n",
    "merged_df = merged_df.drop(['Unnamed: 0_x','Unnamed: 0_y'], axis=1)#.compute().to_pandas()\n",
    "merged_df#.compute().to_pandas()"
   ],
   "metadata": {
    "collapsed": false,
    "pycharm": {
     "name": "#%%\n"
    }
   }
  },
  {
   "cell_type": "code",
   "execution_count": 10,
   "id": "7cbdd5fd",
   "metadata": {
    "execution": {
     "iopub.execute_input": "2021-07-14T03:29:18.364531Z",
     "iopub.status.busy": "2021-07-14T03:29:18.364307Z",
     "iopub.status.idle": "2021-07-14T03:29:18.645881Z",
     "shell.execute_reply": "2021-07-14T03:29:18.645247Z",
     "shell.execute_reply.started": "2021-07-14T03:29:18.364508Z"
    }
   },
   "outputs": [],
   "source": [
    "mrrel_iter = pd.read_csv(\n",
    "    \"/home/karl/PycharmProjects/doctorlingo/test_scripts/cwi-master/CWI_Sequence_Labeller/datasets/UMLS/MRREL.RRF\",\n",
    "    sep=\"|\",\n",
    "    names=mrrel_columns,\n",
    ")\n",
    "\n",
    "mrrel = mrrel_iter[mrrel_iter[\"RELA\"] == \"isa\"]\n",
    "# mrrel = mrrel.map_partitions(lambda df: df.to_pandas())\n"
   ]
  },
  {
   "cell_type": "code",
   "execution_count": 11,
   "id": "c6b86877",
   "metadata": {
    "execution": {
     "iopub.execute_input": "2021-07-14T03:29:24.442080Z",
     "iopub.status.busy": "2021-07-14T03:29:24.441849Z",
     "iopub.status.idle": "2021-07-14T03:31:22.319047Z",
     "shell.execute_reply": "2021-07-14T03:31:22.317351Z",
     "shell.execute_reply.started": "2021-07-14T03:29:24.442056Z"
    }
   },
   "outputs": [
    {
     "data": {
      "text/plain": "<dask_cudf.DataFrame | 124 tasks | 1 npartitions>",
      "text/html": "<div><strong>Dask DataFrame Structure:</strong></div>\n<div>\n<style scoped>\n    .dataframe tbody tr th:only-of-type {\n        vertical-align: middle;\n    }\n\n    .dataframe tbody tr th {\n        vertical-align: top;\n    }\n\n    .dataframe thead th {\n        text-align: right;\n    }\n</style>\n<table border=\"1\" class=\"dataframe\">\n  <thead>\n    <tr style=\"text-align: right;\">\n      <th></th>\n      <th>CUI</th>\n      <th>AUI</th>\n      <th>AUI2</th>\n    </tr>\n    <tr>\n      <th>npartitions=1</th>\n      <th></th>\n      <th></th>\n      <th></th>\n    </tr>\n  </thead>\n  <tbody>\n    <tr>\n      <th></th>\n      <td>object</td>\n      <td>object</td>\n      <td>object</td>\n    </tr>\n    <tr>\n      <th></th>\n      <td>...</td>\n      <td>...</td>\n      <td>...</td>\n    </tr>\n  </tbody>\n</table>\n</div>\n<div>Dask Name: drop-duplicates-agg, 124 tasks</div>"
     },
     "execution_count": 11,
     "metadata": {},
     "output_type": "execute_result"
    }
   ],
   "source": [
    "mrrel = mrrel[[\"CUI\", \"AUI\", \"AUI2\"]]\n",
    "mrrel = mrrel.drop_duplicates()\n",
    "mrrel\n",
    "\n",
    "\n"
   ]
  },
  {
   "cell_type": "code",
   "execution_count": 8,
   "outputs": [
    {
     "data": {
      "text/plain": "['/home/karl/PycharmProjects/pythonProject/buildNERhypernymy/mrconso_mrrel_hypernym_first_merge.csv']"
     },
     "execution_count": 8,
     "metadata": {},
     "output_type": "execute_result"
    }
   ],
   "source": [
    "merged_df.to_csv('mrconso_mrrel_hypernym_first_merge.csv', single_file=True)"
   ],
   "metadata": {
    "collapsed": false,
    "pycharm": {
     "name": "#%%\n"
    }
   }
  },
  {
   "cell_type": "code",
   "execution_count": null,
   "outputs": [],
   "source": [
    "\n",
    "\"\"\"\n",
    "SOURCE = CONCEPT\n",
    "\n",
    "1. Find all atoms of a UMLS concept.\n",
    "\n",
    "SELECT * FROM mrconso\n",
    "WHERE cui = 'C0032344';\n",
    "\n",
    "2. Find all source definitions associated with a UMLS concept.\n",
    "\n",
    "SELECT * FROM mrdef\n",
    "WHERE cui = 'C0032344';\n",
    "\n",
    "3. Find all source contexts associated with a UMLS concept.\n",
    "All intra-source/concept relationship\n",
    "SELECT * FROM mrhier\n",
    "WHERE cui = 'C0032344';\n",
    "\n",
    "4. Find all attributes for a UMLS concept.\n",
    "\n",
    "SELECT * FROM mrsat\n",
    "WHERE cui = 'C0032344'\n",
    "     AND stype = 'CUI';\n",
    "\n",
    "5. Find all semantic types for a UMLS concept.\n",
    "\n",
    "SELECT * FROM mrsty\n",
    "WHERE cui = 'C0032344';\n",
    "\n",
    "6.a. Find all relationships for a UMLS concept.\n",
    "All inter-source/concept relationships (synonyms, etc)\n",
    "Note: In MRREL, the REL/RELA always expresses the nature of the relationship from CUI2 to the \"current concept\", CUI1. Because we're querying CUI1 below, this represents the \"natural\" direction of the relationship.\n",
    "\n",
    "SELECT * FROM mrrel\n",
    "WHERE cui1 = 'C0032344'\n",
    "\n",
    "6.b. Find all inverse relationships for a UMLS concept.\n",
    "Note: In MRREL, the REL/RELA always expresses the nature of the relationship from CUI2 to the \"current concept\", CUI1. Because we're querying CUI2 below, this represents the opposite of the \"natural\" direction of the relationship.\n",
    "\n",
    "SELECT * FROM mrrel\n",
    "WHERE cui2 = 'C0032344';\n",
    "     AND stype2 = 'CUI';\n",
    "\n",
    "7. Find all relationships for a concept and the preferred (English) name of the CUI2.\n",
    "\n",
    "SELECT a.cui1, a.cui2, b.str FROM mrrel a, mrconso b\n",
    "WHERE a.cui1 = 'C0032344'\n",
    "     AND a.stype1 = 'CUI'\n",
    "     AND a.cui2 = b.cui\n",
    "     AND b.ts = 'P'\n",
    "     AND b.stt = 'PF'\n",
    "     AND b.ispref = 'Y'\n",
    "     AND b.lat = 'ENG';\n",
    "\n",
    "Concatenated rows exceeds size_type range after merge operation[BUG]\n",
    "\n",
    "Solution:\n",
    "\n",
    "You are running into this issue because the output merge of small chunks may be too big (> 2,147,483,648) .\n",
    "\n",
    "This can happen if you have a lot of repeated keys as we repeat each row in the right table that matches the left table.\n",
    "See the below example for an explanation.\n",
    "\n",
    "Now mitigating this can be done in multiple ways :\n",
    "\n",
    "1. If one of the frames is a single partitions (For broadcast joints) :\n",
    "Repartition the multi partitioned table upfront into more partitions:\n",
    "\n",
    "## the right frame is a single partition\n",
    "assert ddf_2.npartitions == 1\n",
    "\n",
    "merged_df = ddf_1 = ddf_1.repartition(npartitions=ddf_1.npartitions*2)\n",
    "ddf_1.merge(ddf_2,how=inner)\n",
    "\n",
    "2. If both of them have multiple partitions (Hash-Join)\n",
    "Using npartitions: This argument controls the number of output partitions.\n",
    "\n",
    "o_partitions = max(ddf_1.npartitions, ddf_2.npartitions )*2\n",
    "merged_df = ddf_1.merge(ddf_2,npartitions= o_partitions,  how=inner)\n",
    "\n",
    "It's tough to know how to mitigate this error without more information\n",
    "like the number of left and right partitions but I hope that this still helps.\n",
    "\n",
    "https://www.gitmemory.com/issue/rapidsai/cudf/8182/834834910\n",
    "\n",
    "cudf memory error solutions:\n",
    "\n",
    "Try using RMM managed memory.\n",
    "You can enable that by setting the RMM allocator through a Dask client.run call:\n",
    "i.e: the preamble to this script\n",
    "\n",
    "client = Client(cluster)  # Sample client connecting to `cluster` object\n",
    "client.run(cudf.set_allocator, \"managed\")  # Uses managed memory instead of \"default\"\n",
    "By doing this, you'll be using CUDA unified memory, which will take care of moving data GPU<->CPU automatically when the GPU is running OOM.\n",
    "\n",
    "EDIT: If you're not using Dask, you can simply use cudf.set_allocator(\"managed\").\n",
    "\n",
    "https://docs.rapids.ai/api/dask-cuda/nightly/index.html\n",
    "https://dask-cuda.readthedocs.io/en/latest/specializations.html#spilling-from-device\n",
    "\"\"\""
   ],
   "metadata": {
    "collapsed": false,
    "pycharm": {
     "name": "#%%\n"
    }
   }
  }
 ],
 "metadata": {
  "kernelspec": {
   "display_name": "saturn (Python 3)",
   "language": "python",
   "name": "python3"
  },
  "language_info": {
   "codemirror_mode": {
    "name": "ipython",
    "version": 3
   },
   "file_extension": ".py",
   "mimetype": "text/x-python",
   "name": "python",
   "nbconvert_exporter": "python",
   "pygments_lexer": "ipython3",
   "version": "3.7.10"
  }
 },
 "nbformat": 4,
 "nbformat_minor": 5
}