{
 "cells": [
  {
   "cell_type": "code",
   "execution_count": 3,
   "outputs": [
    {
     "name": "stderr",
     "output_type": "stream",
     "text": [
      "/home/karl/anaconda3/envs/rapids-21.06/lib/python3.7/site-packages/distributed/node.py:164: UserWarning: Port 8787 is already in use.\n",
      "Perhaps you already have a cluster running?\n",
      "Hosting the HTTP server on port 39891 instead\n",
      "  expected, actual\n"
     ]
    }
   ],
   "source": [
    "from dask.distributed import Client\n",
    "from dask_cuda import LocalCUDACluster\n",
    "cluster = LocalCUDACluster()\n",
    "client = Client(cluster)\n",
    "client\n",
    "import dask_cudf as pd\n",
    "#lol numpy\n",
    "\n"
   ],
   "metadata": {
    "collapsed": false,
    "pycharm": {
     "name": "#%%\n"
    }
   }
  },
  {
   "cell_type": "code",
   "execution_count": 6,
   "id": "31700d7a",
   "metadata": {
    "execution": {
     "iopub.execute_input": "2021-07-14T04:04:26.344853Z",
     "iopub.status.busy": "2021-07-14T04:04:26.344552Z",
     "iopub.status.idle": "2021-07-14T04:04:26.349911Z",
     "shell.execute_reply": "2021-07-14T04:04:26.349150Z",
     "shell.execute_reply.started": "2021-07-14T04:04:26.344818Z"
    }
   },
   "outputs": [],
   "source": [
    "#mrconso_columns = ['CUI', 'LAT', 'TS', 'LUI', 'STT', 'SUI', 'ISPREF', 'AUI', 'SAUI', 'SCUI', 'SDUI', 'SAB', 'TTY', 'CODE', 'STR', 'SRL', 'SUPPRESS']\n",
    "#mrconso_columns = ['CUI', 'LAT', 'TS', 'STT', 'SUI', 'ISPREF', 'AUI', 'SAUI', 'SCUI', 'SDUI', 'SAB', 'TTY', 'CODE', 'STR', 'SRL', 'SUPRESS', 'CVF']\n",
    "\n",
    "mrconso_columns = [\"CUI\",\"LAT\",\"TS\",\"LUI\",\"STT\",\"SUI\",\"ISPREF\",\"AUI\",\"SAUI\",\"SCUI\",\"SDUI\",\"SAB\",\"TTY\",\"CODE\",\"STR\",\"SRL\",\"SUPRESS\",\"CVF\",]\n",
    "#mrrel_columns = ['CUI1', 'REL', 'CUI2', 'RELA', 'SAB', 'SL', 'MG']\n",
    "mrrel_columns = ['CUI', 'AUI', 'STYPE', 'REL', 'CUI2', 'AUI2', 'STYPE2', 'RELA', 'RUI', 'SRUI', 'SAB', 'SL','RG','DIR','SUPPRESS','CVF']"
   ]
  },
  {
   "cell_type": "code",
   "execution_count": 7,
   "id": "de969541",
   "metadata": {
    "execution": {
     "iopub.execute_input": "2021-07-14T04:04:27.834019Z",
     "iopub.status.busy": "2021-07-14T04:04:27.833794Z",
     "iopub.status.idle": "2021-07-14T04:04:29.555700Z",
     "shell.execute_reply": "2021-07-14T04:04:29.555172Z",
     "shell.execute_reply.started": "2021-07-14T04:04:27.833995Z"
    }
   },
   "outputs": [],
   "source": [
    "mrconso_iter = pd.read_csv(\n",
    "    \"../UMLS/MRCONSO.RRF\",\n",
    "    sep=\"|\",\n",
    "    names=mrconso_columns,\n",
    "    dtype=str\n",
    ")\n",
    "mrconso = mrconso_iter[mrconso_iter[\"LAT\"] == \"ENG\"]\n",
    "# mrconso = mrconso.map_partitions(lambda df: df.to_pandas())\n",
    "\n",
    "mrrel_iter = pd.read_csv(\n",
    "    \"../UMLS/MRREL.RRF\",\n",
    "    sep=\"|\",\n",
    "    names=mrrel_columns,\n",
    ")\n",
    "\n",
    "#mrrel = mrrel_iter[mrrel_iter[\"RELA\"] == \"isa\"]\n",
    "# mrrel = mrrel.map_partitions(lambda df: df.to_pandas())"
   ]
  },
  {
   "cell_type": "code",
   "execution_count": 10,
   "id": "52dd27b7",
   "metadata": {
    "execution": {
     "iopub.execute_input": "2021-07-14T04:04:30.333669Z",
     "iopub.status.busy": "2021-07-14T04:04:30.333442Z",
     "iopub.status.idle": "2021-07-14T04:21:27.127245Z",
     "shell.execute_reply": "2021-07-14T04:21:27.126663Z",
     "shell.execute_reply.started": "2021-07-14T04:04:30.333646Z"
    }
   },
   "outputs": [
    {
     "ename": "ValueError",
     "evalue": "Metadata inference failed in `map`.\n\nYou have supplied a custom function and Dask is unable to \ndetermine the type of output that that function returns. \n\nTo resolve this please provide a meta= keyword.\nThe docstring of the Dask function you ran should have more information.\n\nOriginal error is below:\n------------------------\nValueError('Reindexing only valid with uniquely valued Index objects')\n\nTraceback:\n---------\n  File \"/home/karl/anaconda3/envs/rapids-21.06/lib/python3.7/site-packages/dask/dataframe/utils.py\", line 175, in raise_on_meta_error\n    yield\n  File \"/home/karl/anaconda3/envs/rapids-21.06/lib/python3.7/site-packages/dask/dataframe/core.py\", line 5546, in _emulate\n    return func(*_extract_meta(args, True), **_extract_meta(kwargs, True))\n  File \"/home/karl/anaconda3/envs/rapids-21.06/lib/python3.7/site-packages/dask/utils.py\", line 900, in __call__\n    return getattr(obj, self.method)(*args, **kwargs)\n  File \"/home/karl/anaconda3/envs/rapids-21.06/lib/python3.7/site-packages/cudf/core/series.py\", line 1011, in map\n    \"Reindexing only valid with\"\n",
     "output_type": "error",
     "traceback": [
      "\u001B[0;31m---------------------------------------------------------------------------\u001B[0m",
      "\u001B[0;31mValueError\u001B[0m                                Traceback (most recent call last)",
      "\u001B[0;32m~/anaconda3/envs/rapids-21.06/lib/python3.7/site-packages/dask/dataframe/utils.py\u001B[0m in \u001B[0;36mraise_on_meta_error\u001B[0;34m(funcname, udf)\u001B[0m\n\u001B[1;32m    174\u001B[0m     \u001B[0;32mtry\u001B[0m\u001B[0;34m:\u001B[0m\u001B[0;34m\u001B[0m\u001B[0;34m\u001B[0m\u001B[0m\n\u001B[0;32m--> 175\u001B[0;31m         \u001B[0;32myield\u001B[0m\u001B[0;34m\u001B[0m\u001B[0;34m\u001B[0m\u001B[0m\n\u001B[0m\u001B[1;32m    176\u001B[0m     \u001B[0;32mexcept\u001B[0m \u001B[0mException\u001B[0m \u001B[0;32mas\u001B[0m \u001B[0me\u001B[0m\u001B[0;34m:\u001B[0m\u001B[0;34m\u001B[0m\u001B[0;34m\u001B[0m\u001B[0m\n",
      "\u001B[0;32m~/anaconda3/envs/rapids-21.06/lib/python3.7/site-packages/dask/dataframe/core.py\u001B[0m in \u001B[0;36m_emulate\u001B[0;34m(func, *args, **kwargs)\u001B[0m\n\u001B[1;32m   5545\u001B[0m     \u001B[0;32mwith\u001B[0m \u001B[0mraise_on_meta_error\u001B[0m\u001B[0;34m(\u001B[0m\u001B[0mfuncname\u001B[0m\u001B[0;34m(\u001B[0m\u001B[0mfunc\u001B[0m\u001B[0;34m)\u001B[0m\u001B[0;34m,\u001B[0m \u001B[0mudf\u001B[0m\u001B[0;34m=\u001B[0m\u001B[0mkwargs\u001B[0m\u001B[0;34m.\u001B[0m\u001B[0mpop\u001B[0m\u001B[0;34m(\u001B[0m\u001B[0;34m\"udf\"\u001B[0m\u001B[0;34m,\u001B[0m \u001B[0;32mFalse\u001B[0m\u001B[0;34m)\u001B[0m\u001B[0;34m)\u001B[0m\u001B[0;34m:\u001B[0m\u001B[0;34m\u001B[0m\u001B[0;34m\u001B[0m\u001B[0m\n\u001B[0;32m-> 5546\u001B[0;31m         \u001B[0;32mreturn\u001B[0m \u001B[0mfunc\u001B[0m\u001B[0;34m(\u001B[0m\u001B[0;34m*\u001B[0m\u001B[0m_extract_meta\u001B[0m\u001B[0;34m(\u001B[0m\u001B[0margs\u001B[0m\u001B[0;34m,\u001B[0m \u001B[0;32mTrue\u001B[0m\u001B[0;34m)\u001B[0m\u001B[0;34m,\u001B[0m \u001B[0;34m**\u001B[0m\u001B[0m_extract_meta\u001B[0m\u001B[0;34m(\u001B[0m\u001B[0mkwargs\u001B[0m\u001B[0;34m,\u001B[0m \u001B[0;32mTrue\u001B[0m\u001B[0;34m)\u001B[0m\u001B[0;34m)\u001B[0m\u001B[0;34m\u001B[0m\u001B[0;34m\u001B[0m\u001B[0m\n\u001B[0m\u001B[1;32m   5547\u001B[0m \u001B[0;34m\u001B[0m\u001B[0m\n",
      "\u001B[0;32m~/anaconda3/envs/rapids-21.06/lib/python3.7/site-packages/dask/utils.py\u001B[0m in \u001B[0;36m__call__\u001B[0;34m(self, obj, *args, **kwargs)\u001B[0m\n\u001B[1;32m    899\u001B[0m     \u001B[0;32mdef\u001B[0m \u001B[0m__call__\u001B[0m\u001B[0;34m(\u001B[0m\u001B[0mself\u001B[0m\u001B[0;34m,\u001B[0m \u001B[0mobj\u001B[0m\u001B[0;34m,\u001B[0m \u001B[0;34m*\u001B[0m\u001B[0margs\u001B[0m\u001B[0;34m,\u001B[0m \u001B[0;34m**\u001B[0m\u001B[0mkwargs\u001B[0m\u001B[0;34m)\u001B[0m\u001B[0;34m:\u001B[0m\u001B[0;34m\u001B[0m\u001B[0;34m\u001B[0m\u001B[0m\n\u001B[0;32m--> 900\u001B[0;31m         \u001B[0;32mreturn\u001B[0m \u001B[0mgetattr\u001B[0m\u001B[0;34m(\u001B[0m\u001B[0mobj\u001B[0m\u001B[0;34m,\u001B[0m \u001B[0mself\u001B[0m\u001B[0;34m.\u001B[0m\u001B[0mmethod\u001B[0m\u001B[0;34m)\u001B[0m\u001B[0;34m(\u001B[0m\u001B[0;34m*\u001B[0m\u001B[0margs\u001B[0m\u001B[0;34m,\u001B[0m \u001B[0;34m**\u001B[0m\u001B[0mkwargs\u001B[0m\u001B[0;34m)\u001B[0m\u001B[0;34m\u001B[0m\u001B[0;34m\u001B[0m\u001B[0m\n\u001B[0m\u001B[1;32m    901\u001B[0m \u001B[0;34m\u001B[0m\u001B[0m\n",
      "\u001B[0;32m~/anaconda3/envs/rapids-21.06/lib/python3.7/site-packages/cudf/core/series.py\u001B[0m in \u001B[0;36mmap\u001B[0;34m(self, arg, na_action)\u001B[0m\n\u001B[1;32m   1010\u001B[0m                 raise ValueError(\n\u001B[0;32m-> 1011\u001B[0;31m                     \u001B[0;34m\"Reindexing only valid with\"\u001B[0m\u001B[0;34m\u001B[0m\u001B[0;34m\u001B[0m\u001B[0m\n\u001B[0m\u001B[1;32m   1012\u001B[0m                     \u001B[0;34m\" uniquely valued Index objects\"\u001B[0m\u001B[0;34m\u001B[0m\u001B[0;34m\u001B[0m\u001B[0m\n",
      "\u001B[0;31mValueError\u001B[0m: Reindexing only valid with uniquely valued Index objects",
      "\nThe above exception was the direct cause of the following exception:\n",
      "\u001B[0;31mValueError\u001B[0m                                Traceback (most recent call last)",
      "\u001B[0;32m<ipython-input-10-84d2619a1b5e>\u001B[0m in \u001B[0;36m<module>\u001B[0;34m\u001B[0m\n\u001B[1;32m      4\u001B[0m \u001B[0mmapper\u001B[0m \u001B[0;34m=\u001B[0m \u001B[0mmrconso\u001B[0m\u001B[0;34m.\u001B[0m\u001B[0mset_index\u001B[0m\u001B[0;34m(\u001B[0m\u001B[0;34m'CUI'\u001B[0m\u001B[0;34m)\u001B[0m\u001B[0;34m[\u001B[0m\u001B[0;34m'STR'\u001B[0m\u001B[0;34m]\u001B[0m\u001B[0;34m.\u001B[0m\u001B[0mcompute\u001B[0m\u001B[0;34m(\u001B[0m\u001B[0;34m)\u001B[0m\u001B[0;34m\u001B[0m\u001B[0;34m\u001B[0m\u001B[0m\n\u001B[1;32m      5\u001B[0m \u001B[0mmerged\u001B[0m \u001B[0;34m=\u001B[0m \u001B[0mmrrel\u001B[0m\u001B[0;34m.\u001B[0m\u001B[0mcopy\u001B[0m\u001B[0;34m(\u001B[0m\u001B[0;34m)\u001B[0m\u001B[0;34m\u001B[0m\u001B[0;34m\u001B[0m\u001B[0m\n\u001B[0;32m----> 6\u001B[0;31m \u001B[0mmerged\u001B[0m\u001B[0;34m[\u001B[0m\u001B[0;34m'hyponym'\u001B[0m\u001B[0;34m]\u001B[0m \u001B[0;34m=\u001B[0m \u001B[0mmerged\u001B[0m\u001B[0;34m[\u001B[0m\u001B[0;34m'CUI'\u001B[0m\u001B[0;34m]\u001B[0m\u001B[0;34m.\u001B[0m\u001B[0mmap\u001B[0m\u001B[0;34m(\u001B[0m\u001B[0mmapper\u001B[0m\u001B[0;34m)\u001B[0m\u001B[0;34m\u001B[0m\u001B[0;34m\u001B[0m\u001B[0m\n\u001B[0m\u001B[1;32m      7\u001B[0m \u001B[0mmerged\u001B[0m\u001B[0;34m[\u001B[0m\u001B[0;34m'hypernym'\u001B[0m\u001B[0;34m]\u001B[0m \u001B[0;34m=\u001B[0m \u001B[0mmerged\u001B[0m\u001B[0;34m[\u001B[0m\u001B[0;34m'CUI2'\u001B[0m\u001B[0;34m]\u001B[0m\u001B[0;34m.\u001B[0m\u001B[0mmap\u001B[0m\u001B[0;34m(\u001B[0m\u001B[0mmapper\u001B[0m\u001B[0;34m)\u001B[0m\u001B[0;34m\u001B[0m\u001B[0;34m\u001B[0m\u001B[0m\n\u001B[1;32m      8\u001B[0m \u001B[0mdrop_columns\u001B[0m \u001B[0;34m=\u001B[0m \u001B[0;34m[\u001B[0m\u001B[0;34m'CUI'\u001B[0m\u001B[0;34m,\u001B[0m \u001B[0;34m'AUI'\u001B[0m\u001B[0;34m,\u001B[0m \u001B[0;34m'STYPE'\u001B[0m\u001B[0;34m,\u001B[0m \u001B[0;34m'REL'\u001B[0m\u001B[0;34m,\u001B[0m \u001B[0;34m'CUI2'\u001B[0m\u001B[0;34m,\u001B[0m \u001B[0;34m'AUI2'\u001B[0m\u001B[0;34m,\u001B[0m \u001B[0;34m'STYPE2'\u001B[0m\u001B[0;34m,\u001B[0m \u001B[0;34m'RELA'\u001B[0m\u001B[0;34m,\u001B[0m \u001B[0;34m'RUI'\u001B[0m\u001B[0;34m,\u001B[0m \u001B[0;34m'SRUI'\u001B[0m\u001B[0;34m,\u001B[0m \u001B[0;34m'SAB'\u001B[0m\u001B[0;34m,\u001B[0m \u001B[0;34m'SL'\u001B[0m\u001B[0;34m,\u001B[0m\u001B[0;34m'RG'\u001B[0m\u001B[0;34m,\u001B[0m\u001B[0;34m'DIR'\u001B[0m\u001B[0;34m,\u001B[0m\u001B[0;34m'SUPPRESS'\u001B[0m\u001B[0;34m,\u001B[0m\u001B[0;34m'CVF'\u001B[0m\u001B[0;34m]\u001B[0m\u001B[0;34m\u001B[0m\u001B[0;34m\u001B[0m\u001B[0m\n",
      "\u001B[0;32m~/anaconda3/envs/rapids-21.06/lib/python3.7/site-packages/dask/dataframe/core.py\u001B[0m in \u001B[0;36mmap\u001B[0;34m(self, arg, na_action, meta)\u001B[0m\n\u001B[1;32m   3354\u001B[0m         \u001B[0mgraph\u001B[0m \u001B[0;34m=\u001B[0m \u001B[0mHighLevelGraph\u001B[0m\u001B[0;34m.\u001B[0m\u001B[0mfrom_collections\u001B[0m\u001B[0;34m(\u001B[0m\u001B[0mname\u001B[0m\u001B[0;34m,\u001B[0m \u001B[0mdsk\u001B[0m\u001B[0;34m,\u001B[0m \u001B[0mdependencies\u001B[0m\u001B[0;34m=\u001B[0m\u001B[0;34m[\u001B[0m\u001B[0mself\u001B[0m\u001B[0;34m]\u001B[0m\u001B[0;34m)\u001B[0m\u001B[0;34m\u001B[0m\u001B[0;34m\u001B[0m\u001B[0m\n\u001B[1;32m   3355\u001B[0m         \u001B[0;32mif\u001B[0m \u001B[0mmeta\u001B[0m \u001B[0;32mis\u001B[0m \u001B[0mno_default\u001B[0m\u001B[0;34m:\u001B[0m\u001B[0;34m\u001B[0m\u001B[0;34m\u001B[0m\u001B[0m\n\u001B[0;32m-> 3356\u001B[0;31m             \u001B[0mmeta\u001B[0m \u001B[0;34m=\u001B[0m \u001B[0m_emulate\u001B[0m\u001B[0;34m(\u001B[0m\u001B[0mM\u001B[0m\u001B[0;34m.\u001B[0m\u001B[0mmap\u001B[0m\u001B[0;34m,\u001B[0m \u001B[0mself\u001B[0m\u001B[0;34m,\u001B[0m \u001B[0marg\u001B[0m\u001B[0;34m,\u001B[0m \u001B[0mna_action\u001B[0m\u001B[0;34m=\u001B[0m\u001B[0mna_action\u001B[0m\u001B[0;34m,\u001B[0m \u001B[0mudf\u001B[0m\u001B[0;34m=\u001B[0m\u001B[0;32mTrue\u001B[0m\u001B[0;34m)\u001B[0m\u001B[0;34m\u001B[0m\u001B[0;34m\u001B[0m\u001B[0m\n\u001B[0m\u001B[1;32m   3357\u001B[0m         \u001B[0;32melse\u001B[0m\u001B[0;34m:\u001B[0m\u001B[0;34m\u001B[0m\u001B[0;34m\u001B[0m\u001B[0m\n\u001B[1;32m   3358\u001B[0m             \u001B[0mmeta\u001B[0m \u001B[0;34m=\u001B[0m \u001B[0mmake_meta\u001B[0m\u001B[0;34m(\u001B[0m\u001B[0mmeta\u001B[0m\u001B[0;34m,\u001B[0m \u001B[0mindex\u001B[0m\u001B[0;34m=\u001B[0m\u001B[0mgetattr\u001B[0m\u001B[0;34m(\u001B[0m\u001B[0mmake_meta\u001B[0m\u001B[0;34m(\u001B[0m\u001B[0mself\u001B[0m\u001B[0;34m)\u001B[0m\u001B[0;34m,\u001B[0m \u001B[0;34m\"index\"\u001B[0m\u001B[0;34m,\u001B[0m \u001B[0;32mNone\u001B[0m\u001B[0;34m)\u001B[0m\u001B[0;34m)\u001B[0m\u001B[0;34m\u001B[0m\u001B[0;34m\u001B[0m\u001B[0m\n",
      "\u001B[0;32m~/anaconda3/envs/rapids-21.06/lib/python3.7/site-packages/dask/dataframe/core.py\u001B[0m in \u001B[0;36m_emulate\u001B[0;34m(func, *args, **kwargs)\u001B[0m\n\u001B[1;32m   5544\u001B[0m     \"\"\"\n\u001B[1;32m   5545\u001B[0m     \u001B[0;32mwith\u001B[0m \u001B[0mraise_on_meta_error\u001B[0m\u001B[0;34m(\u001B[0m\u001B[0mfuncname\u001B[0m\u001B[0;34m(\u001B[0m\u001B[0mfunc\u001B[0m\u001B[0;34m)\u001B[0m\u001B[0;34m,\u001B[0m \u001B[0mudf\u001B[0m\u001B[0;34m=\u001B[0m\u001B[0mkwargs\u001B[0m\u001B[0;34m.\u001B[0m\u001B[0mpop\u001B[0m\u001B[0;34m(\u001B[0m\u001B[0;34m\"udf\"\u001B[0m\u001B[0;34m,\u001B[0m \u001B[0;32mFalse\u001B[0m\u001B[0;34m)\u001B[0m\u001B[0;34m)\u001B[0m\u001B[0;34m:\u001B[0m\u001B[0;34m\u001B[0m\u001B[0;34m\u001B[0m\u001B[0m\n\u001B[0;32m-> 5546\u001B[0;31m         \u001B[0;32mreturn\u001B[0m \u001B[0mfunc\u001B[0m\u001B[0;34m(\u001B[0m\u001B[0;34m*\u001B[0m\u001B[0m_extract_meta\u001B[0m\u001B[0;34m(\u001B[0m\u001B[0margs\u001B[0m\u001B[0;34m,\u001B[0m \u001B[0;32mTrue\u001B[0m\u001B[0;34m)\u001B[0m\u001B[0;34m,\u001B[0m \u001B[0;34m**\u001B[0m\u001B[0m_extract_meta\u001B[0m\u001B[0;34m(\u001B[0m\u001B[0mkwargs\u001B[0m\u001B[0;34m,\u001B[0m \u001B[0;32mTrue\u001B[0m\u001B[0;34m)\u001B[0m\u001B[0;34m)\u001B[0m\u001B[0;34m\u001B[0m\u001B[0;34m\u001B[0m\u001B[0m\n\u001B[0m\u001B[1;32m   5547\u001B[0m \u001B[0;34m\u001B[0m\u001B[0m\n\u001B[1;32m   5548\u001B[0m \u001B[0;34m\u001B[0m\u001B[0m\n",
      "\u001B[0;32m~/anaconda3/envs/rapids-21.06/lib/python3.7/contextlib.py\u001B[0m in \u001B[0;36m__exit__\u001B[0;34m(self, type, value, traceback)\u001B[0m\n\u001B[1;32m    128\u001B[0m                 \u001B[0mvalue\u001B[0m \u001B[0;34m=\u001B[0m \u001B[0mtype\u001B[0m\u001B[0;34m(\u001B[0m\u001B[0;34m)\u001B[0m\u001B[0;34m\u001B[0m\u001B[0;34m\u001B[0m\u001B[0m\n\u001B[1;32m    129\u001B[0m             \u001B[0;32mtry\u001B[0m\u001B[0;34m:\u001B[0m\u001B[0;34m\u001B[0m\u001B[0;34m\u001B[0m\u001B[0m\n\u001B[0;32m--> 130\u001B[0;31m                 \u001B[0mself\u001B[0m\u001B[0;34m.\u001B[0m\u001B[0mgen\u001B[0m\u001B[0;34m.\u001B[0m\u001B[0mthrow\u001B[0m\u001B[0;34m(\u001B[0m\u001B[0mtype\u001B[0m\u001B[0;34m,\u001B[0m \u001B[0mvalue\u001B[0m\u001B[0;34m,\u001B[0m \u001B[0mtraceback\u001B[0m\u001B[0;34m)\u001B[0m\u001B[0;34m\u001B[0m\u001B[0;34m\u001B[0m\u001B[0m\n\u001B[0m\u001B[1;32m    131\u001B[0m             \u001B[0;32mexcept\u001B[0m \u001B[0mStopIteration\u001B[0m \u001B[0;32mas\u001B[0m \u001B[0mexc\u001B[0m\u001B[0;34m:\u001B[0m\u001B[0;34m\u001B[0m\u001B[0;34m\u001B[0m\u001B[0m\n\u001B[1;32m    132\u001B[0m                 \u001B[0;31m# Suppress StopIteration *unless* it's the same exception that\u001B[0m\u001B[0;34m\u001B[0m\u001B[0;34m\u001B[0m\u001B[0;34m\u001B[0m\u001B[0m\n",
      "\u001B[0;32m~/anaconda3/envs/rapids-21.06/lib/python3.7/site-packages/dask/dataframe/utils.py\u001B[0m in \u001B[0;36mraise_on_meta_error\u001B[0;34m(funcname, udf)\u001B[0m\n\u001B[1;32m    194\u001B[0m         )\n\u001B[1;32m    195\u001B[0m         \u001B[0mmsg\u001B[0m \u001B[0;34m=\u001B[0m \u001B[0mmsg\u001B[0m\u001B[0;34m.\u001B[0m\u001B[0mformat\u001B[0m\u001B[0;34m(\u001B[0m\u001B[0;34m\" in `{0}`\"\u001B[0m\u001B[0;34m.\u001B[0m\u001B[0mformat\u001B[0m\u001B[0;34m(\u001B[0m\u001B[0mfuncname\u001B[0m\u001B[0;34m)\u001B[0m \u001B[0;32mif\u001B[0m \u001B[0mfuncname\u001B[0m \u001B[0;32melse\u001B[0m \u001B[0;34m\"\"\u001B[0m\u001B[0;34m,\u001B[0m \u001B[0mrepr\u001B[0m\u001B[0;34m(\u001B[0m\u001B[0me\u001B[0m\u001B[0;34m)\u001B[0m\u001B[0;34m,\u001B[0m \u001B[0mtb\u001B[0m\u001B[0;34m)\u001B[0m\u001B[0;34m\u001B[0m\u001B[0;34m\u001B[0m\u001B[0m\n\u001B[0;32m--> 196\u001B[0;31m         \u001B[0;32mraise\u001B[0m \u001B[0mValueError\u001B[0m\u001B[0;34m(\u001B[0m\u001B[0mmsg\u001B[0m\u001B[0;34m)\u001B[0m \u001B[0;32mfrom\u001B[0m \u001B[0me\u001B[0m\u001B[0;34m\u001B[0m\u001B[0;34m\u001B[0m\u001B[0m\n\u001B[0m\u001B[1;32m    197\u001B[0m \u001B[0;34m\u001B[0m\u001B[0m\n\u001B[1;32m    198\u001B[0m \u001B[0;34m\u001B[0m\u001B[0m\n",
      "\u001B[0;31mValueError\u001B[0m: Metadata inference failed in `map`.\n\nYou have supplied a custom function and Dask is unable to \ndetermine the type of output that that function returns. \n\nTo resolve this please provide a meta= keyword.\nThe docstring of the Dask function you ran should have more information.\n\nOriginal error is below:\n------------------------\nValueError('Reindexing only valid with uniquely valued Index objects')\n\nTraceback:\n---------\n  File \"/home/karl/anaconda3/envs/rapids-21.06/lib/python3.7/site-packages/dask/dataframe/utils.py\", line 175, in raise_on_meta_error\n    yield\n  File \"/home/karl/anaconda3/envs/rapids-21.06/lib/python3.7/site-packages/dask/dataframe/core.py\", line 5546, in _emulate\n    return func(*_extract_meta(args, True), **_extract_meta(kwargs, True))\n  File \"/home/karl/anaconda3/envs/rapids-21.06/lib/python3.7/site-packages/dask/utils.py\", line 900, in __call__\n    return getattr(obj, self.method)(*args, **kwargs)\n  File \"/home/karl/anaconda3/envs/rapids-21.06/lib/python3.7/site-packages/cudf/core/series.py\", line 1011, in map\n    \"Reindexing only valid with\"\n"
     ]
    }
   ],
   "source": []
  },
  {
   "cell_type": "code",
   "execution_count": null,
   "id": "a4e6a348",
   "metadata": {},
   "outputs": [],
   "source": [
    "\n",
    "mrrel = mrrel_iter\n",
    "#mrrel = mrrel.drop_duplicates(subset=[\"CUI1\"])\n",
    "#mrconso = mrconso.drop_duplicates(subset=['CUI'])\n",
    "mapper = mrconso.set_index('CUI')['STR'].compute()\n",
    "merged = mrrel.copy()\n",
    "merged['hyponym'] = merged['CUI'].map(mapper)\n",
    "merged['hypernym'] = merged['CUI2'].map(mapper)\n",
    "drop_columns = ['CUI', 'AUI', 'STYPE', 'REL', 'CUI2', 'AUI2', 'STYPE2', 'RELA', 'RUI', 'SRUI', 'SAB', 'SL','RG','DIR','SUPPRESS','CVF']\n",
    "merged = merged.drop(drop_columns, axis=1)\n",
    "merged_pandas = merged.to_pandas()\n",
    "merged_pandas.to_csv('sub_output.csv', sep='|', index=False)"
   ]
  }
 ],
 "metadata": {
  "kernelspec": {
   "display_name": "saturn (Python 3)",
   "language": "python",
   "name": "python3"
  },
  "language_info": {
   "codemirror_mode": {
    "name": "ipython",
    "version": 3
   },
   "file_extension": ".py",
   "mimetype": "text/x-python",
   "name": "python",
   "nbconvert_exporter": "python",
   "pygments_lexer": "ipython3",
   "version": "3.7.10"
  }
 },
 "nbformat": 4,
 "nbformat_minor": 5
}