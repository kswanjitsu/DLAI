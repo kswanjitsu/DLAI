{
 "cells": [
  {
   "cell_type": "code",
   "execution_count": 4,
   "id": "7a4e9777",
   "metadata": {
    "execution": {
     "iopub.execute_input": "2021-07-14T03:29:06.520414Z",
     "iopub.status.busy": "2021-07-14T03:29:06.519955Z",
     "iopub.status.idle": "2021-07-14T03:29:10.133438Z",
     "shell.execute_reply": "2021-07-14T03:29:10.132807Z",
     "shell.execute_reply.started": "2021-07-14T03:29:06.520165Z"
    }
   },
   "outputs": [
    {
     "name": "stderr",
     "output_type": "stream",
     "text": [
      "/home/karl/anaconda3/envs/rapids-21.08/lib/python3.7/site-packages/distributed/node.py:161: UserWarning: Port 8787 is already in use.\n",
      "Perhaps you already have a cluster running?\n",
      "Hosting the HTTP server on port 36073 instead\n",
      "  f\"Port {expected} is already in use.\\n\"\n",
      "Traceback (most recent call last):\n",
      "  File \"<string>\", line 1, in <module>\n",
      "  File \"/home/karl/anaconda3/envs/rapids-21.08/lib/python3.7/multiprocessing/spawn.py\", line 105, in spawn_main\n",
      "    exitcode = _main(fd)\n",
      "  File \"/home/karl/anaconda3/envs/rapids-21.08/lib/python3.7/multiprocessing/spawn.py\", line 115, in _main\n",
      "    self = reduction.pickle.load(from_parent)\n",
      "ModuleNotFoundError: No module named 'dask_cuda'\n",
      "distributed.nanny - WARNING - Restarting worker\n",
      "Traceback (most recent call last):\n",
      "  File \"<string>\", line 1, in <module>\n",
      "  File \"/home/karl/anaconda3/envs/rapids-21.08/lib/python3.7/multiprocessing/spawn.py\", line 105, in spawn_main\n",
      "    exitcode = _main(fd)\n",
      "  File \"/home/karl/anaconda3/envs/rapids-21.08/lib/python3.7/multiprocessing/spawn.py\", line 115, in _main\n",
      "    self = reduction.pickle.load(from_parent)\n",
      "ModuleNotFoundError: No module named 'dask_cuda'\n",
      "distributed.nanny - WARNING - Restarting worker\n",
      "Traceback (most recent call last):\n",
      "  File \"<string>\", line 1, in <module>\n",
      "  File \"/home/karl/anaconda3/envs/rapids-21.08/lib/python3.7/multiprocessing/spawn.py\", line 105, in spawn_main\n",
      "    exitcode = _main(fd)\n",
      "  File \"/home/karl/anaconda3/envs/rapids-21.08/lib/python3.7/multiprocessing/spawn.py\", line 115, in _main\n",
      "    self = reduction.pickle.load(from_parent)\n",
      "ModuleNotFoundError: No module named 'dask_cuda'\n"
     ]
    },
    {
     "data": {
      "text/plain": "<Client: 'tcp://127.0.0.1:33095' processes=0 threads=0, memory=0 B>",
      "text/html": "<div>\n    <div style=\"width: 24px; height: 24px; background-color: #e1e1e1; border: 3px solid #9D9D9D; border-radius: 5px; position: absolute;\"> </div>\n    <div style=\"margin-left: 48px;\">\n        <h3 style=\"margin-bottom: 0px;\">Client</h3>\n        <p style=\"color: #9D9D9D; margin-bottom: 0px;\">Client-b5d09758-22eb-11ec-b25f-18c04d84edc9</p>\n        <table style=\"width: 100%; text-align: left;\">\n\n        <tr>\n        \n            <td style=\"text-align: left;\"><strong>Connection method:</strong> Cluster object</td>\n            <td style=\"text-align: left;\"><strong>Cluster type:</strong> dask_cuda.LocalCUDACluster</td>\n        \n        </tr>\n\n        \n            <tr>\n                <td style=\"text-align: left;\">\n                    <strong>Dashboard: </strong> <a href=\"http://127.0.0.1:36073/status\" target=\"_blank\">http://127.0.0.1:36073/status</a>\n                </td>\n                <td style=\"text-align: left;\"></td>\n            </tr>\n        \n\n        </table>\n\n        \n            <details>\n            <summary style=\"margin-bottom: 20px;\"><h3 style=\"display: inline;\">Cluster Info</h3></summary>\n            <div class=\"jp-RenderedHTMLCommon jp-RenderedHTML jp-mod-trusted jp-OutputArea-output\">\n    <div style=\"width: 24px; height: 24px; background-color: #e1e1e1; border: 3px solid #9D9D9D; border-radius: 5px; position: absolute;\">\n    </div>\n    <div style=\"margin-left: 48px;\">\n        <h3 style=\"margin-bottom: 0px; margin-top: 0px;\">LocalCUDACluster</h3>\n        <p style=\"color: #9D9D9D; margin-bottom: 0px;\">e8fef3bb</p>\n        <table style=\"width: 100%; text-align: left;\">\n            <tr>\n                <td style=\"text-align: left;\">\n                    <strong>Dashboard:</strong> <a href=\"http://127.0.0.1:36073/status\" target=\"_blank\">http://127.0.0.1:36073/status</a>\n                </td>\n                <td style=\"text-align: left;\">\n                    <strong>Workers:</strong> 0\n                </td>\n            </tr>\n            <tr>\n                <td style=\"text-align: left;\">\n                    <strong>Total threads:</strong> 0\n                </td>\n                <td style=\"text-align: left;\">\n                    <strong>Total memory:</strong> 0 B\n                </td>\n            </tr>\n            \n            <tr>\n    <td style=\"text-align: left;\"><strong>Status:</strong> running</td>\n    <td style=\"text-align: left;\"><strong>Using processes:</strong> True</td>\n</tr>\n\n            \n        </table>\n\n        <details>\n            <summary style=\"margin-bottom: 20px;\">\n                <h3 style=\"display: inline;\">Scheduler Info</h3>\n            </summary>\n\n            <div style=\"\">\n    <div>\n        <div style=\"width: 24px; height: 24px; background-color: #FFF7E5; border: 3px solid #FF6132; border-radius: 5px; position: absolute;\"> </div>\n        <div style=\"margin-left: 48px;\">\n            <h3 style=\"margin-bottom: 0px;\">Scheduler</h3>\n            <p style=\"color: #9D9D9D; margin-bottom: 0px;\">Scheduler-12866d8a-d693-43bc-a51b-9c05ad93a3d7</p>\n            <table style=\"width: 100%; text-align: left;\">\n                <tr>\n                    <td style=\"text-align: left;\">\n                        <strong>Comm:</strong> tcp://127.0.0.1:33095\n                    </td>\n                    <td style=\"text-align: left;\">\n                        <strong>Workers:</strong> 0\n                    </td>\n                </tr>\n                <tr>\n                    <td style=\"text-align: left;\">\n                        <strong>Dashboard:</strong> <a href=\"http://127.0.0.1:36073/status\" target=\"_blank\">http://127.0.0.1:36073/status</a>\n                    </td>\n                    <td style=\"text-align: left;\">\n                        <strong>Total threads:</strong> 0\n                    </td>\n                </tr>\n                <tr>\n                    <td style=\"text-align: left;\">\n                        <strong>Started:</strong> Just now\n                    </td>\n                    <td style=\"text-align: left;\">\n                        <strong>Total memory:</strong> 0 B\n                    </td>\n                </tr>\n            </table>\n        </div>\n    </div>\n\n    <details style=\"margin-left: 48px;\">\n        <summary style=\"margin-bottom: 20px;\">\n            <h3 style=\"display: inline;\">Workers</h3>\n        </summary>\n\n        \n\n    </details>\n</div>\n\n        </details>\n    </div>\n</div>\n            </details>\n        \n\n    </div>\n</div>"
     },
     "execution_count": 4,
     "metadata": {},
     "output_type": "execute_result"
    }
   ],
   "source": [
    "from dask.distributed import Client\n",
    "from dask_cuda import LocalCUDACluster\n",
    "import dask_cudf as pd\n",
    "import cudf\n",
    "cluster = LocalCUDACluster(CUDA_VISIBLE_DEVICES=\"0\")\n",
    "client = Client(cluster)\n",
    "client.run(cudf.set_allocator, \"managed\")\n",
    "client\n",
    "\n",
    "\n",
    "#lol numpy\n"
   ]
  },
  {
   "cell_type": "code",
   "execution_count": 17,
   "id": "cf40ac7d",
   "metadata": {
    "execution": {
     "iopub.execute_input": "2021-07-14T03:31:58.936000Z",
     "iopub.status.busy": "2021-07-14T03:31:58.935745Z"
    }
   },
   "outputs": [
    {
     "data": {
      "text/plain": "<dask_cudf.DataFrame | 32 tasks | 8 npartitions>",
      "text/html": "<div><strong>Dask DataFrame Structure:</strong></div>\n<div>\n<style scoped>\n    .dataframe tbody tr th:only-of-type {\n        vertical-align: middle;\n    }\n\n    .dataframe tbody tr th {\n        vertical-align: top;\n    }\n\n    .dataframe thead th {\n        text-align: right;\n    }\n</style>\n<table border=\"1\" class=\"dataframe\">\n  <thead>\n    <tr style=\"text-align: right;\">\n      <th></th>\n      <th>CUI</th>\n      <th>LAT</th>\n      <th>TS</th>\n      <th>LUI</th>\n      <th>STT</th>\n      <th>SUI</th>\n      <th>ISPREF</th>\n      <th>AUI2</th>\n      <th>SAUI</th>\n      <th>SCUI</th>\n      <th>SDUI</th>\n      <th>SAB</th>\n      <th>TTY</th>\n      <th>CODE</th>\n      <th>STR</th>\n      <th>SRL</th>\n      <th>SUPRESS</th>\n      <th>CVF</th>\n    </tr>\n    <tr>\n      <th>npartitions=8</th>\n      <th></th>\n      <th></th>\n      <th></th>\n      <th></th>\n      <th></th>\n      <th></th>\n      <th></th>\n      <th></th>\n      <th></th>\n      <th></th>\n      <th></th>\n      <th></th>\n      <th></th>\n      <th></th>\n      <th></th>\n      <th></th>\n      <th></th>\n      <th></th>\n    </tr>\n  </thead>\n  <tbody>\n    <tr>\n      <th></th>\n      <td>object</td>\n      <td>object</td>\n      <td>object</td>\n      <td>object</td>\n      <td>object</td>\n      <td>object</td>\n      <td>object</td>\n      <td>object</td>\n      <td>float64</td>\n      <td>object</td>\n      <td>object</td>\n      <td>object</td>\n      <td>object</td>\n      <td>object</td>\n      <td>object</td>\n      <td>int64</td>\n      <td>object</td>\n      <td>float64</td>\n    </tr>\n    <tr>\n      <th></th>\n      <td>...</td>\n      <td>...</td>\n      <td>...</td>\n      <td>...</td>\n      <td>...</td>\n      <td>...</td>\n      <td>...</td>\n      <td>...</td>\n      <td>...</td>\n      <td>...</td>\n      <td>...</td>\n      <td>...</td>\n      <td>...</td>\n      <td>...</td>\n      <td>...</td>\n      <td>...</td>\n      <td>...</td>\n      <td>...</td>\n    </tr>\n    <tr>\n      <th>...</th>\n      <td>...</td>\n      <td>...</td>\n      <td>...</td>\n      <td>...</td>\n      <td>...</td>\n      <td>...</td>\n      <td>...</td>\n      <td>...</td>\n      <td>...</td>\n      <td>...</td>\n      <td>...</td>\n      <td>...</td>\n      <td>...</td>\n      <td>...</td>\n      <td>...</td>\n      <td>...</td>\n      <td>...</td>\n      <td>...</td>\n    </tr>\n    <tr>\n      <th></th>\n      <td>...</td>\n      <td>...</td>\n      <td>...</td>\n      <td>...</td>\n      <td>...</td>\n      <td>...</td>\n      <td>...</td>\n      <td>...</td>\n      <td>...</td>\n      <td>...</td>\n      <td>...</td>\n      <td>...</td>\n      <td>...</td>\n      <td>...</td>\n      <td>...</td>\n      <td>...</td>\n      <td>...</td>\n      <td>...</td>\n    </tr>\n    <tr>\n      <th></th>\n      <td>...</td>\n      <td>...</td>\n      <td>...</td>\n      <td>...</td>\n      <td>...</td>\n      <td>...</td>\n      <td>...</td>\n      <td>...</td>\n      <td>...</td>\n      <td>...</td>\n      <td>...</td>\n      <td>...</td>\n      <td>...</td>\n      <td>...</td>\n      <td>...</td>\n      <td>...</td>\n      <td>...</td>\n      <td>...</td>\n    </tr>\n  </tbody>\n</table>\n</div>\n<div>Dask Name: getitem, 32 tasks</div>"
     },
     "execution_count": 17,
     "metadata": {},
     "output_type": "execute_result"
    }
   ],
   "source": [
    "#columns from MRCONSO file in UMLS\n",
    "#note for this file I have to rename the AUI column to AUI2 - this is because it is necessary for final merge\n",
    "mrconso_columns = [\n",
    "    \"CUI\",\n",
    "    \"LAT\",\n",
    "    \"TS\",\n",
    "    \"LUI\",\n",
    "    \"STT\",\n",
    "    \"SUI\",\n",
    "    \"ISPREF\",\n",
    "    \"AUI2\",\n",
    "    \"SAUI\",\n",
    "    \"SCUI\",\n",
    "    \"SDUI\",\n",
    "    \"SAB\",\n",
    "    \"TTY\",\n",
    "    \"CODE\",\n",
    "    \"STR\",\n",
    "    \"SRL\",\n",
    "    \"SUPRESS\",\n",
    "    \"CVF\",\n",
    "]\n",
    "\n",
    "#dask_cudf can read in any tab delimited file with a similar command as pandas\n",
    "mrconso_iter = pd.read_csv(\n",
    "    \"/home/karl/PycharmProjects/doctorlingo/test_scripts/cwi-master/CWI_Sequence_Labeller/datasets/UMLS/MRCONSO.RRF\",\n",
    "    sep=\"|\",\n",
    "    names=mrconso_columns,\n",
    "    #chunksize=\"1 GB\"\n",
    ")\n",
    "mrconso_iter\n",
    "mrconso = mrconso_iter[mrconso_iter[\"LAT\"] == \"ENG\"]\n",
    "# mrconso = mrconso.map_partitions(lambda df: df.to_pandas())\n",
    "mrconso"
   ]
  },
  {
   "cell_type": "code",
   "execution_count": 10,
   "id": "7cbdd5fd",
   "metadata": {
    "execution": {
     "iopub.execute_input": "2021-07-14T03:29:18.364531Z",
     "iopub.status.busy": "2021-07-14T03:29:18.364307Z",
     "iopub.status.idle": "2021-07-14T03:29:18.645881Z",
     "shell.execute_reply": "2021-07-14T03:29:18.645247Z",
     "shell.execute_reply.started": "2021-07-14T03:29:18.364508Z"
    }
   },
   "outputs": [],
   "source": [
    "# below dataframe for short is mmmhdf\n",
    "merged_mrconso_mrrel_hypernymy_columns = [\n",
    "    \"CUI\",\n",
    "    \"STR\",\n",
    "    \"AUI\",\n",
    "    \"AUI2\"\n",
    "\n",
    "]\n",
    "\n",
    "\n",
    "mmmhdf = pd.read_csv(\n",
    "    \"mrconso_mrrel_hypernym_first_merge.csv\",\n",
    "    names=merged_mrconso_mrrel_hypernymy_columns,\n",
    "    chunksize=\"1 GB\"\n",
    ")\n",
    "\n",
    "\n",
    "# mrrel = mrrel.map_partitions(lambda df: df.to_pandas())\n",
    "\n"
   ]
  },
  {
   "cell_type": "code",
   "execution_count": 11,
   "id": "5e45a1b6",
   "metadata": {
    "execution": {
     "iopub.status.busy": "2021-07-14T03:31:22.320124Z",
     "iopub.status.idle": "2021-07-14T03:31:22.320640Z"
    }
   },
   "outputs": [],
   "source": [
    "mrconso = mrconso[[\"AUI2\", \"STR2\"]]\n",
    "#mrconso.compute()\n",
    "#mrconso = mrconso.drop_duplicates()\n",
    "#mrconso.compute()"
   ]
  },
  {
   "cell_type": "code",
   "execution_count": 12,
   "id": "3104c117",
   "metadata": {},
   "outputs": [],
   "source": [
    "#o_partitions = max(mmmhdf.npartitions, mrconso.npartitions)  * 2\n",
    "merged_df = mmmhdf.merge(mrconso, how=\"left\", on=\"AUI2\")\n"
   ]
  },
  {
   "cell_type": "code",
   "execution_count": 15,
   "outputs": [
    {
     "data": {
      "text/plain": "['/home/karl/PycharmProjects/pythonProject/buildNERhypernymy/mrconso_mrrel_hypernym_final_merge.csv']"
     },
     "execution_count": 15,
     "metadata": {},
     "output_type": "execute_result"
    }
   ],
   "source": [
    "#merged_df.compute()#.to_pandas()\n",
    "\n",
    "merged_df.to_csv('mrconso_mrrel_hypernym_final_merge.csv', sep='|', single_file=True)"
   ],
   "metadata": {
    "collapsed": false,
    "pycharm": {
     "name": "#%%\n"
    }
   }
  },
  {
   "cell_type": "code",
   "execution_count": null,
   "outputs": [],
   "source": [
    "\n",
    "\"\"\"\n",
    "\n",
    "Concatenated rows exceeds size_type range after merge operation[BUG]\n",
    "\n",
    "Solution:\n",
    "\n",
    "You are running into this issue because the output merge of small chunks may be too big (> 2,147,483,648) .\n",
    "\n",
    "This can happen if you have a lot of repeated keys as we repeat each row in the right table that matches the left table.\n",
    "See the below example for an explanation.\n",
    "\n",
    "Now mitigating this can be done in multiple ways :\n",
    "\n",
    "1. If one of the frames is a single partitions (For broadcast joints) :\n",
    "Repartition the multi partitioned table upfront into more partitions:\n",
    "\n",
    "## the right frame is a single partition\n",
    "assert ddf_2.npartitions == 1\n",
    "\n",
    "merged_df = ddf_1 = ddf_1.repartition(npartitions=ddf_1.npartitions*2)\n",
    "ddf_1.merge(ddf_2,how=inner)\n",
    "\n",
    "2. If both of them have multiple partitions (Hash-Join)\n",
    "Using npartitions: This argument controls the number of output partitions.\n",
    "\n",
    "o_partitions = max(ddf_1.npartitions, ddf_2.npartitions )*2\n",
    "merged_df = ddf_1.merge(ddf_2,npartitions= o_partitions,  how=inner)\n",
    "\n",
    "It's tough to know how to mitigate this error without more information\n",
    "like the number of left and right partitions but I hope that this still helps.\n",
    "\n",
    "https://www.gitmemory.com/issue/rapidsai/cudf/8182/834834910\n",
    "\n",
    "cudf memory error solutions:\n",
    "\n",
    "First, if output can be saved to a csv or parquet file as a dataframe\n",
    "Don't compute or to_pandas - just have final computations with to_csv\n",
    "This will allow it to pipe straight to storage instead of using all mem\n",
    "\n",
    "Try using RMM managed memory. \n",
    "You can enable that by setting the RMM allocator through a Dask client.run call:\n",
    "i.e: the preamble to this script\n",
    "\n",
    "client = Client(cluster)  # Sample client connecting to `cluster` object\n",
    "client.run(cudf.set_allocator, \"managed\")  # Uses managed memory instead of \"default\"\n",
    "By doing this, you'll be using CUDA unified memory, which will take care of moving data GPU<->CPU automatically when the GPU is running OOM.\n",
    "\n",
    "EDIT: If you're not using Dask, you can simply use cudf.set_allocator(\"managed\").\n",
    "\n",
    "https://docs.rapids.ai/api/dask-cuda/nightly/index.html\n",
    "https://dask-cuda.readthedocs.io/en/latest/specializations.html#spilling-from-device\n",
    "\"\"\""
   ],
   "metadata": {
    "collapsed": false,
    "pycharm": {
     "name": "#%%\n"
    }
   }
  }
 ],
 "metadata": {
  "kernelspec": {
   "display_name": "saturn (Python 3)",
   "language": "python",
   "name": "python3"
  },
  "language_info": {
   "codemirror_mode": {
    "name": "ipython",
    "version": 3
   },
   "file_extension": ".py",
   "mimetype": "text/x-python",
   "name": "python",
   "nbconvert_exporter": "python",
   "pygments_lexer": "ipython3",
   "version": "3.7.10"
  }
 },
 "nbformat": 4,
 "nbformat_minor": 5
}