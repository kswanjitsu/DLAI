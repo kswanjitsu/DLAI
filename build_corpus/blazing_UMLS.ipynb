{
 "cells": [
  {
   "cell_type": "markdown",
   "metadata": {
    "collapsed": true,
    "pycharm": {
     "name": "#%% md\n"
    }
   },
   "source": [
    "## This is a test file, I think it would be cool to build out blazing sql script like below for the full context of this type of search below. This can serve as a batch query to UMLS for any concept.\n",
    "\n",
    "https://www.nlm.nih.gov/research/umls/implementation_resources/query_diagrams/er1.html\n",
    "\n",
    "We could set up a TFIDF search tool that matches the best match search with any concept in MRCONSO and performs the SQL queries for that term."
   ]
  },
  {
   "cell_type": "code",
   "execution_count": null,
   "outputs": [],
   "source": [
    "import cudf as cd\n",
    "from blazingsql import BlazingContext"
   ],
   "metadata": {
    "collapsed": false,
    "pycharm": {
     "name": "#%%\n"
    }
   }
  },
  {
   "cell_type": "code",
   "execution_count": 3,
   "outputs": [
    {
     "name": "stdout",
     "output_type": "stream",
     "text": [
      "BlazingContext ready\n"
     ]
    }
   ],
   "source": [
    "bc = BlazingContext()"
   ],
   "metadata": {
    "collapsed": false,
    "pycharm": {
     "name": "#%%\n"
    }
   }
  },
  {
   "cell_type": "code",
   "execution_count": 4,
   "outputs": [
    {
     "data": {
      "text/plain": "               CUI  LAT TS        LUI STT        SUI ISPREF        AUI  SAUI  \\\n0         C0000005  ENG  P   L0000005  PF   S0007492      Y  A26634265  <NA>   \n1         C0000005  ENG  S   L0270109  PF   S0007491      Y  A26634266  <NA>   \n2         C0000005  FRE  P   L6220710  PF   S7133957      Y  A13433185  <NA>   \n3         C0000005  FRE  S   L6215648  PF   S7133916      Y  A27488794  <NA>   \n4         C0000005  FRE  S   L6215656  PF   S7133956      Y  A27614225  <NA>   \n...            ...  ... ..        ...  ..        ...    ...        ...   ...   \n16031097  C5441501  ENG  P  L16799616  PF  S20349256      Y  A32650879  <NA>   \n16031098  C5441502  ENG  P  L16799612  PF  S20349255      Y  A32650952  <NA>   \n16031099  C5441503  ENG  P  L16799615  PF  S20349254      Y  A32650646  <NA>   \n16031100  C5441504  ENG  P  L16799631  PF  S20349285      Y  A32651413  <NA>   \n16031101  C5441504  ENG  S  L16799634  PF  S20349284      Y  A32651409  <NA>   \n\n              SCUI     SDUI           SAB  TTY                 CODE  \\\n0         M0019694  D012711           MSH  PEP              D012711   \n1         M0019694  D012711           MSH   ET              D012711   \n2         M0019694  D012711        MSHFRE  PEP              D012711   \n3         M0019694  D012711        MSHFRE   ET              D012711   \n4         M0019694  D012711        MSHFRE   ET              D012711   \n...            ...      ...           ...  ...                  ...   \n16031097      <NA>     <NA>  CCSR_ICD10CM   SD               XXX000   \n16031098      <NA>     <NA>  CCSR_ICD10CM   SD               XXX111   \n16031099      <NA>     <NA>  CCSR_ICD10CM   SD               MUS010   \n16031100      <NA>     <NA>           SRC  VPT  V-MED-RT_2021_03_01   \n16031101      <NA>     <NA>           SRC  VAB  V-MED-RT_2021_03_01   \n\n                                                        STR  SRL SUPPRESS  \\\n0                            (131)I-Macroaggregated Albumin    0        N   \n1                                                (131)I-MAA    0        N   \n2             Macroagrégats d'albumine marquée à l'iode 131    3        N   \n3                                                 MAA-I 131    3        N   \n4         Macroagrégats d'albumine humaine marquée à l'i...    3        N   \n...                                                     ...  ...      ...   \n16031097                                   Unacceptable PDX    0        N   \n16031098                                   Unacceptable DX1    0        N   \n16031099            Musculoskeletal pain, not low back pain    0        N   \n16031100       Medication Reference Terminology, 2021_03_01    0        N   \n16031101                                  MED-RT_2021_03_01    0        N   \n\n            CVF  \n0         256.0  \n1         256.0  \n2          <NA>  \n3          <NA>  \n4          <NA>  \n...         ...  \n16031097   <NA>  \n16031098   <NA>  \n16031099   <NA>  \n16031100   <NA>  \n16031101   <NA>  \n\n[16031102 rows x 18 columns]",
      "text/html": "<div>\n<style scoped>\n    .dataframe tbody tr th:only-of-type {\n        vertical-align: middle;\n    }\n\n    .dataframe tbody tr th {\n        vertical-align: top;\n    }\n\n    .dataframe thead th {\n        text-align: right;\n    }\n</style>\n<table border=\"1\" class=\"dataframe\">\n  <thead>\n    <tr style=\"text-align: right;\">\n      <th></th>\n      <th>CUI</th>\n      <th>LAT</th>\n      <th>TS</th>\n      <th>LUI</th>\n      <th>STT</th>\n      <th>SUI</th>\n      <th>ISPREF</th>\n      <th>AUI</th>\n      <th>SAUI</th>\n      <th>SCUI</th>\n      <th>SDUI</th>\n      <th>SAB</th>\n      <th>TTY</th>\n      <th>CODE</th>\n      <th>STR</th>\n      <th>SRL</th>\n      <th>SUPPRESS</th>\n      <th>CVF</th>\n    </tr>\n  </thead>\n  <tbody>\n    <tr>\n      <th>0</th>\n      <td>C0000005</td>\n      <td>ENG</td>\n      <td>P</td>\n      <td>L0000005</td>\n      <td>PF</td>\n      <td>S0007492</td>\n      <td>Y</td>\n      <td>A26634265</td>\n      <td>&lt;NA&gt;</td>\n      <td>M0019694</td>\n      <td>D012711</td>\n      <td>MSH</td>\n      <td>PEP</td>\n      <td>D012711</td>\n      <td>(131)I-Macroaggregated Albumin</td>\n      <td>0</td>\n      <td>N</td>\n      <td>256.0</td>\n    </tr>\n    <tr>\n      <th>1</th>\n      <td>C0000005</td>\n      <td>ENG</td>\n      <td>S</td>\n      <td>L0270109</td>\n      <td>PF</td>\n      <td>S0007491</td>\n      <td>Y</td>\n      <td>A26634266</td>\n      <td>&lt;NA&gt;</td>\n      <td>M0019694</td>\n      <td>D012711</td>\n      <td>MSH</td>\n      <td>ET</td>\n      <td>D012711</td>\n      <td>(131)I-MAA</td>\n      <td>0</td>\n      <td>N</td>\n      <td>256.0</td>\n    </tr>\n    <tr>\n      <th>2</th>\n      <td>C0000005</td>\n      <td>FRE</td>\n      <td>P</td>\n      <td>L6220710</td>\n      <td>PF</td>\n      <td>S7133957</td>\n      <td>Y</td>\n      <td>A13433185</td>\n      <td>&lt;NA&gt;</td>\n      <td>M0019694</td>\n      <td>D012711</td>\n      <td>MSHFRE</td>\n      <td>PEP</td>\n      <td>D012711</td>\n      <td>Macroagrégats d'albumine marquée à l'iode 131</td>\n      <td>3</td>\n      <td>N</td>\n      <td>&lt;NA&gt;</td>\n    </tr>\n    <tr>\n      <th>3</th>\n      <td>C0000005</td>\n      <td>FRE</td>\n      <td>S</td>\n      <td>L6215648</td>\n      <td>PF</td>\n      <td>S7133916</td>\n      <td>Y</td>\n      <td>A27488794</td>\n      <td>&lt;NA&gt;</td>\n      <td>M0019694</td>\n      <td>D012711</td>\n      <td>MSHFRE</td>\n      <td>ET</td>\n      <td>D012711</td>\n      <td>MAA-I 131</td>\n      <td>3</td>\n      <td>N</td>\n      <td>&lt;NA&gt;</td>\n    </tr>\n    <tr>\n      <th>4</th>\n      <td>C0000005</td>\n      <td>FRE</td>\n      <td>S</td>\n      <td>L6215656</td>\n      <td>PF</td>\n      <td>S7133956</td>\n      <td>Y</td>\n      <td>A27614225</td>\n      <td>&lt;NA&gt;</td>\n      <td>M0019694</td>\n      <td>D012711</td>\n      <td>MSHFRE</td>\n      <td>ET</td>\n      <td>D012711</td>\n      <td>Macroagrégats d'albumine humaine marquée à l'i...</td>\n      <td>3</td>\n      <td>N</td>\n      <td>&lt;NA&gt;</td>\n    </tr>\n    <tr>\n      <th>...</th>\n      <td>...</td>\n      <td>...</td>\n      <td>...</td>\n      <td>...</td>\n      <td>...</td>\n      <td>...</td>\n      <td>...</td>\n      <td>...</td>\n      <td>...</td>\n      <td>...</td>\n      <td>...</td>\n      <td>...</td>\n      <td>...</td>\n      <td>...</td>\n      <td>...</td>\n      <td>...</td>\n      <td>...</td>\n      <td>...</td>\n    </tr>\n    <tr>\n      <th>16031097</th>\n      <td>C5441501</td>\n      <td>ENG</td>\n      <td>P</td>\n      <td>L16799616</td>\n      <td>PF</td>\n      <td>S20349256</td>\n      <td>Y</td>\n      <td>A32650879</td>\n      <td>&lt;NA&gt;</td>\n      <td>&lt;NA&gt;</td>\n      <td>&lt;NA&gt;</td>\n      <td>CCSR_ICD10CM</td>\n      <td>SD</td>\n      <td>XXX000</td>\n      <td>Unacceptable PDX</td>\n      <td>0</td>\n      <td>N</td>\n      <td>&lt;NA&gt;</td>\n    </tr>\n    <tr>\n      <th>16031098</th>\n      <td>C5441502</td>\n      <td>ENG</td>\n      <td>P</td>\n      <td>L16799612</td>\n      <td>PF</td>\n      <td>S20349255</td>\n      <td>Y</td>\n      <td>A32650952</td>\n      <td>&lt;NA&gt;</td>\n      <td>&lt;NA&gt;</td>\n      <td>&lt;NA&gt;</td>\n      <td>CCSR_ICD10CM</td>\n      <td>SD</td>\n      <td>XXX111</td>\n      <td>Unacceptable DX1</td>\n      <td>0</td>\n      <td>N</td>\n      <td>&lt;NA&gt;</td>\n    </tr>\n    <tr>\n      <th>16031099</th>\n      <td>C5441503</td>\n      <td>ENG</td>\n      <td>P</td>\n      <td>L16799615</td>\n      <td>PF</td>\n      <td>S20349254</td>\n      <td>Y</td>\n      <td>A32650646</td>\n      <td>&lt;NA&gt;</td>\n      <td>&lt;NA&gt;</td>\n      <td>&lt;NA&gt;</td>\n      <td>CCSR_ICD10CM</td>\n      <td>SD</td>\n      <td>MUS010</td>\n      <td>Musculoskeletal pain, not low back pain</td>\n      <td>0</td>\n      <td>N</td>\n      <td>&lt;NA&gt;</td>\n    </tr>\n    <tr>\n      <th>16031100</th>\n      <td>C5441504</td>\n      <td>ENG</td>\n      <td>P</td>\n      <td>L16799631</td>\n      <td>PF</td>\n      <td>S20349285</td>\n      <td>Y</td>\n      <td>A32651413</td>\n      <td>&lt;NA&gt;</td>\n      <td>&lt;NA&gt;</td>\n      <td>&lt;NA&gt;</td>\n      <td>SRC</td>\n      <td>VPT</td>\n      <td>V-MED-RT_2021_03_01</td>\n      <td>Medication Reference Terminology, 2021_03_01</td>\n      <td>0</td>\n      <td>N</td>\n      <td>&lt;NA&gt;</td>\n    </tr>\n    <tr>\n      <th>16031101</th>\n      <td>C5441504</td>\n      <td>ENG</td>\n      <td>S</td>\n      <td>L16799634</td>\n      <td>PF</td>\n      <td>S20349284</td>\n      <td>Y</td>\n      <td>A32651409</td>\n      <td>&lt;NA&gt;</td>\n      <td>&lt;NA&gt;</td>\n      <td>&lt;NA&gt;</td>\n      <td>SRC</td>\n      <td>VAB</td>\n      <td>V-MED-RT_2021_03_01</td>\n      <td>MED-RT_2021_03_01</td>\n      <td>0</td>\n      <td>N</td>\n      <td>&lt;NA&gt;</td>\n    </tr>\n  </tbody>\n</table>\n<p>16031102 rows × 18 columns</p>\n</div>"
     },
     "execution_count": 4,
     "metadata": {},
     "output_type": "execute_result"
    }
   ],
   "source": [
    "mrconso_columns = ['CUI','LAT','TS','LUI','STT','SUI','ISPREF','AUI','SAUI','SCUI','SDUI','SAB','TTY','CODE','STR','SRL','SUPPRESS','CVF']\n",
    "mrconsodf = cd.read_csv(\n",
    "    \"/home/karl/PycharmProjects/DLAI/datasets/UMLS/MRCONSO.RRF\",\n",
    "    sep=\"|\",\n",
    "    names=mrconso_columns,\n",
    "    #chunksize=\"1 GB\"\n",
    ")\n",
    "mrconsodf"
   ],
   "metadata": {
    "collapsed": false,
    "pycharm": {
     "name": "#%%\n"
    }
   }
  },
  {
   "cell_type": "code",
   "execution_count": 5,
   "outputs": [],
   "source": [
    "bc.create_table('mrconso', mrconsodf)"
   ],
   "metadata": {
    "collapsed": false,
    "pycharm": {
     "name": "#%%\n"
    }
   }
  },
  {
   "cell_type": "code",
   "execution_count": 9,
   "outputs": [
    {
     "data": {
      "text/plain": "        CUI  LAT TS        LUI STT        SUI ISPREF        AUI  SAUI  \\\n0  C0032344  CZE  P   L6773374  PF   S7883732      Y  A31565809  <NA>   \n1  C0032344  ENG  P   L1499424  PF   S1788418      Y   A1743876  <NA>   \n2  C0032344  ENG  S   L0032343  PF   S0101032      Y   A3879756  <NA>   \n3  C0032344  ENG  S   L0880432  PF   S7239546      Y  A12070487  <NA>   \n4  C0032344  ENG  S   L3121325  PF   S5830890      Y  A12092383  <NA>   \n5  C0032344  SWE  P  L16274244  PF  S19626257      Y  A31567951  <NA>   \n\n       SCUI     SDUI     SAB  TTY     CODE                STR  SRL SUPPRESS  \\\n0  M0030708  Q000506  MSHCZE   TQ  Q000506             otrava    3        N   \n1      <NA>     <NA>     MTH   PN   NOCODE  Poisoning aspects    0        N   \n2  M0030708  Q000506     MSH   TQ  Q000506          poisoning    0        N   \n3  M0030708  Q000506     MSH  QEV  Q000506               POIS    0        N   \n4  M0030708  Q000506     MSH  QAB  Q000506                 PO    0        N   \n5  M0030708  Q000506  MSHSWE   TQ  Q000506          poisoning    3        N   \n\n     CVF  \n0   <NA>  \n1  256.0  \n2  256.0  \n3   <NA>  \n4   <NA>  \n5   <NA>  ",
      "text/html": "<div>\n<style scoped>\n    .dataframe tbody tr th:only-of-type {\n        vertical-align: middle;\n    }\n\n    .dataframe tbody tr th {\n        vertical-align: top;\n    }\n\n    .dataframe thead th {\n        text-align: right;\n    }\n</style>\n<table border=\"1\" class=\"dataframe\">\n  <thead>\n    <tr style=\"text-align: right;\">\n      <th></th>\n      <th>CUI</th>\n      <th>LAT</th>\n      <th>TS</th>\n      <th>LUI</th>\n      <th>STT</th>\n      <th>SUI</th>\n      <th>ISPREF</th>\n      <th>AUI</th>\n      <th>SAUI</th>\n      <th>SCUI</th>\n      <th>SDUI</th>\n      <th>SAB</th>\n      <th>TTY</th>\n      <th>CODE</th>\n      <th>STR</th>\n      <th>SRL</th>\n      <th>SUPPRESS</th>\n      <th>CVF</th>\n    </tr>\n  </thead>\n  <tbody>\n    <tr>\n      <th>0</th>\n      <td>C0032344</td>\n      <td>CZE</td>\n      <td>P</td>\n      <td>L6773374</td>\n      <td>PF</td>\n      <td>S7883732</td>\n      <td>Y</td>\n      <td>A31565809</td>\n      <td>&lt;NA&gt;</td>\n      <td>M0030708</td>\n      <td>Q000506</td>\n      <td>MSHCZE</td>\n      <td>TQ</td>\n      <td>Q000506</td>\n      <td>otrava</td>\n      <td>3</td>\n      <td>N</td>\n      <td>&lt;NA&gt;</td>\n    </tr>\n    <tr>\n      <th>1</th>\n      <td>C0032344</td>\n      <td>ENG</td>\n      <td>P</td>\n      <td>L1499424</td>\n      <td>PF</td>\n      <td>S1788418</td>\n      <td>Y</td>\n      <td>A1743876</td>\n      <td>&lt;NA&gt;</td>\n      <td>&lt;NA&gt;</td>\n      <td>&lt;NA&gt;</td>\n      <td>MTH</td>\n      <td>PN</td>\n      <td>NOCODE</td>\n      <td>Poisoning aspects</td>\n      <td>0</td>\n      <td>N</td>\n      <td>256.0</td>\n    </tr>\n    <tr>\n      <th>2</th>\n      <td>C0032344</td>\n      <td>ENG</td>\n      <td>S</td>\n      <td>L0032343</td>\n      <td>PF</td>\n      <td>S0101032</td>\n      <td>Y</td>\n      <td>A3879756</td>\n      <td>&lt;NA&gt;</td>\n      <td>M0030708</td>\n      <td>Q000506</td>\n      <td>MSH</td>\n      <td>TQ</td>\n      <td>Q000506</td>\n      <td>poisoning</td>\n      <td>0</td>\n      <td>N</td>\n      <td>256.0</td>\n    </tr>\n    <tr>\n      <th>3</th>\n      <td>C0032344</td>\n      <td>ENG</td>\n      <td>S</td>\n      <td>L0880432</td>\n      <td>PF</td>\n      <td>S7239546</td>\n      <td>Y</td>\n      <td>A12070487</td>\n      <td>&lt;NA&gt;</td>\n      <td>M0030708</td>\n      <td>Q000506</td>\n      <td>MSH</td>\n      <td>QEV</td>\n      <td>Q000506</td>\n      <td>POIS</td>\n      <td>0</td>\n      <td>N</td>\n      <td>&lt;NA&gt;</td>\n    </tr>\n    <tr>\n      <th>4</th>\n      <td>C0032344</td>\n      <td>ENG</td>\n      <td>S</td>\n      <td>L3121325</td>\n      <td>PF</td>\n      <td>S5830890</td>\n      <td>Y</td>\n      <td>A12092383</td>\n      <td>&lt;NA&gt;</td>\n      <td>M0030708</td>\n      <td>Q000506</td>\n      <td>MSH</td>\n      <td>QAB</td>\n      <td>Q000506</td>\n      <td>PO</td>\n      <td>0</td>\n      <td>N</td>\n      <td>&lt;NA&gt;</td>\n    </tr>\n    <tr>\n      <th>5</th>\n      <td>C0032344</td>\n      <td>SWE</td>\n      <td>P</td>\n      <td>L16274244</td>\n      <td>PF</td>\n      <td>S19626257</td>\n      <td>Y</td>\n      <td>A31567951</td>\n      <td>&lt;NA&gt;</td>\n      <td>M0030708</td>\n      <td>Q000506</td>\n      <td>MSHSWE</td>\n      <td>TQ</td>\n      <td>Q000506</td>\n      <td>poisoning</td>\n      <td>3</td>\n      <td>N</td>\n      <td>&lt;NA&gt;</td>\n    </tr>\n  </tbody>\n</table>\n</div>"
     },
     "execution_count": 9,
     "metadata": {},
     "output_type": "execute_result"
    }
   ],
   "source": [
    "bc.sql(\"SELECT * FROM mrconso WHERE CUI = 'C0032344'\")"
   ],
   "metadata": {
    "collapsed": false,
    "pycharm": {
     "name": "#%%\n"
    }
   }
  },
  {
   "cell_type": "code",
   "execution_count": null,
   "outputs": [],
   "source": [],
   "metadata": {
    "collapsed": false,
    "pycharm": {
     "name": "#%%\n"
    }
   }
  }
 ],
 "metadata": {
  "kernelspec": {
   "display_name": "Python 3",
   "language": "python",
   "name": "python3"
  },
  "language_info": {
   "codemirror_mode": {
    "name": "ipython",
    "version": 2
   },
   "file_extension": ".py",
   "mimetype": "text/x-python",
   "name": "python",
   "nbconvert_exporter": "python",
   "pygments_lexer": "ipython2",
   "version": "2.7.6"
  }
 },
 "nbformat": 4,
 "nbformat_minor": 0
}