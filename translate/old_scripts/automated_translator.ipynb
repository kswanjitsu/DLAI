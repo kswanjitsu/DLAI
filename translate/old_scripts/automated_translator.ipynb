{
 "cells": [
  {
   "cell_type": "markdown",
   "metadata": {},
   "source": [
    "# Automated Interpretation of Medical Text\n",
    "This pipeline runs as follows:\n",
    "- Step 1. Identify complex words in a document with the CWI tool\n",
    "- Step 2. Then use spaCy, scispaCy to perform basic NLP tasks\n",
    "- Step 3. Iterate over tokens that are considered complex\n",
    "- Step 4. Find the hypernyms in WordNet that correspond to the identified complex words\n",
    "- Step 5. If the hypernym for a complex word doesn't exist in WordNet, then use our TFIDF search engine on the pre-built corpus hypernym tree from UMLS lookup file\n",
    "- Step 6. Replace complex words in the sentence with hypernyms\n",
    "- Step 7. Grade the readability of the pre-substitute and post-substituted document\n",
    "\n",
    "**The code uses and exemplifies each function from CWI in the `Complexity_labeller class`, from the CWI method first described in:**\n",
    "*Complex Word Identifier from the paper: Complex Word Identification as a Sequence Labelling Task, 2019,* Authors: Gooding, Sian and Kochmar, Ekaterina\n",
    "\n",
    "\n",
    "**This code uses a sequence labeling methods first described in:**\n",
    "*Semi-supervised multitask learning for sequence labeling, 2017,* Authors: Rei, Marek\n",
    "\n",
    "## Using the complex word sequence labeller\n",
    "In order to use the complex word models you must download the sequence labeller files available [here](https://github.com/marekrei/sequence-labeler), please cite both the sequence labeller paper and CWI sequence labelling paper if using these models for research.\n",
    "\n",
    "Additionally, the CWI method uses tensorflow < 2.0.0, so if you install from git source above, then you must open the labeler.py script and replace *import tensorflow* with the following:\n",
    "\n",
    "*import tensorflow.compat.v1 as tf*\n",
    "*tf.disable_v2_behavior()*\n",
    "\n",
    "Notes:\n",
    "- If you see warnings from TF this is because of the above, we are using TF >1.0.0 but <2.0.0, so it sees it as deprecated behavior\n",
    "- If you edit this script you must restart the cluster or else TF will break due to word embeddings already being present\n",
    "\n",
    "## There are two options when converting text to CoNLL-type tab-separated format:\n",
    "- convert_format_string, convert_format_token\n",
    "- Complexity_labeller.convert_format_string(model, 'You can convert a string like this')\n",
    "- Complexity_labeller.convert_format_token(model, ['You','can','convert','tokens','like','this'])\n",
    "\n",
    "## Once the text has been converted there are four methods to access complexity information:\n",
    "- `get_dataframe`, `get_bin_labels`, `get_prob_labels`\n",
    "\n",
    "### After identifying complex words with the CWI:\n",
    "**This script uses various tools from Explosion's spaCy and AllenAI's scispaCy in combination with wordnet to substitute complex words with their less complex hypernyms**"
   ]
  },
  {
   "cell_type": "code",
   "execution_count": 1,
   "metadata": {},
   "outputs": [
    {
     "name": "stdout",
     "output_type": "stream",
     "text": [
      "WARNING:tensorflow:From /home/karl/anaconda3/envs/rapids-21.08/lib/python3.7/site-packages/tensorflow/python/compat/v2_compat.py:96: disable_resource_variables (from tensorflow.python.ops.variable_scope) is deprecated and will be removed in a future version.\n",
      "Instructions for updating:\n",
      "non-resource variables are not supported in the long term\n"
     ]
    }
   ],
   "source": [
    "import sys\n",
    "sys.path.insert(0, './sequence-labeler-master')\n",
    "\n",
    "from complex_labeller import Complexity_labeller\n",
    "model_path = './cwi_seq.model'\n",
    "temp_path = './temp_file.txt'"
   ]
  },
  {
   "cell_type": "code",
   "execution_count": 2,
   "metadata": {},
   "outputs": [
    {
     "name": "stdout",
     "output_type": "stream",
     "text": [
      "WARNING:tensorflow:From ./sequence-labeler-master/labeler.py:148: bidirectional_dynamic_rnn (from tensorflow.python.ops.rnn) is deprecated and will be removed in a future version.\n",
      "Instructions for updating:\n",
      "Please use `keras.layers.Bidirectional(keras.layers.RNN(cell))`, which is equivalent to this API\n",
      "WARNING:tensorflow:From /home/karl/anaconda3/envs/rapids-21.08/lib/python3.7/site-packages/tensorflow/python/ops/rnn.py:447: dynamic_rnn (from tensorflow.python.ops.rnn) is deprecated and will be removed in a future version.\n",
      "Instructions for updating:\n",
      "Please use `keras.layers.RNN(cell)`, which is equivalent to this API\n",
      "WARNING:tensorflow:From /home/karl/anaconda3/envs/rapids-21.08/lib/python3.7/site-packages/tensorflow/python/keras/layers/legacy_rnn/rnn_cell_impl.py:981: calling Zeros.__init__ (from tensorflow.python.ops.init_ops) with dtype is deprecated and will be removed in a future version.\n",
      "Instructions for updating:\n",
      "Call initializer instance with the dtype argument instead of passing it to the constructor\n",
      "WARNING:tensorflow:From /home/karl/anaconda3/envs/rapids-21.08/lib/python3.7/site-packages/tensorflow/python/util/dispatch.py:201: calling dropout (from tensorflow.python.ops.nn_ops) with keep_prob is deprecated and will be removed in a future version.\n",
      "Instructions for updating:\n",
      "Please use `rate` instead of `keep_prob`. Rate should be set to `rate = 1 - keep_prob`.\n"
     ]
    },
    {
     "name": "stderr",
     "output_type": "stream",
     "text": [
      "/home/karl/anaconda3/envs/rapids-21.08/lib/python3.7/site-packages/tensorflow/python/keras/layers/legacy_rnn/rnn_cell_impl.py:903: UserWarning: `tf.nn.rnn_cell.LSTMCell` is deprecated and will be removed in a future version. This class is equivalent as `tf.keras.layers.LSTMCell`, and will be replaced by that in Tensorflow 2.0.\n",
      "  warnings.warn(\"`tf.nn.rnn_cell.LSTMCell` is deprecated and will be \"\n",
      "/home/karl/anaconda3/envs/rapids-21.08/lib/python3.7/site-packages/tensorflow/python/keras/engine/base_layer_v1.py:1727: UserWarning: `layer.add_variable` is deprecated and will be removed in a future version. Please use `layer.add_weight` method instead.\n",
      "  warnings.warn('`layer.add_variable` is deprecated and '\n",
      "/home/karl/anaconda3/envs/rapids-21.08/lib/python3.7/site-packages/tensorflow/python/keras/legacy_tf_layers/core.py:171: UserWarning: `tf.layers.dense` is deprecated and will be removed in a future version. Please use `tf.keras.layers.Dense` instead.\n",
      "  warnings.warn('`tf.layers.dense` is deprecated and '\n",
      "/home/karl/anaconda3/envs/rapids-21.08/lib/python3.7/site-packages/tensorflow/python/keras/engine/base_layer_v1.py:1719: UserWarning: `layer.apply` is deprecated and will be removed in a future version. Please use `layer.__call__` method instead.\n",
      "  warnings.warn('`layer.apply` is deprecated and '\n",
      "2021-08-29 09:26:22.252943: I tensorflow/core/platform/cpu_feature_guard.cc:142] This TensorFlow binary is optimized with oneAPI Deep Neural Network Library (oneDNN) to use the following CPU instructions in performance-critical operations:  SSE4.1 SSE4.2 AVX AVX2 FMA\n",
      "To enable them in other operations, rebuild TensorFlow with the appropriate compiler flags.\n",
      "2021-08-29 09:26:22.255264: I tensorflow/core/common_runtime/process_util.cc:146] Creating new thread pool with default inter op setting: 2. Tune using inter_op_parallelism_threads for best performance.\n",
      "2021-08-29 09:26:22.278296: I tensorflow/compiler/mlir/mlir_graph_optimization_pass.cc:196] None of the MLIR optimization passes are enabled (registered 0 passes)\n",
      "2021-08-29 09:26:22.312521: I tensorflow/core/platform/profile_utils/cpu_utils.cc:112] CPU Frequency: 3792965000 Hz\n"
     ]
    }
   ],
   "source": [
    "model = Complexity_labeller(model_path, temp_path)"
   ]
  },
  {
   "cell_type": "code",
   "execution_count": 3,
   "metadata": {},
   "outputs": [],
   "source": [
    "#Converting example sentence/document\n",
    "test_document = 'strategies used for regulating blood glucose levels. such strategies include administration of insulin; dietary modification; and exercise. \"'\n",
    "Complexity_labeller.convert_format_string(model,test_document)"
   ]
  },
  {
   "cell_type": "code",
   "metadata": {
    "pycharm": {
     "name": "#%%\n"
    }
   },
   "source": [
    "#The `get_dataframe` method returns a dataframe containing the original tokenized sentence, binary complexity labels and complex class probabilities.\n",
    "#If a word recieves a binary label = 1, it has been classified as a complex word.\n",
    "dataframe = Complexity_labeller.get_dataframe(model)\n",
    "\n",
    "#Access binary labeling information from the dataframe format:\n",
    "cw_list = list(zip(dataframe['sentences'].values[0],dataframe['labels'].values[0],dataframe['probs'].values[0]))\n",
    "\n",
    "#get_bin_labels returns the binary complexity labels for the input\n",
    "#bin_label_list = Complexity_labeller.get_bin_labels(model)\n",
    "\n",
    "#The `get_prob_labels` method returns the probability of each token belonging to the complex class.\n",
    "#prob_label_list = Complexity_labeller.get_prob_labels(model)\n"
   ],
   "execution_count": 4,
   "outputs": []
  },
  {
   "cell_type": "code",
   "execution_count": 5,
   "outputs": [
    {
     "data": {
      "text/plain": "   index                                          sentences  \\\n0      0  [strategies, used, for, regulating, blood, glu...   \n\n                                              labels  \\\n0  [1, 0, 0, 1, 0, 1, 0, 0, 0, 1, 0, 1, 0, 1, 0, ...   \n\n                                               probs  \n0  [[0.087280236, 0.9127197], [0.99852604, 0.0014...  ",
      "text/html": "<div>\n<style scoped>\n    .dataframe tbody tr th:only-of-type {\n        vertical-align: middle;\n    }\n\n    .dataframe tbody tr th {\n        vertical-align: top;\n    }\n\n    .dataframe thead th {\n        text-align: right;\n    }\n</style>\n<table border=\"1\" class=\"dataframe\">\n  <thead>\n    <tr style=\"text-align: right;\">\n      <th></th>\n      <th>index</th>\n      <th>sentences</th>\n      <th>labels</th>\n      <th>probs</th>\n    </tr>\n  </thead>\n  <tbody>\n    <tr>\n      <th>0</th>\n      <td>0</td>\n      <td>[strategies, used, for, regulating, blood, glu...</td>\n      <td>[1, 0, 0, 1, 0, 1, 0, 0, 0, 1, 0, 1, 0, 1, 0, ...</td>\n      <td>[[0.087280236, 0.9127197], [0.99852604, 0.0014...</td>\n    </tr>\n  </tbody>\n</table>\n</div>"
     },
     "execution_count": 5,
     "metadata": {},
     "output_type": "execute_result"
    }
   ],
   "source": [
    "dataframe"
   ],
   "metadata": {
    "collapsed": false,
    "pycharm": {
     "name": "#%%\n"
    }
   }
  },
  {
   "cell_type": "code",
   "execution_count": 6,
   "outputs": [
    {
     "data": {
      "text/plain": "[('strategies', 1, array([0.08728024, 0.9127197 ], dtype=float32)),\n ('used', 0, array([0.99852604, 0.00147404], dtype=float32)),\n ('for', 0, array([9.9995494e-01, 4.5058394e-05], dtype=float32)),\n ('regulating', 1, array([0.0708539, 0.9291461], dtype=float32)),\n ('blood', 0, array([0.99519855, 0.00480145], dtype=float32)),\n ('glucose', 1, array([0.45347735, 0.5465227 ], dtype=float32)),\n ('levels', 0, array([0.961756  , 0.03824396], dtype=float32)),\n ('.', 0, array([9.9996638e-01, 3.3573986e-05], dtype=float32)),\n ('such', 0, array([9.995981e-01, 4.019722e-04], dtype=float32)),\n ('strategies', 1, array([0.11672881, 0.88327116], dtype=float32)),\n ('include', 0, array([0.9947866 , 0.00521339], dtype=float32)),\n ('administration', 1, array([0.05484764, 0.94515234], dtype=float32)),\n ('of', 0, array([9.9995613e-01, 4.3843611e-05], dtype=float32)),\n ('insulin', 1, array([0.40310553, 0.59689444], dtype=float32)),\n (';', 0, array([9.9995375e-01, 4.6290221e-05], dtype=float32)),\n ('dietary', 0, array([0.53336245, 0.46663758], dtype=float32)),\n ('modification', 1, array([0.1137644, 0.8862356], dtype=float32)),\n (';', 0, array([9.9995530e-01, 4.4646447e-05], dtype=float32)),\n ('and', 0, array([9.9991834e-01, 8.1646380e-05], dtype=float32)),\n ('exercise.', 1, array([0.07474865, 0.9252513 ], dtype=float32)),\n ('``', 1, array([0.36614767, 0.63385236], dtype=float32))]"
     },
     "execution_count": 6,
     "metadata": {},
     "output_type": "execute_result"
    }
   ],
   "source": [
    "cw_list\n",
    "\n",
    "#prob_label_list\n",
    "#bin_label_list"
   ],
   "metadata": {
    "collapsed": false,
    "pycharm": {
     "name": "#%%\n"
    }
   }
  },
  {
   "cell_type": "code",
   "execution_count": 7,
   "outputs": [],
   "source": [
    "import scispacy\n",
    "import spacy\n",
    "nlp_med = spacy.load(\"en_core_sci_scibert\")\n",
    "doc_med = nlp_med(test_document)\n",
    "\n",
    "\n"
   ],
   "metadata": {
    "collapsed": false,
    "pycharm": {
     "name": "#%%\n"
    }
   }
  },
  {
   "cell_type": "code",
   "execution_count": 8,
   "outputs": [],
   "source": [
    "from nltk.corpus import wordnet\n",
    "from nltk.corpus import wordnet as wn"
   ],
   "metadata": {
    "collapsed": false,
    "pycharm": {
     "name": "#%%\n"
    }
   }
  },
  {
   "cell_type": "code",
   "execution_count": 9,
   "outputs": [
    {
     "name": "stdout",
     "output_type": "stream",
     "text": [
      "\n",
      "\n",
      "token:  strategies\n",
      "strategies\n",
      "Synset('scheme.n.01')\n",
      "plan_of_actio\n",
      "plan_of_actio used for regulating blood glucose levels. such plan_of_actio include administration of insulin; dietary modification; and exercise. \"\n",
      "-------\n",
      "\n",
      "\n",
      "token:  regulating blood glucose levels\n",
      "regulating\n",
      "Synset('regulation.n.06')\n",
      "control.n.05\n",
      "plan_of_actio used for control.n.05 blood glucose levels. such plan_of_actio include administration of insulin; dietary modification; and exercise. \"\n",
      "-------\n",
      "\n",
      "\n",
      "token:  administration\n",
      "administration\n",
      "Synset('administration.n.01')\n",
      "management\n",
      "plan_of_actio used for control.n.05 blood glucose levels. such plan_of_actio include management of insulin; dietary modification; and exercise. \"\n",
      "-------\n",
      "\n",
      "\n",
      "token:  insulin\n",
      "\n",
      "\n",
      "token:  dietary modification\n",
      "\n",
      "\n",
      "token:  exercise\n"
     ]
    }
   ],
   "source": [
    "new_document = test_document\n",
    "for token in doc_med.ents:\n",
    "    token_string = str(token)\n",
    "    token_string_list = token_string.split(' ')\n",
    "    print('\\n')\n",
    "    print('token: ', token)\n",
    "\n",
    "\n",
    "    for i in cw_list:\n",
    "        cw = i[0]\n",
    "        cw_bin_complexity = i[1]\n",
    "        cw_prob_complexity_1 = i[2]\n",
    "        cw_prob_complexity_2 = str(cw_prob_complexity_1[1])\n",
    "        cw_prob_complexity_3 = float(cw_prob_complexity_2)\n",
    "        #print(cw_bin_complexity_3.)\n",
    "\n",
    "        if cw in token_string_list and cw_bin_complexity==1 and cw_prob_complexity_3 >= 0.9:\n",
    "            print(cw)\n",
    "            token2 = wn.synsets(cw)\n",
    "            try:\n",
    "                print(token2[0])\n",
    "                hypernym = token2[0].hypernyms()\n",
    "                hypernym = str(hypernym).split(\"'\")[1].strip(\".n.01\")\n",
    "                print(hypernym)\n",
    "                new_document = new_document.replace(cw, hypernym)\n",
    "                print(new_document)\n",
    "                print('-------')\n",
    "            except:\n",
    "                print('no synset')\n",
    "                print('-------')\n",
    "\n",
    "\n",
    "#print(doc_med.ents)\n",
    "#for token in doc_med.ents:\n",
    "#    print(token)"
   ],
   "metadata": {
    "collapsed": false,
    "pycharm": {
     "name": "#%%\n"
    }
   }
  },
  {
   "cell_type": "code",
   "execution_count": 11,
   "outputs": [
    {
     "data": {
      "text/plain": "<readability_v_ks.ReadabilityComponent at 0x7f49fb81d510>"
     },
     "execution_count": 11,
     "metadata": {},
     "output_type": "execute_result"
    }
   ],
   "source": [
    "import readability_v_ks\n",
    "nlp_read = readability_v_ks.spacy.load(\"en_core_web_sm\")\n",
    "nlp_read.add_pipe('readability')\n"
   ],
   "metadata": {
    "collapsed": false,
    "pycharm": {
     "name": "#%%\n"
    }
   }
  },
  {
   "cell_type": "code",
   "execution_count": 12,
   "outputs": [
    {
     "name": "stdout",
     "output_type": "stream",
     "text": [
      "strategies used for regulating blood glucose levels. such strategies include administration of insulin; dietary modification; and exercise. \"\n",
      "16.183823529411768\n",
      "-5.8277941176470165\n"
     ]
    }
   ],
   "source": [
    "print(test_document)\n",
    "doc_med = nlp_read(test_document)\n",
    "print(doc_med._.flesch_kincaid_grade_level)\n",
    "print(doc_med._.flesch_kincaid_reading_ease)\n"
   ],
   "metadata": {
    "collapsed": false,
    "pycharm": {
     "name": "#%%\n"
    }
   }
  },
  {
   "cell_type": "code",
   "execution_count": 13,
   "outputs": [
    {
     "name": "stdout",
     "output_type": "stream",
     "text": [
      "plan_of_actio used for control.n.05 blood glucose levels. such plan_of_actio include management of insulin; dietary modification; and exercise. \"\n",
      "13.407352941176473\n",
      "14.07808823529416\n"
     ]
    }
   ],
   "source": [
    "print(new_document)\n",
    "doc_new = nlp_read(new_document)\n",
    "print(doc_new._.flesch_kincaid_grade_level)\n",
    "print(doc_new._.flesch_kincaid_reading_ease)"
   ],
   "metadata": {
    "collapsed": false,
    "pycharm": {
     "name": "#%%\n"
    }
   }
  },
  {
   "cell_type": "code",
   "execution_count": null,
   "outputs": [],
   "source": [],
   "metadata": {
    "collapsed": false,
    "pycharm": {
     "name": "#%%\n"
    }
   }
  }
 ],
 "metadata": {
  "kernelspec": {
   "display_name": "Python 3",
   "language": "python",
   "name": "python3"
  },
  "language_info": {
   "codemirror_mode": {
    "name": "ipython",
    "version": 3
   },
   "file_extension": ".py",
   "mimetype": "text/x-python",
   "name": "python",
   "nbconvert_exporter": "python",
   "pygments_lexer": "ipython3",
   "version": "3.6.0"
  }
 },
 "nbformat": 4,
 "nbformat_minor": 2
}